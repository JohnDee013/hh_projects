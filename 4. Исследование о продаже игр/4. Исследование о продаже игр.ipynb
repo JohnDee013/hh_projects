{
 "cells": [
  {
   "cell_type": "markdown",
   "metadata": {},
   "source": [
    "# Исследование о продаже игр\n",
    "\n",
    "Вы работаете в интернет-магазине «Стримчик», который продаёт по всему миру компьютерные игры. Из открытых источников доступны исторические данные о продажах игр, оценки пользователей и экспертов, жанры и платформы (например, Xbox или PlayStation). Вам нужно выявить определяющие успешность игры закономерности. Это позволит сделать ставку на потенциально популярный продукт и спланировать рекламные кампании.\n",
    "Перед вами данные до 2016 года. Представим, что сейчас декабрь 2016 г., и вы планируете кампанию на 2017-й. Нужно отработать принцип работы с данными. Неважно, прогнозируете ли вы продажи на 2017 год по данным 2016-го или же 2027-й — по данным 2026 года.\n",
    "В наборе данных попадается аббревиатура ESRB (Entertainment Software Rating Board) — это ассоциация, определяющая возрастной рейтинг компьютерных игр. ESRB оценивает игровой контент и присваивает ему подходящую возрастную категорию, например, «Для взрослых», «Для детей младшего возраста» или «Для подростков».\n",
    "Инструкция по выполнению проекта"
   ]
  },
  {
   "cell_type": "markdown",
   "metadata": {},
   "source": [
    "**Цель исследования** — проверим 2 гипотезы:\n",
    "\n",
    "Средние пользовательские рейтинги платформ Xbox One и PC одинаковые;\n",
    "\n",
    "Средние пользовательские рейтинги жанров Action (англ. «действие», экшен-игры) и Sports (англ. «спортивные соревнования») разные.\n",
    "\n",
    "**Ход исследования**\n",
    "\n",
    "Данные об играх мы получим из файла `/datasets/games.csv`. О качестве данных ничего не известно. Поэтому перед проверкой гипотез понадобится обзор данных. \n",
    "\n",
    "Мы проверим данные на ошибки и оценим их влияние на исследование. Затем, на этапе предобработки мы поищем возможность исправить самые критичные ошибки данных.Так же проведём анализ данных, выявим закономерности и напишем общий вывод.\n",
    " \n",
    "Таким образом, исследование пройдёт в 5 этапов:\n",
    " 1. Обзор данных.\n",
    " 2. Предобработка данных.\n",
    " 3. Исследовательский анализ данных.\n",
    " 4. Проверка гипотез.\n",
    " 5. Вывод.\n"
   ]
  },
  {
   "cell_type": "markdown",
   "metadata": {},
   "source": [
    "###  Открываем данные"
   ]
  },
  {
   "cell_type": "markdown",
   "metadata": {},
   "source": [
    "####  Импортируем библиотеки"
   ]
  },
  {
   "cell_type": "code",
   "execution_count": 1,
   "metadata": {},
   "outputs": [],
   "source": [
    "import pandas as pd  \n",
    "import matplotlib.pyplot as plt\n",
    "import seaborn as sns \n",
    "from scipy import stats as st"
   ]
  },
  {
   "cell_type": "markdown",
   "metadata": {},
   "source": [
    "#### Откроем файл с данными и изучим общую информацию "
   ]
  },
  {
   "cell_type": "code",
   "execution_count": 2,
   "metadata": {},
   "outputs": [],
   "source": [
    "games = pd.read_csv('/datasets/games.csv')"
   ]
  },
  {
   "cell_type": "markdown",
   "metadata": {},
   "source": [
    "#### Выводим первые 30 строк датафрейма games"
   ]
  },
  {
   "cell_type": "code",
   "execution_count": 3,
   "metadata": {
    "scrolled": true
   },
   "outputs": [
    {
     "name": "stdout",
     "output_type": "stream",
     "text": [
      "                                            Name Platform  Year_of_Release  \\\n",
      "0                                     Wii Sports      Wii           2006.0   \n",
      "1                              Super Mario Bros.      NES           1985.0   \n",
      "2                                 Mario Kart Wii      Wii           2008.0   \n",
      "3                              Wii Sports Resort      Wii           2009.0   \n",
      "4                       Pokemon Red/Pokemon Blue       GB           1996.0   \n",
      "5                                         Tetris       GB           1989.0   \n",
      "6                          New Super Mario Bros.       DS           2006.0   \n",
      "7                                       Wii Play      Wii           2006.0   \n",
      "8                      New Super Mario Bros. Wii      Wii           2009.0   \n",
      "9                                      Duck Hunt      NES           1984.0   \n",
      "10                                    Nintendogs       DS           2005.0   \n",
      "11                                 Mario Kart DS       DS           2005.0   \n",
      "12                   Pokemon Gold/Pokemon Silver       GB           1999.0   \n",
      "13                                       Wii Fit      Wii           2007.0   \n",
      "14                            Kinect Adventures!     X360           2010.0   \n",
      "15                                  Wii Fit Plus      Wii           2009.0   \n",
      "16                            Grand Theft Auto V      PS3           2013.0   \n",
      "17                 Grand Theft Auto: San Andreas      PS2           2004.0   \n",
      "18                             Super Mario World     SNES           1990.0   \n",
      "19  Brain Age: Train Your Brain in Minutes a Day       DS           2005.0   \n",
      "20                 Pokemon Diamond/Pokemon Pearl       DS           2006.0   \n",
      "21                              Super Mario Land       GB           1989.0   \n",
      "22                           Super Mario Bros. 3      NES           1988.0   \n",
      "23                            Grand Theft Auto V     X360           2013.0   \n",
      "24                   Grand Theft Auto: Vice City      PS2           2002.0   \n",
      "25                 Pokemon Ruby/Pokemon Sapphire      GBA           2002.0   \n",
      "26   Brain Age 2: More Training in Minutes a Day       DS           2005.0   \n",
      "27                   Pokemon Black/Pokemon White       DS           2010.0   \n",
      "28                        Gran Turismo 3: A-Spec      PS2           2001.0   \n",
      "29                Call of Duty: Modern Warfare 3     X360           2011.0   \n",
      "\n",
      "           Genre  NA_sales  EU_sales  JP_sales  Other_sales  Critic_Score  \\\n",
      "0         Sports     41.36     28.96      3.77         8.45          76.0   \n",
      "1       Platform     29.08      3.58      6.81         0.77           NaN   \n",
      "2         Racing     15.68     12.76      3.79         3.29          82.0   \n",
      "3         Sports     15.61     10.93      3.28         2.95          80.0   \n",
      "4   Role-Playing     11.27      8.89     10.22         1.00           NaN   \n",
      "5         Puzzle     23.20      2.26      4.22         0.58           NaN   \n",
      "6       Platform     11.28      9.14      6.50         2.88          89.0   \n",
      "7           Misc     13.96      9.18      2.93         2.84          58.0   \n",
      "8       Platform     14.44      6.94      4.70         2.24          87.0   \n",
      "9        Shooter     26.93      0.63      0.28         0.47           NaN   \n",
      "10    Simulation      9.05     10.95      1.93         2.74           NaN   \n",
      "11        Racing      9.71      7.47      4.13         1.90          91.0   \n",
      "12  Role-Playing      9.00      6.18      7.20         0.71           NaN   \n",
      "13        Sports      8.92      8.03      3.60         2.15          80.0   \n",
      "14          Misc     15.00      4.89      0.24         1.69          61.0   \n",
      "15        Sports      9.01      8.49      2.53         1.77          80.0   \n",
      "16        Action      7.02      9.09      0.98         3.96          97.0   \n",
      "17        Action      9.43      0.40      0.41        10.57          95.0   \n",
      "18      Platform     12.78      3.75      3.54         0.55           NaN   \n",
      "19          Misc      4.74      9.20      4.16         2.04          77.0   \n",
      "20  Role-Playing      6.38      4.46      6.04         1.36           NaN   \n",
      "21      Platform     10.83      2.71      4.18         0.42           NaN   \n",
      "22      Platform      9.54      3.44      3.84         0.46           NaN   \n",
      "23        Action      9.66      5.14      0.06         1.41          97.0   \n",
      "24        Action      8.41      5.49      0.47         1.78          95.0   \n",
      "25  Role-Playing      6.06      3.90      5.38         0.50           NaN   \n",
      "26        Puzzle      3.43      5.35      5.32         1.18          77.0   \n",
      "27  Role-Playing      5.51      3.17      5.65         0.80           NaN   \n",
      "28        Racing      6.85      5.09      1.87         1.16          95.0   \n",
      "29       Shooter      9.04      4.24      0.13         1.32          88.0   \n",
      "\n",
      "   User_Score Rating  \n",
      "0           8      E  \n",
      "1         NaN    NaN  \n",
      "2         8.3      E  \n",
      "3           8      E  \n",
      "4         NaN    NaN  \n",
      "5         NaN    NaN  \n",
      "6         8.5      E  \n",
      "7         6.6      E  \n",
      "8         8.4      E  \n",
      "9         NaN    NaN  \n",
      "10        NaN    NaN  \n",
      "11        8.6      E  \n",
      "12        NaN    NaN  \n",
      "13        7.7      E  \n",
      "14        6.3      E  \n",
      "15        7.4      E  \n",
      "16        8.2      M  \n",
      "17          9      M  \n",
      "18        NaN    NaN  \n",
      "19        7.9      E  \n",
      "20        NaN    NaN  \n",
      "21        NaN    NaN  \n",
      "22        NaN    NaN  \n",
      "23        8.1      M  \n",
      "24        8.7      M  \n",
      "25        NaN    NaN  \n",
      "26        7.1      E  \n",
      "27        NaN    NaN  \n",
      "28        8.4      E  \n",
      "29        3.4      M  \n"
     ]
    }
   ],
   "source": [
    "print(games.head(30))"
   ]
  },
  {
   "cell_type": "markdown",
   "metadata": {},
   "source": [
    "###  Подготaвливaем данные"
   ]
  },
  {
   "cell_type": "markdown",
   "metadata": {},
   "source": [
    "#### Заменим названия столбцов (приведем к нижнему регистру)"
   ]
  },
  {
   "cell_type": "code",
   "execution_count": 4,
   "metadata": {},
   "outputs": [],
   "source": [
    "games.columns = ['name', 'platform', 'year_of_release', 'genre', 'na_sales', 'eu_sales', 'jp_sales', 'other_sales', 'critic_score', 'user_score', 'rating']\n"
   ]
  },
  {
   "cell_type": "markdown",
   "metadata": {},
   "source": [
    "#### Преобразуем данные в нужный тип и заполним пропуски"
   ]
  },
  {
   "cell_type": "code",
   "execution_count": 5,
   "metadata": {},
   "outputs": [
    {
     "name": "stdout",
     "output_type": "stream",
     "text": [
      "<class 'pandas.core.frame.DataFrame'>\n",
      "RangeIndex: 16715 entries, 0 to 16714\n",
      "Data columns (total 11 columns):\n",
      " #   Column           Non-Null Count  Dtype  \n",
      "---  ------           --------------  -----  \n",
      " 0   name             16713 non-null  object \n",
      " 1   platform         16715 non-null  object \n",
      " 2   year_of_release  16446 non-null  float64\n",
      " 3   genre            16713 non-null  object \n",
      " 4   na_sales         16715 non-null  float64\n",
      " 5   eu_sales         16715 non-null  float64\n",
      " 6   jp_sales         16715 non-null  float64\n",
      " 7   other_sales      16715 non-null  float64\n",
      " 8   critic_score     8137 non-null   float64\n",
      " 9   user_score       10014 non-null  object \n",
      " 10  rating           9949 non-null   object \n",
      "dtypes: float64(6), object(5)\n",
      "memory usage: 1.4+ MB\n",
      "name                  2\n",
      "platform              0\n",
      "year_of_release     269\n",
      "genre                 2\n",
      "na_sales              0\n",
      "eu_sales              0\n",
      "jp_sales              0\n",
      "other_sales           0\n",
      "critic_score       8578\n",
      "user_score         6701\n",
      "rating             6766\n",
      "dtype: int64\n"
     ]
    }
   ],
   "source": [
    "games.info() # выводим тип данных \n",
    "print(games.isna().sum()) # выводим количество пропусков\n",
    "\n",
    "games.fillna({\"genre\" : \"-\"}, inplace=True) # заменим пропущенные значения на прочерк\n",
    " \n",
    "games.dropna(subset = ['name', 'year_of_release'], inplace = True) # удаляем строки с пропусками в столбцах\n",
    "\n",
    "import numpy as np #импортируем библиотеку\n",
    "\n",
    "games['user_score'] = games['user_score'].replace('tbd', np.nan, regex=True).astype('float64') #Заменим tbd на NaN и заменим тип с object na float\n"
   ]
  },
  {
   "cell_type": "code",
   "execution_count": 6,
   "metadata": {},
   "outputs": [
    {
     "name": "stdout",
     "output_type": "stream",
     "text": [
      "5018\n",
      "16413\n",
      "16407\n",
      "16432\n",
      "16043\n",
      "16137\n",
      "16200\n",
      "16289\n",
      "16362\n",
      "16348\n",
      "16435\n"
     ]
    }
   ],
   "source": [
    "# выводим количество явных дубликатов\n",
    "print(games['name'].duplicated().sum())\n",
    "print(games['platform'].duplicated().sum())\n",
    "print(games['year_of_release'].duplicated().sum())\n",
    "print(games['genre'].duplicated().sum())\n",
    "print(games['na_sales'].duplicated().sum())\n",
    "print(games['eu_sales'].duplicated().sum())\n",
    "print(games['jp_sales'].duplicated().sum())\n",
    "print(games['other_sales'].duplicated().sum())\n",
    "print(games['critic_score'].duplicated().sum())\n",
    "print(games['user_score'].duplicated().sum())\n",
    "print(games['rating'].duplicated().sum())"
   ]
  },
  {
   "cell_type": "markdown",
   "metadata": {},
   "source": [
    "В столбце **user_score** мы встретили аббревиатуру **«tbd»** которая расшифровывается как **«не определено»**, возможно игра ещё не получила достаточно оценок, тогда заменим эти значения на **NaN**, так же поменяли тип данных нa **float64** для дальнейшего анализа. Посчитали количество явных дубликатов для каждого столбца. В столбце **name и year_of_release** удалили пропуски, так как их менее 5%. Столбцы **critic_score и rating** оставляем как есть, так как при замене могут исказится данные. В столбце **genre** мы поставили прочерки, так как по названию игры мы не можем определить в какой категории игра. В целом интересующие нам данные приведены в порядок"
   ]
  },
  {
   "cell_type": "markdown",
   "metadata": {},
   "source": [
    "#### Посчитаем суммарные продажи во всех регионах и запишем их в отдельный столбец."
   ]
  },
  {
   "cell_type": "code",
   "execution_count": 7,
   "metadata": {},
   "outputs": [],
   "source": [
    "games['total_sales'] = games['na_sales'] + games['eu_sales'] + games['jp_sales'] + games['other_sales']"
   ]
  },
  {
   "cell_type": "markdown",
   "metadata": {},
   "source": [
    "### Проведем исследовательский анализ данных"
   ]
  },
  {
   "cell_type": "markdown",
   "metadata": {},
   "source": [
    "#### Посмотрим, сколько игр выпускалось в разные годы. Важны ли данные за все периоды?"
   ]
  },
  {
   "cell_type": "code",
   "execution_count": 8,
   "metadata": {},
   "outputs": [
    {
     "data": {
      "text/plain": [
       "<matplotlib.legend.Legend at 0x7ff4b7d73f10>"
      ]
     },
     "execution_count": 8,
     "metadata": {},
     "output_type": "execute_result"
    },
    {
     "data": {
      "image/png": "[encoded data removed]",
      "text/plain": [
       "<Figure size 864x432 with 1 Axes>"
      ]
     },
     "metadata": {
      "needs_background": "light"
     },
     "output_type": "display_data"
    }
   ],
   "source": [
    "games_on_period = games.pivot_table(index='year_of_release', values='name', aggfunc='count') #считаем  выпуск игр за предоставленный период\n",
    "plt.figure(figsize=(12,6)) #строим линейный график\n",
    "sns.lineplot(data=games_on_period) \n",
    "plt.title(\"Количество игр выпускаемые в разные года\")\n",
    "plt.xlabel(\"Год выпуска\")\n",
    "plt.ylabel(\"Количество выпущенных игр\")\n",
    "plt.legend('')"
   ]
  },
  {
   "cell_type": "markdown",
   "metadata": {},
   "source": [
    "Из графика мы видим, что **количество выпускаемых игр резко возрастает с 1990 года, спад мы наблюдаем с 2009 года.** Максимум было выпущено около 1400 игр в 2008 и 2009 году соотвественно.Раньше мы могли заметить, что игры разрабатывались с возможностями консолей, ПК. Спад происходит из-за того, что к играм стало больше требований например к геймплею, текстурам, ИИ и др., тем самым увеличилось время создания игр которые соотвествуют современным реалиям потребителя"
   ]
  },
  {
   "cell_type": "markdown",
   "metadata": {},
   "source": [
    "#### Посмотрим, как менялись продажи по платформам. Выберем платформы с наибольшими суммарными продажами и построим распределение по годам. За какой характерный срок появляются новые и исчезают старые платформы?"
   ]
  },
  {
   "cell_type": "markdown",
   "metadata": {},
   "source": [
    "Найдём самые популярные платформы по продажам игр и построим столбчатый график"
   ]
  },
  {
   "cell_type": "code",
   "execution_count": 9,
   "metadata": {},
   "outputs": [
    {
     "data": {
      "text/plain": [
       "Text(0, 0.5, 'Количество продаж')"
      ]
     },
     "execution_count": 9,
     "metadata": {},
     "output_type": "execute_result"
    },
    {
     "data": {
      "image/png": "[encoded data removed]",
      "text/plain": [
       "<Figure size 936x288 with 1 Axes>"
      ]
     },
     "metadata": {
      "needs_background": "light"
     },
     "output_type": "display_data"
    }
   ],
   "source": [
    "sales_on_platform = games.pivot_table(index='platform', values='total_sales', aggfunc='sum').sort_values(\n",
    "    by='total_sales', ascending=False) #считаем  выпуск игр по платформам\n",
    "\n",
    "plt.figure(figsize=(13,4)) #строим столбчатый график\n",
    "sns.barplot(x=sales_on_platform.index,y=sales_on_platform['total_sales'])\n",
    "plt.title(\"Продажи по платформам за весь период\")\n",
    "plt.xlabel(\"Название платформы\")\n",
    "plt.ylabel(\"Количество продаж\")"
   ]
  },
  {
   "cell_type": "markdown",
   "metadata": {},
   "source": [
    "Из графика мы видим, **что самые продаваемые игры принадлежат 6 платформам**, как - **PS2, XBOX360, PS3, Wii, DS, PS**. Исходя из этого возьмём **6** данных платформ и построим график распределения по годам"
   ]
  },
  {
   "cell_type": "code",
   "execution_count": 10,
   "metadata": {},
   "outputs": [
    {
     "data": {
      "image/png": "[encoded data removed]",
      "text/plain": [
       "<Figure size 1440x720 with 1 Axes>"
      ]
     },
     "metadata": {
      "needs_background": "light"
     },
     "output_type": "display_data"
    }
   ],
   "source": [
    "# возьмём отдельные обьемы продаж под каждую платформу\n",
    "PS2 = games.query('platform ==\"PS2\"').pivot_table(index='year_of_release', values='total_sales', aggfunc='sum')\n",
    "X360 = games.query('platform ==\"X360\"').pivot_table(index='year_of_release', values='total_sales', aggfunc='sum')\n",
    "PS3 = games.query('platform ==\"PS3\"').pivot_table(index='year_of_release', values='total_sales', aggfunc='sum')\n",
    "Wii = games.query('platform ==\"Wii\"').pivot_table(index='year_of_release', values='total_sales', aggfunc='sum')\n",
    "DS = games.query('platform ==\"DS\"').pivot_table(index='year_of_release', values='total_sales', aggfunc='sum')\n",
    "PS = games.query('platform ==\"PS\"').pivot_table(index='year_of_release', values='total_sales', aggfunc='sum')\n",
    "\n",
    "#создаем сводную таблицу\n",
    "top_6_games = (\n",
    "    PS2.merge(X360, how='outer', on='year_of_release')\n",
    "    .merge(PS3, how='outer', on='year_of_release')\n",
    "    .merge(Wii, how='outer', on='year_of_release')\n",
    "    .merge(DS, how='outer', on='year_of_release')\n",
    "    .merge(PS, how='outer', on='year_of_release')\n",
    ")\n",
    "# Переименовываю названия столбцов для убобства\n",
    "top_6_games.set_axis(['PS2', 'X360', 'PS3', 'Wii', 'DS', 'PS'], axis = 'columns', inplace = True)\n",
    "top_6_games = top_6_games.query('year_of_release >= 1990').fillna(0) # Пропуски заменяю на 0, фильтрую значения от 1990 года и выше\n",
    "\n",
    "# строим линейный график для визуализации данных\n",
    "top_6_games.plot(figsize=(20, 10), title='Ежегодный объём продаж по платформам', grid=True).set(xlabel='Год релиза', ylabel='Объём продаж в млн $')\n",
    "plt.show()"
   ]
  },
  {
   "cell_type": "markdown",
   "metadata": {},
   "source": [
    "График показывает, что новые платформы появляются в среднем через 3 года, а старые держатся в течении 8-10 лет"
   ]
  },
  {
   "cell_type": "markdown",
   "metadata": {},
   "source": [
    "#### Возьмием данные за соответствующий актуальный период. Актуальный период определим самостоятельно в результате исследования предыдущих вопросов. Основной фактор — эти данные помогут построить прогноз на 2017 год."
   ]
  },
  {
   "cell_type": "markdown",
   "metadata": {},
   "source": [
    "Возьмём актуальный период с **2012 по 2016** год, так как будем следовать тенденциям современности и соотвественно новых  платформ"
   ]
  },
  {
   "cell_type": "markdown",
   "metadata": {},
   "source": [
    "#### Не учитывайте в работе данные за предыдущие годы."
   ]
  },
  {
   "cell_type": "code",
   "execution_count": 11,
   "metadata": {},
   "outputs": [
    {
     "data": {
      "text/html": [
       "<div>\n",
       "<style scoped>\n",
       "    .dataframe tbody tr th:only-of-type {\n",
       "        vertical-align: middle;\n",
       "    }\n",
       "\n",
       "    .dataframe tbody tr th {\n",
       "        vertical-align: top;\n",
       "    }\n",
       "\n",
       "    .dataframe thead th {\n",
       "        text-align: right;\n",
       "    }\n",
       "</style>\n",
       "<table border=\"1\" class=\"dataframe\">\n",
       "  <thead>\n",
       "    <tr style=\"text-align: right;\">\n",
       "      <th></th>\n",
       "      <th>name</th>\n",
       "      <th>platform</th>\n",
       "      <th>year_of_release</th>\n",
       "      <th>genre</th>\n",
       "      <th>na_sales</th>\n",
       "      <th>eu_sales</th>\n",
       "      <th>jp_sales</th>\n",
       "      <th>other_sales</th>\n",
       "      <th>critic_score</th>\n",
       "      <th>user_score</th>\n",
       "      <th>rating</th>\n",
       "      <th>total_sales</th>\n",
       "    </tr>\n",
       "  </thead>\n",
       "  <tbody>\n",
       "    <tr>\n",
       "      <th>16</th>\n",
       "      <td>Grand Theft Auto V</td>\n",
       "      <td>PS3</td>\n",
       "      <td>2013.0</td>\n",
       "      <td>Action</td>\n",
       "      <td>7.02</td>\n",
       "      <td>9.09</td>\n",
       "      <td>0.98</td>\n",
       "      <td>3.96</td>\n",
       "      <td>97.0</td>\n",
       "      <td>8.2</td>\n",
       "      <td>M</td>\n",
       "      <td>21.05</td>\n",
       "    </tr>\n",
       "    <tr>\n",
       "      <th>23</th>\n",
       "      <td>Grand Theft Auto V</td>\n",
       "      <td>X360</td>\n",
       "      <td>2013.0</td>\n",
       "      <td>Action</td>\n",
       "      <td>9.66</td>\n",
       "      <td>5.14</td>\n",
       "      <td>0.06</td>\n",
       "      <td>1.41</td>\n",
       "      <td>97.0</td>\n",
       "      <td>8.1</td>\n",
       "      <td>M</td>\n",
       "      <td>16.27</td>\n",
       "    </tr>\n",
       "    <tr>\n",
       "      <th>31</th>\n",
       "      <td>Call of Duty: Black Ops 3</td>\n",
       "      <td>PS4</td>\n",
       "      <td>2015.0</td>\n",
       "      <td>Shooter</td>\n",
       "      <td>6.03</td>\n",
       "      <td>5.86</td>\n",
       "      <td>0.36</td>\n",
       "      <td>2.38</td>\n",
       "      <td>NaN</td>\n",
       "      <td>NaN</td>\n",
       "      <td>NaN</td>\n",
       "      <td>14.63</td>\n",
       "    </tr>\n",
       "    <tr>\n",
       "      <th>33</th>\n",
       "      <td>Pokemon X/Pokemon Y</td>\n",
       "      <td>3DS</td>\n",
       "      <td>2013.0</td>\n",
       "      <td>Role-Playing</td>\n",
       "      <td>5.28</td>\n",
       "      <td>4.19</td>\n",
       "      <td>4.35</td>\n",
       "      <td>0.78</td>\n",
       "      <td>NaN</td>\n",
       "      <td>NaN</td>\n",
       "      <td>NaN</td>\n",
       "      <td>14.60</td>\n",
       "    </tr>\n",
       "    <tr>\n",
       "      <th>34</th>\n",
       "      <td>Call of Duty: Black Ops II</td>\n",
       "      <td>PS3</td>\n",
       "      <td>2012.0</td>\n",
       "      <td>Shooter</td>\n",
       "      <td>4.99</td>\n",
       "      <td>5.73</td>\n",
       "      <td>0.65</td>\n",
       "      <td>2.42</td>\n",
       "      <td>83.0</td>\n",
       "      <td>5.3</td>\n",
       "      <td>M</td>\n",
       "      <td>13.79</td>\n",
       "    </tr>\n",
       "    <tr>\n",
       "      <th>35</th>\n",
       "      <td>Call of Duty: Black Ops II</td>\n",
       "      <td>X360</td>\n",
       "      <td>2012.0</td>\n",
       "      <td>Shooter</td>\n",
       "      <td>8.25</td>\n",
       "      <td>4.24</td>\n",
       "      <td>0.07</td>\n",
       "      <td>1.12</td>\n",
       "      <td>83.0</td>\n",
       "      <td>4.8</td>\n",
       "      <td>M</td>\n",
       "      <td>13.68</td>\n",
       "    </tr>\n",
       "    <tr>\n",
       "      <th>42</th>\n",
       "      <td>Grand Theft Auto V</td>\n",
       "      <td>PS4</td>\n",
       "      <td>2014.0</td>\n",
       "      <td>Action</td>\n",
       "      <td>3.96</td>\n",
       "      <td>6.31</td>\n",
       "      <td>0.38</td>\n",
       "      <td>1.97</td>\n",
       "      <td>97.0</td>\n",
       "      <td>8.3</td>\n",
       "      <td>M</td>\n",
       "      <td>12.62</td>\n",
       "    </tr>\n",
       "    <tr>\n",
       "      <th>47</th>\n",
       "      <td>Pokemon Omega Ruby/Pokemon Alpha Sapphire</td>\n",
       "      <td>3DS</td>\n",
       "      <td>2014.0</td>\n",
       "      <td>Role-Playing</td>\n",
       "      <td>4.35</td>\n",
       "      <td>3.49</td>\n",
       "      <td>3.10</td>\n",
       "      <td>0.74</td>\n",
       "      <td>NaN</td>\n",
       "      <td>NaN</td>\n",
       "      <td>NaN</td>\n",
       "      <td>11.68</td>\n",
       "    </tr>\n",
       "    <tr>\n",
       "      <th>60</th>\n",
       "      <td>Call of Duty: Ghosts</td>\n",
       "      <td>X360</td>\n",
       "      <td>2013.0</td>\n",
       "      <td>Shooter</td>\n",
       "      <td>6.73</td>\n",
       "      <td>2.56</td>\n",
       "      <td>0.04</td>\n",
       "      <td>0.91</td>\n",
       "      <td>73.0</td>\n",
       "      <td>2.6</td>\n",
       "      <td>M</td>\n",
       "      <td>10.24</td>\n",
       "    </tr>\n",
       "    <tr>\n",
       "      <th>62</th>\n",
       "      <td>New Super Mario Bros. 2</td>\n",
       "      <td>3DS</td>\n",
       "      <td>2012.0</td>\n",
       "      <td>Platform</td>\n",
       "      <td>3.66</td>\n",
       "      <td>3.14</td>\n",
       "      <td>2.47</td>\n",
       "      <td>0.63</td>\n",
       "      <td>78.0</td>\n",
       "      <td>7.2</td>\n",
       "      <td>E</td>\n",
       "      <td>9.90</td>\n",
       "    </tr>\n",
       "  </tbody>\n",
       "</table>\n",
       "</div>"
      ],
      "text/plain": [
       "                                         name platform  year_of_release  \\\n",
       "16                         Grand Theft Auto V      PS3           2013.0   \n",
       "23                         Grand Theft Auto V     X360           2013.0   \n",
       "31                  Call of Duty: Black Ops 3      PS4           2015.0   \n",
       "33                        Pokemon X/Pokemon Y      3DS           2013.0   \n",
       "34                 Call of Duty: Black Ops II      PS3           2012.0   \n",
       "35                 Call of Duty: Black Ops II     X360           2012.0   \n",
       "42                         Grand Theft Auto V      PS4           2014.0   \n",
       "47  Pokemon Omega Ruby/Pokemon Alpha Sapphire      3DS           2014.0   \n",
       "60                       Call of Duty: Ghosts     X360           2013.0   \n",
       "62                    New Super Mario Bros. 2      3DS           2012.0   \n",
       "\n",
       "           genre  na_sales  eu_sales  jp_sales  other_sales  critic_score  \\\n",
       "16        Action      7.02      9.09      0.98         3.96          97.0   \n",
       "23        Action      9.66      5.14      0.06         1.41          97.0   \n",
       "31       Shooter      6.03      5.86      0.36         2.38           NaN   \n",
       "33  Role-Playing      5.28      4.19      4.35         0.78           NaN   \n",
       "34       Shooter      4.99      5.73      0.65         2.42          83.0   \n",
       "35       Shooter      8.25      4.24      0.07         1.12          83.0   \n",
       "42        Action      3.96      6.31      0.38         1.97          97.0   \n",
       "47  Role-Playing      4.35      3.49      3.10         0.74           NaN   \n",
       "60       Shooter      6.73      2.56      0.04         0.91          73.0   \n",
       "62      Platform      3.66      3.14      2.47         0.63          78.0   \n",
       "\n",
       "    user_score rating  total_sales  \n",
       "16         8.2      M        21.05  \n",
       "23         8.1      M        16.27  \n",
       "31         NaN    NaN        14.63  \n",
       "33         NaN    NaN        14.60  \n",
       "34         5.3      M        13.79  \n",
       "35         4.8      M        13.68  \n",
       "42         8.3      M        12.62  \n",
       "47         NaN    NaN        11.68  \n",
       "60         2.6      M        10.24  \n",
       "62         7.2      E         9.90  "
      ]
     },
     "execution_count": 11,
     "metadata": {},
     "output_type": "execute_result"
    }
   ],
   "source": [
    "actual_games = games.query('year_of_release >= 2012') #создадим новую таблицу с периодом с 2012 года по 2016 \n",
    "actual_games.head(10) # выведем на экран первые 10 строк"
   ]
  },
  {
   "cell_type": "markdown",
   "metadata": {},
   "source": [
    "#### Какие платформы лидируют по продажам, растут или падают? Выберем несколько потенциально прибыльных платформ."
   ]
  },
  {
   "cell_type": "markdown",
   "metadata": {},
   "source": [
    "Найдём лидирующие платформы по продажам и построим график"
   ]
  },
  {
   "cell_type": "code",
   "execution_count": 12,
   "metadata": {},
   "outputs": [
    {
     "data": {
      "image/png": "[encoded data removed]",
      "text/plain": [
       "<Figure size 1296x720 with 1 Axes>"
      ]
     },
     "metadata": {
      "needs_background": "light"
     },
     "output_type": "display_data"
    }
   ],
   "source": [
    "(\n",
    "    actual_games\n",
    "    .pivot_table(index='platform', values='total_sales', aggfunc='sum') #находим сумму по заданным критериям\n",
    "    .sort_values('total_sales', ascending = False)\n",
    "    .plot(y='total_sales', kind='bar', figsize=(18, 10), title='Суммарный объём продаж за актуальный период по платформам', grid=True, color='green', alpha=0.5, legend=False)\n",
    "    .set(xlabel='Игровая платформа', ylabel='Объём продаж в млн $')\n",
    ") #строим график\n",
    "plt.show()"
   ]
  },
  {
   "cell_type": "markdown",
   "metadata": {},
   "source": [
    "График показывает лидирующие платформы, возьмём **ТОП-5** из них и это **PS3, PS4,  XBOX360, 3DS, XBOXOne**"
   ]
  },
  {
   "cell_type": "code",
   "execution_count": 13,
   "metadata": {},
   "outputs": [
    {
     "data": {
      "image/png": "[encoded data removed]",
      "text/plain": [
       "<Figure size 1440x648 with 1 Axes>"
      ]
     },
     "metadata": {
      "needs_background": "light"
     },
     "output_type": "display_data"
    }
   ],
   "source": [
    "(\n",
    "    games # задаём нужные нам параметры\n",
    "    .query(\"platform == ['PS3', 'PS4', 'X360', '3DS', 'XOne'] and year_of_release >= 2012\")\n",
    "    .pivot_table(index='year_of_release', columns = 'platform', values='total_sales', aggfunc='sum')\n",
    "    .plot(grid=True, figsize=(20, 9))\n",
    ") \n",
    "plt.xlabel('Год и месяц реализации') #строим график\n",
    "plt.ylabel('Продажи экземпляров (млн.)')\n",
    "plt.show()"
   ]
  },
  {
   "cell_type": "markdown",
   "metadata": {},
   "source": [
    "Мы видим, что в **2013** году у платформ **PS3, XBOX360 и 3DS** начала **падать** продажа игр, связанные с тем, что вышли новые платформы **PS4** и **XBOXOne.** Мы видим что старт **PS4** был очень **стремительным**, **XBOXOne** более **равномерным**. Так же возьмём данные платформы как **потенциально прибыльные**\n"
   ]
  },
  {
   "cell_type": "markdown",
   "metadata": {},
   "source": [
    "#### Построим график «ящик с усами» по глобальным продажам игр в разбивке по платформам. Опишем результат."
   ]
  },
  {
   "cell_type": "code",
   "execution_count": 14,
   "metadata": {},
   "outputs": [],
   "source": [
    "#отфильтруем таблицу из ТОП-5 потенциально прибыльных платформ\n",
    "actual_games = games.query('platform == \"PS4\" or platform == \"PS3\" or platform == \"X360\" or platform == \"3DS\" or platform == \"XOne\" and year_of_release >= 2012')\n",
    "\n"
   ]
  },
  {
   "cell_type": "code",
   "execution_count": 15,
   "metadata": {},
   "outputs": [
    {
     "data": {
      "image/png": "[encoded data removed]",
      "text/plain": [
       "<Figure size 1080x576 with 1 Axes>"
      ]
     },
     "metadata": {
      "needs_background": "light"
     },
     "output_type": "display_data"
    }
   ],
   "source": [
    "\n",
    "plt.rcParams['figure.figsize']=(15, 8) #строим диаграмму размаха\n",
    "ax = sns.boxplot(x=\"platform\", y=\"total_sales\", data=actual_games, palette='rainbow_r')\n",
    "ax.set_ylim(0, 1.9)\n",
    "plt.show()"
   ]
  },
  {
   "cell_type": "markdown",
   "metadata": {},
   "source": [
    "Диаграмма размаха нам показывает, что продажи **XBOX360** и **PS3** лидеры продаж по **медианным** и **средним** показателям. Заметим такую же практически тенденцию у **PS4** и **XBOXOne**. Игры на **3DS** продаются считай в **2-3** раза меньше чем на  остальные платформы. Так как мы будем прогнозировать на 2017 год в дальнейшем мы возьмём **новые** платформы "
   ]
  },
  {
   "cell_type": "markdown",
   "metadata": {},
   "source": [
    "#### Посмотрим, как влияют на продажи внутри одной популярной платформы отзывы пользователей и критиков. Построим диаграмму рассеяния и посчитаем корреляцию между отзывами и продажами. Сформулируем выводы."
   ]
  },
  {
   "cell_type": "markdown",
   "metadata": {},
   "source": [
    "Построим диаграммы рассеивания и корреляции критиками и пользователями по платформе **PS4**"
   ]
  },
  {
   "cell_type": "code",
   "execution_count": 16,
   "metadata": {},
   "outputs": [
    {
     "data": {
      "image/png": "[encoded data removed]",
      "text/plain": [
       "<Figure size 576x576 with 1 Axes>"
      ]
     },
     "metadata": {
      "needs_background": "light"
     },
     "output_type": "display_data"
    }
   ],
   "source": [
    "# выведем таблицу рассеивания игр на PS4 оценённых критиками\n",
    "actual_games[actual_games['platform']=='PS4'].plot(x='critic_score', y='total_sales', kind='scatter', alpha=0.5, figsize=(8,8), grid=True)\n",
    "plt.show()"
   ]
  },
  {
   "cell_type": "code",
   "execution_count": 17,
   "metadata": {},
   "outputs": [
    {
     "data": {
      "image/png": "[encoded data removed]",
      "text/plain": [
       "<Figure size 576x576 with 1 Axes>"
      ]
     },
     "metadata": {
      "needs_background": "light"
     },
     "output_type": "display_data"
    }
   ],
   "source": [
    "# выведем таблицу рассеивания игр на PS4 оценённых пользователями\n",
    "actual_games[actual_games['platform']=='PS4'].plot(x='user_score', y='total_sales', kind='scatter', alpha=0.5, figsize=(8,8), grid=True)\n",
    "plt.show()"
   ]
  },
  {
   "cell_type": "code",
   "execution_count": 18,
   "metadata": {},
   "outputs": [
    {
     "data": {
      "text/plain": [
       "'Корреляция слабая, положительная: 0.40656790206178095'"
      ]
     },
     "metadata": {},
     "output_type": "display_data"
    }
   ],
   "source": [
    "ps_4_critic_score = actual_games[actual_games['platform']=='PS4'] #находим корреляцию по оценке игр критиками\n",
    "ps4_cor_critic_score = ps_4_critic_score['critic_score'].corr(ps_4_critic_score['total_sales'])\n",
    "display('Корреляция слабая, положительная: {}'.format(ps4_cor_critic_score))\n"
   ]
  },
  {
   "cell_type": "code",
   "execution_count": 19,
   "metadata": {},
   "outputs": [
    {
     "data": {
      "text/plain": [
       "'Корреляция слабая, отрицательная: -0.031957110204556376'"
      ]
     },
     "metadata": {},
     "output_type": "display_data"
    }
   ],
   "source": [
    "ps_4_user_score = actual_games[actual_games['platform']=='PS4'] #находим корреляцию по оценке игр пользователями\n",
    "ps4_cor_user_score = ps_4_user_score['user_score'].corr(ps_4_user_score['total_sales'])\n",
    "display('Корреляция слабая, отрицательная: {}'.format(ps4_cor_user_score))"
   ]
  },
  {
   "cell_type": "markdown",
   "metadata": {},
   "source": [
    "Построим диаграммы рассеивания и корреляции критиками и пользователями по платформе **XBOXOne**"
   ]
  },
  {
   "cell_type": "code",
   "execution_count": 20,
   "metadata": {},
   "outputs": [
    {
     "data": {
      "image/png": "[encoded data removed]",
      "text/plain": [
       "<Figure size 576x576 with 1 Axes>"
      ]
     },
     "metadata": {
      "needs_background": "light"
     },
     "output_type": "display_data"
    }
   ],
   "source": [
    "# выведем таблицу рассеивания игр на XOne оценённых критиками\n",
    "actual_games[actual_games['platform']=='XOne'].plot(x='critic_score', y='total_sales', kind='scatter', alpha=0.5, figsize=(8,8), grid=True)\n",
    "plt.show()"
   ]
  },
  {
   "cell_type": "code",
   "execution_count": 21,
   "metadata": {},
   "outputs": [
    {
     "data": {
      "image/png": "[encoded data removed]",
      "text/plain": [
       "<Figure size 576x576 with 1 Axes>"
      ]
     },
     "metadata": {
      "needs_background": "light"
     },
     "output_type": "display_data"
    }
   ],
   "source": [
    "# выведем таблицу рассеивания игр на XOne оценённых пользователями\n",
    "actual_games[actual_games['platform']=='XOne'].plot(x='user_score', y='total_sales', kind='scatter', alpha=0.5, figsize=(8,8), grid=True)\n",
    "plt.show()"
   ]
  },
  {
   "cell_type": "code",
   "execution_count": 22,
   "metadata": {},
   "outputs": [
    {
     "data": {
      "text/plain": [
       "'Корреляция слабая, положительная: 0.4169983280084017'"
      ]
     },
     "metadata": {},
     "output_type": "display_data"
    }
   ],
   "source": [
    "xone_critic_score = actual_games[actual_games['platform']=='XOne'] #находим корреляцию по оценке игр XOne критиками\n",
    "xone_cor_critic_score = xone_critic_score['critic_score'].corr(xone_critic_score['total_sales'])\n",
    "display('Корреляция слабая, положительная: {}'.format(xone_cor_critic_score))"
   ]
  },
  {
   "cell_type": "code",
   "execution_count": 23,
   "metadata": {},
   "outputs": [
    {
     "data": {
      "text/plain": [
       "'Корреляция слабая, отрицательная: -0.06892505328279414'"
      ]
     },
     "metadata": {},
     "output_type": "display_data"
    }
   ],
   "source": [
    "xone_user_score = actual_games[actual_games['platform']=='XOne'] #находим корреляцию по оценке игр XOne пользователями\n",
    "xone_cor_user_score = xone_user_score['user_score'].corr(xone_user_score['total_sales'])\n",
    "display('Корреляция слабая, отрицательная: {}'.format(xone_cor_user_score))"
   ]
  },
  {
   "cell_type": "markdown",
   "metadata": {},
   "source": [
    "Из диаграмм мы видим, что по оценкам пользователей и критиков на данных платформах оценки в большей степени **положительные**. Корреляция показала, что связь слабая, соотвественно от **оценок продажи не зависят**"
   ]
  },
  {
   "cell_type": "markdown",
   "metadata": {},
   "source": [
    "#### Соотнесем выводы с продажами игр на других платформах."
   ]
  },
  {
   "cell_type": "code",
   "execution_count": 24,
   "metadata": {},
   "outputs": [
    {
     "data": {
      "text/html": [
       "<div>\n",
       "<style scoped>\n",
       "    .dataframe tbody tr th:only-of-type {\n",
       "        vertical-align: middle;\n",
       "    }\n",
       "\n",
       "    .dataframe tbody tr th {\n",
       "        vertical-align: top;\n",
       "    }\n",
       "\n",
       "    .dataframe thead th {\n",
       "        text-align: right;\n",
       "    }\n",
       "</style>\n",
       "<table border=\"1\" class=\"dataframe\">\n",
       "  <thead>\n",
       "    <tr style=\"text-align: right;\">\n",
       "      <th></th>\n",
       "      <th>name</th>\n",
       "      <th>platform</th>\n",
       "      <th>year_of_release</th>\n",
       "      <th>genre</th>\n",
       "      <th>na_sales</th>\n",
       "      <th>eu_sales</th>\n",
       "      <th>jp_sales</th>\n",
       "      <th>other_sales</th>\n",
       "      <th>critic_score</th>\n",
       "      <th>user_score</th>\n",
       "      <th>rating</th>\n",
       "      <th>total_sales</th>\n",
       "    </tr>\n",
       "  </thead>\n",
       "  <tbody>\n",
       "    <tr>\n",
       "      <th>16</th>\n",
       "      <td>Grand Theft Auto V</td>\n",
       "      <td>PS3</td>\n",
       "      <td>2013.0</td>\n",
       "      <td>Action</td>\n",
       "      <td>7.02</td>\n",
       "      <td>9.09</td>\n",
       "      <td>0.98</td>\n",
       "      <td>3.96</td>\n",
       "      <td>97.0</td>\n",
       "      <td>8.2</td>\n",
       "      <td>M</td>\n",
       "      <td>21.05</td>\n",
       "    </tr>\n",
       "    <tr>\n",
       "      <th>23</th>\n",
       "      <td>Grand Theft Auto V</td>\n",
       "      <td>X360</td>\n",
       "      <td>2013.0</td>\n",
       "      <td>Action</td>\n",
       "      <td>9.66</td>\n",
       "      <td>5.14</td>\n",
       "      <td>0.06</td>\n",
       "      <td>1.41</td>\n",
       "      <td>97.0</td>\n",
       "      <td>8.1</td>\n",
       "      <td>M</td>\n",
       "      <td>16.27</td>\n",
       "    </tr>\n",
       "    <tr>\n",
       "      <th>31</th>\n",
       "      <td>Call of Duty: Black Ops 3</td>\n",
       "      <td>PS4</td>\n",
       "      <td>2015.0</td>\n",
       "      <td>Shooter</td>\n",
       "      <td>6.03</td>\n",
       "      <td>5.86</td>\n",
       "      <td>0.36</td>\n",
       "      <td>2.38</td>\n",
       "      <td>NaN</td>\n",
       "      <td>NaN</td>\n",
       "      <td>NaN</td>\n",
       "      <td>14.63</td>\n",
       "    </tr>\n",
       "    <tr>\n",
       "      <th>33</th>\n",
       "      <td>Pokemon X/Pokemon Y</td>\n",
       "      <td>3DS</td>\n",
       "      <td>2013.0</td>\n",
       "      <td>Role-Playing</td>\n",
       "      <td>5.28</td>\n",
       "      <td>4.19</td>\n",
       "      <td>4.35</td>\n",
       "      <td>0.78</td>\n",
       "      <td>NaN</td>\n",
       "      <td>NaN</td>\n",
       "      <td>NaN</td>\n",
       "      <td>14.60</td>\n",
       "    </tr>\n",
       "    <tr>\n",
       "      <th>34</th>\n",
       "      <td>Call of Duty: Black Ops II</td>\n",
       "      <td>PS3</td>\n",
       "      <td>2012.0</td>\n",
       "      <td>Shooter</td>\n",
       "      <td>4.99</td>\n",
       "      <td>5.73</td>\n",
       "      <td>0.65</td>\n",
       "      <td>2.42</td>\n",
       "      <td>83.0</td>\n",
       "      <td>5.3</td>\n",
       "      <td>M</td>\n",
       "      <td>13.79</td>\n",
       "    </tr>\n",
       "    <tr>\n",
       "      <th>35</th>\n",
       "      <td>Call of Duty: Black Ops II</td>\n",
       "      <td>X360</td>\n",
       "      <td>2012.0</td>\n",
       "      <td>Shooter</td>\n",
       "      <td>8.25</td>\n",
       "      <td>4.24</td>\n",
       "      <td>0.07</td>\n",
       "      <td>1.12</td>\n",
       "      <td>83.0</td>\n",
       "      <td>4.8</td>\n",
       "      <td>M</td>\n",
       "      <td>13.68</td>\n",
       "    </tr>\n",
       "    <tr>\n",
       "      <th>42</th>\n",
       "      <td>Grand Theft Auto V</td>\n",
       "      <td>PS4</td>\n",
       "      <td>2014.0</td>\n",
       "      <td>Action</td>\n",
       "      <td>3.96</td>\n",
       "      <td>6.31</td>\n",
       "      <td>0.38</td>\n",
       "      <td>1.97</td>\n",
       "      <td>97.0</td>\n",
       "      <td>8.3</td>\n",
       "      <td>M</td>\n",
       "      <td>12.62</td>\n",
       "    </tr>\n",
       "    <tr>\n",
       "      <th>47</th>\n",
       "      <td>Pokemon Omega Ruby/Pokemon Alpha Sapphire</td>\n",
       "      <td>3DS</td>\n",
       "      <td>2014.0</td>\n",
       "      <td>Role-Playing</td>\n",
       "      <td>4.35</td>\n",
       "      <td>3.49</td>\n",
       "      <td>3.10</td>\n",
       "      <td>0.74</td>\n",
       "      <td>NaN</td>\n",
       "      <td>NaN</td>\n",
       "      <td>NaN</td>\n",
       "      <td>11.68</td>\n",
       "    </tr>\n",
       "    <tr>\n",
       "      <th>60</th>\n",
       "      <td>Call of Duty: Ghosts</td>\n",
       "      <td>X360</td>\n",
       "      <td>2013.0</td>\n",
       "      <td>Shooter</td>\n",
       "      <td>6.73</td>\n",
       "      <td>2.56</td>\n",
       "      <td>0.04</td>\n",
       "      <td>0.91</td>\n",
       "      <td>73.0</td>\n",
       "      <td>2.6</td>\n",
       "      <td>M</td>\n",
       "      <td>10.24</td>\n",
       "    </tr>\n",
       "    <tr>\n",
       "      <th>62</th>\n",
       "      <td>New Super Mario Bros. 2</td>\n",
       "      <td>3DS</td>\n",
       "      <td>2012.0</td>\n",
       "      <td>Platform</td>\n",
       "      <td>3.66</td>\n",
       "      <td>3.14</td>\n",
       "      <td>2.47</td>\n",
       "      <td>0.63</td>\n",
       "      <td>78.0</td>\n",
       "      <td>7.2</td>\n",
       "      <td>E</td>\n",
       "      <td>9.90</td>\n",
       "    </tr>\n",
       "  </tbody>\n",
       "</table>\n",
       "</div>"
      ],
      "text/plain": [
       "                                         name platform  year_of_release  \\\n",
       "16                         Grand Theft Auto V      PS3           2013.0   \n",
       "23                         Grand Theft Auto V     X360           2013.0   \n",
       "31                  Call of Duty: Black Ops 3      PS4           2015.0   \n",
       "33                        Pokemon X/Pokemon Y      3DS           2013.0   \n",
       "34                 Call of Duty: Black Ops II      PS3           2012.0   \n",
       "35                 Call of Duty: Black Ops II     X360           2012.0   \n",
       "42                         Grand Theft Auto V      PS4           2014.0   \n",
       "47  Pokemon Omega Ruby/Pokemon Alpha Sapphire      3DS           2014.0   \n",
       "60                       Call of Duty: Ghosts     X360           2013.0   \n",
       "62                    New Super Mario Bros. 2      3DS           2012.0   \n",
       "\n",
       "           genre  na_sales  eu_sales  jp_sales  other_sales  critic_score  \\\n",
       "16        Action      7.02      9.09      0.98         3.96          97.0   \n",
       "23        Action      9.66      5.14      0.06         1.41          97.0   \n",
       "31       Shooter      6.03      5.86      0.36         2.38           NaN   \n",
       "33  Role-Playing      5.28      4.19      4.35         0.78           NaN   \n",
       "34       Shooter      4.99      5.73      0.65         2.42          83.0   \n",
       "35       Shooter      8.25      4.24      0.07         1.12          83.0   \n",
       "42        Action      3.96      6.31      0.38         1.97          97.0   \n",
       "47  Role-Playing      4.35      3.49      3.10         0.74           NaN   \n",
       "60       Shooter      6.73      2.56      0.04         0.91          73.0   \n",
       "62      Platform      3.66      3.14      2.47         0.63          78.0   \n",
       "\n",
       "    user_score rating  total_sales  \n",
       "16         8.2      M        21.05  \n",
       "23         8.1      M        16.27  \n",
       "31         NaN    NaN        14.63  \n",
       "33         NaN    NaN        14.60  \n",
       "34         5.3      M        13.79  \n",
       "35         4.8      M        13.68  \n",
       "42         8.3      M        12.62  \n",
       "47         NaN    NaN        11.68  \n",
       "60         2.6      M        10.24  \n",
       "62         7.2      E         9.90  "
      ]
     },
     "execution_count": 24,
     "metadata": {},
     "output_type": "execute_result"
    }
   ],
   "source": [
    "games_all = games.query('year_of_release >= 2012') #создаём таблицу для игр других платформ\n",
    "games['total_sales'] =  games[['na_sales','eu_sales','jp_sales', 'other_sales']].sum(axis = 1)\n",
    "games_all.head(10)"
   ]
  },
  {
   "cell_type": "code",
   "execution_count": 25,
   "metadata": {},
   "outputs": [
    {
     "data": {
      "text/html": [
       "<div>\n",
       "<style scoped>\n",
       "    .dataframe tbody tr th:only-of-type {\n",
       "        vertical-align: middle;\n",
       "    }\n",
       "\n",
       "    .dataframe tbody tr th {\n",
       "        vertical-align: top;\n",
       "    }\n",
       "\n",
       "    .dataframe thead th {\n",
       "        text-align: right;\n",
       "    }\n",
       "</style>\n",
       "<table border=\"1\" class=\"dataframe\">\n",
       "  <thead>\n",
       "    <tr style=\"text-align: right;\">\n",
       "      <th></th>\n",
       "      <th>count</th>\n",
       "      <th>mean</th>\n",
       "      <th>std</th>\n",
       "      <th>min</th>\n",
       "      <th>25%</th>\n",
       "      <th>50%</th>\n",
       "      <th>75%</th>\n",
       "      <th>max</th>\n",
       "    </tr>\n",
       "    <tr>\n",
       "      <th>platform</th>\n",
       "      <th></th>\n",
       "      <th></th>\n",
       "      <th></th>\n",
       "      <th></th>\n",
       "      <th></th>\n",
       "      <th></th>\n",
       "      <th></th>\n",
       "      <th></th>\n",
       "    </tr>\n",
       "  </thead>\n",
       "  <tbody>\n",
       "    <tr>\n",
       "      <th>3DS</th>\n",
       "      <td>396.0</td>\n",
       "      <td>0.491439</td>\n",
       "      <td>1.387161</td>\n",
       "      <td>0.01</td>\n",
       "      <td>0.0400</td>\n",
       "      <td>0.11</td>\n",
       "      <td>0.3125</td>\n",
       "      <td>14.60</td>\n",
       "    </tr>\n",
       "    <tr>\n",
       "      <th>DS</th>\n",
       "      <td>31.0</td>\n",
       "      <td>0.404839</td>\n",
       "      <td>1.439245</td>\n",
       "      <td>0.01</td>\n",
       "      <td>0.0200</td>\n",
       "      <td>0.05</td>\n",
       "      <td>0.1850</td>\n",
       "      <td>8.06</td>\n",
       "    </tr>\n",
       "    <tr>\n",
       "      <th>PC</th>\n",
       "      <td>250.0</td>\n",
       "      <td>0.250600</td>\n",
       "      <td>0.494640</td>\n",
       "      <td>0.01</td>\n",
       "      <td>0.0300</td>\n",
       "      <td>0.08</td>\n",
       "      <td>0.2400</td>\n",
       "      <td>5.14</td>\n",
       "    </tr>\n",
       "    <tr>\n",
       "      <th>PS3</th>\n",
       "      <td>493.0</td>\n",
       "      <td>0.585781</td>\n",
       "      <td>1.462855</td>\n",
       "      <td>0.01</td>\n",
       "      <td>0.0500</td>\n",
       "      <td>0.20</td>\n",
       "      <td>0.6100</td>\n",
       "      <td>21.05</td>\n",
       "    </tr>\n",
       "    <tr>\n",
       "      <th>PS4</th>\n",
       "      <td>392.0</td>\n",
       "      <td>0.801378</td>\n",
       "      <td>1.609456</td>\n",
       "      <td>0.01</td>\n",
       "      <td>0.0600</td>\n",
       "      <td>0.20</td>\n",
       "      <td>0.7300</td>\n",
       "      <td>14.63</td>\n",
       "    </tr>\n",
       "    <tr>\n",
       "      <th>PSP</th>\n",
       "      <td>173.0</td>\n",
       "      <td>0.064682</td>\n",
       "      <td>0.071296</td>\n",
       "      <td>0.01</td>\n",
       "      <td>0.0200</td>\n",
       "      <td>0.03</td>\n",
       "      <td>0.0900</td>\n",
       "      <td>0.36</td>\n",
       "    </tr>\n",
       "    <tr>\n",
       "      <th>PSV</th>\n",
       "      <td>411.0</td>\n",
       "      <td>0.119659</td>\n",
       "      <td>0.203011</td>\n",
       "      <td>0.01</td>\n",
       "      <td>0.0200</td>\n",
       "      <td>0.05</td>\n",
       "      <td>0.1200</td>\n",
       "      <td>1.96</td>\n",
       "    </tr>\n",
       "    <tr>\n",
       "      <th>Wii</th>\n",
       "      <td>54.0</td>\n",
       "      <td>0.655000</td>\n",
       "      <td>1.165447</td>\n",
       "      <td>0.01</td>\n",
       "      <td>0.0625</td>\n",
       "      <td>0.18</td>\n",
       "      <td>0.6875</td>\n",
       "      <td>6.76</td>\n",
       "    </tr>\n",
       "    <tr>\n",
       "      <th>WiiU</th>\n",
       "      <td>147.0</td>\n",
       "      <td>0.559116</td>\n",
       "      <td>1.058836</td>\n",
       "      <td>0.01</td>\n",
       "      <td>0.0800</td>\n",
       "      <td>0.22</td>\n",
       "      <td>0.5250</td>\n",
       "      <td>7.09</td>\n",
       "    </tr>\n",
       "    <tr>\n",
       "      <th>X360</th>\n",
       "      <td>292.0</td>\n",
       "      <td>0.810068</td>\n",
       "      <td>1.712069</td>\n",
       "      <td>0.01</td>\n",
       "      <td>0.1000</td>\n",
       "      <td>0.31</td>\n",
       "      <td>0.8700</td>\n",
       "      <td>16.27</td>\n",
       "    </tr>\n",
       "    <tr>\n",
       "      <th>XOne</th>\n",
       "      <td>247.0</td>\n",
       "      <td>0.645020</td>\n",
       "      <td>1.036139</td>\n",
       "      <td>0.01</td>\n",
       "      <td>0.0600</td>\n",
       "      <td>0.22</td>\n",
       "      <td>0.6850</td>\n",
       "      <td>7.39</td>\n",
       "    </tr>\n",
       "  </tbody>\n",
       "</table>\n",
       "</div>"
      ],
      "text/plain": [
       "          count      mean       std   min     25%   50%     75%    max\n",
       "platform                                                              \n",
       "3DS       396.0  0.491439  1.387161  0.01  0.0400  0.11  0.3125  14.60\n",
       "DS         31.0  0.404839  1.439245  0.01  0.0200  0.05  0.1850   8.06\n",
       "PC        250.0  0.250600  0.494640  0.01  0.0300  0.08  0.2400   5.14\n",
       "PS3       493.0  0.585781  1.462855  0.01  0.0500  0.20  0.6100  21.05\n",
       "PS4       392.0  0.801378  1.609456  0.01  0.0600  0.20  0.7300  14.63\n",
       "PSP       173.0  0.064682  0.071296  0.01  0.0200  0.03  0.0900   0.36\n",
       "PSV       411.0  0.119659  0.203011  0.01  0.0200  0.05  0.1200   1.96\n",
       "Wii        54.0  0.655000  1.165447  0.01  0.0625  0.18  0.6875   6.76\n",
       "WiiU      147.0  0.559116  1.058836  0.01  0.0800  0.22  0.5250   7.09\n",
       "X360      292.0  0.810068  1.712069  0.01  0.1000  0.31  0.8700  16.27\n",
       "XOne      247.0  0.645020  1.036139  0.01  0.0600  0.22  0.6850   7.39"
      ]
     },
     "execution_count": 25,
     "metadata": {},
     "output_type": "execute_result"
    }
   ],
   "source": [
    "games_all.groupby('platform')['total_sales'].describe() # выводим на экран другие сгруппированные платформы с количеством продаж "
   ]
  },
  {
   "cell_type": "code",
   "execution_count": 26,
   "metadata": {},
   "outputs": [
    {
     "data": {
      "image/png": "[encoded data removed]",
      "text/plain": [
       "<Figure size 1080x576 with 1 Axes>"
      ]
     },
     "metadata": {
      "needs_background": "light"
     },
     "output_type": "display_data"
    }
   ],
   "source": [
    "plt.rcParams['figure.figsize']=(15, 8) #строим диаграмму размаха\n",
    "ax = sns.boxplot(x=\"platform\", y=\"total_sales\", data=games_all, palette='rainbow_r')\n",
    "ax.set_ylim(0, 4)\n",
    "plt.show()"
   ]
  },
  {
   "cell_type": "markdown",
   "metadata": {},
   "source": [
    "**XBOXOne, WiiU, PS4,PS3** имеют практически **медианные** продажи на одном уровне, так же все платформы не выходят за **медианные** продажи в **0,25** млн продаж"
   ]
  },
  {
   "cell_type": "markdown",
   "metadata": {},
   "source": [
    "#### Посмотрим на общее распределение игр по жанрам. Что можно сказать о самых прибыльных жанрах? Выделяются ли жанры с высокими и низкими продажами?"
   ]
  },
  {
   "cell_type": "code",
   "execution_count": 27,
   "metadata": {},
   "outputs": [
    {
     "data": {
      "text/plain": [
       "Text(0, 0.5, 'Количество продаж')"
      ]
     },
     "execution_count": 27,
     "metadata": {},
     "output_type": "execute_result"
    },
    {
     "data": {
      "image/png": "[encoded data removed]",
      "text/plain": [
       "<Figure size 936x288 with 1 Axes>"
      ]
     },
     "metadata": {
      "needs_background": "light"
     },
     "output_type": "display_data"
    }
   ],
   "source": [
    "sales_on_genre = actual_games.pivot_table(index='genre', values='total_sales', aggfunc='sum').sort_values(\n",
    "    by='total_sales', ascending=False) #считаем жанры по платформам\n",
    "plt.figure(figsize=(13,4)) #строим столбчатый график\n",
    "sns.barplot(x=sales_on_genre.index,y=sales_on_genre['total_sales'])\n",
    "plt.title(\"Продажи по жанрам за актуальный период\")\n",
    "plt.xlabel(\"Название жанра\")\n",
    "plt.ylabel(\"Количество продаж\")\n"
   ]
  },
  {
   "cell_type": "markdown",
   "metadata": {},
   "source": [
    "Столбчатый график нам показал, что в **ТОП-3** по продажам входят с колоссальным преимуществом такие жанры как **Shooter, Action и Sports**. Различие с высокими и низкими продажами существует"
   ]
  },
  {
   "cell_type": "markdown",
   "metadata": {},
   "source": [
    "### Составим портрет пользователя каждого региона"
   ]
  },
  {
   "cell_type": "markdown",
   "metadata": {},
   "source": [
    "#### Определим для пользователя каждого региона (NA, EU, JP). Самые популярные платформы (топ-5). Опишем различия в долях продаж."
   ]
  },
  {
   "cell_type": "code",
   "execution_count": 28,
   "metadata": {},
   "outputs": [
    {
     "data": {
      "text/plain": [
       "Text(0, 0.5, 'Количество продаж')"
      ]
     },
     "execution_count": 28,
     "metadata": {},
     "output_type": "execute_result"
    },
    {
     "data": {
      "image/png": "[encoded data removed]",
      "text/plain": [
       "<Figure size 1080x576 with 1 Axes>"
      ]
     },
     "metadata": {
      "needs_background": "light"
     },
     "output_type": "display_data"
    }
   ],
   "source": [
    "# создаем сводную таблицу для региона NA с актуальным периодом\n",
    "popular_platform_na = actual_games.query('year_of_release >= 2012 and na_sales > 0') \n",
    "popular_platform_na = actual_games.pivot_table(index='platform', values='na_sales', aggfunc='sum').sort_values( #считаем популярные платформы\n",
    "    by='na_sales', ascending=False) \n",
    "plt.figure(figsize=(15,8)) #строим столбчатый график\n",
    "sns.barplot(x=popular_platform_na.index,y=popular_platform_na['na_sales'])\n",
    "plt.title(\"Самые популярные платформы за актуальный период NA\")\n",
    "plt.xlabel(\"Название платформы\")\n",
    "plt.ylabel(\"Количество продаж\")"
   ]
  },
  {
   "cell_type": "code",
   "execution_count": 29,
   "metadata": {},
   "outputs": [
    {
     "data": {
      "text/plain": [
       "Text(0, 0.5, 'Количество продаж')"
      ]
     },
     "execution_count": 29,
     "metadata": {},
     "output_type": "execute_result"
    },
    {
     "data": {
      "image/png": "[encoded data removed]",
      "text/plain": [
       "<Figure size 1080x576 with 1 Axes>"
      ]
     },
     "metadata": {
      "needs_background": "light"
     },
     "output_type": "display_data"
    }
   ],
   "source": [
    "# создаем сводную таблицу для региона EU с актуальным периодом\n",
    "popular_platform_eu = actual_games.query('year_of_release >= 2012 and eu_sales > 0') \n",
    "popular_platform_eu = actual_games.pivot_table(index='platform', values='eu_sales', aggfunc='sum').sort_values( #считаем популярные платформы\n",
    "    by='eu_sales', ascending=False) \n",
    "plt.figure(figsize=(15,8)) #строим столбчатый график\n",
    "sns.barplot(x=popular_platform_eu.index,y=popular_platform_eu['eu_sales'])\n",
    "plt.title(\"Самые популярные платформы за актуальный период EU\")\n",
    "plt.xlabel(\"Название платформы\")\n",
    "plt.ylabel(\"Количество продаж\")"
   ]
  },
  {
   "cell_type": "code",
   "execution_count": 30,
   "metadata": {},
   "outputs": [
    {
     "data": {
      "text/plain": [
       "Text(0, 0.5, 'Количество продаж')"
      ]
     },
     "execution_count": 30,
     "metadata": {},
     "output_type": "execute_result"
    },
    {
     "data": {
      "image/png": "[encoded data removed]",
      "text/plain": [
       "<Figure size 1080x576 with 1 Axes>"
      ]
     },
     "metadata": {
      "needs_background": "light"
     },
     "output_type": "display_data"
    }
   ],
   "source": [
    "# создаем сводную таблицу для региона JP с актуальным периодом\n",
    "popular_platform_jp = actual_games.query('year_of_release >= 2012 and jp_sales > 0') \n",
    "popular_platform_jp = actual_games.pivot_table(index='platform', values='jp_sales', aggfunc='sum').sort_values( #считаем популярные платформы\n",
    "    by='jp_sales', ascending=False) \n",
    "plt.figure(figsize=(15,8)) #строим столбчатый график\n",
    "sns.barplot(x=popular_platform_jp.index,y=popular_platform_jp['jp_sales'])\n",
    "plt.title(\"Самые популярные платформы за актуальный период JP\")\n",
    "plt.xlabel(\"Название платформы\")\n",
    "plt.ylabel(\"Количество продаж\")"
   ]
  },
  {
   "cell_type": "markdown",
   "metadata": {},
   "source": [
    "В Северной Америке доминируют продажи платформы  корпораци **«Microsoft»**, а в Европе корпорации **«Sony»**, японцы предпочитают 3DS от компании **«Nintendo»**"
   ]
  },
  {
   "cell_type": "markdown",
   "metadata": {},
   "source": [
    "#### Определим для пользователя каждого региона (NA, EU, JP). Самые популярные жанры (топ-5). Поясним разницу"
   ]
  },
  {
   "cell_type": "code",
   "execution_count": 31,
   "metadata": {},
   "outputs": [
    {
     "data": {
      "text/plain": [
       "Text(0, 0.5, 'Количество продаж')"
      ]
     },
     "execution_count": 31,
     "metadata": {},
     "output_type": "execute_result"
    },
    {
     "data": {
      "image/png": "[encoded data removed]",
      "text/plain": [
       "<Figure size 1080x576 with 1 Axes>"
      ]
     },
     "metadata": {
      "needs_background": "light"
     },
     "output_type": "display_data"
    }
   ],
   "source": [
    "# создаем сводную таблицу для региона NA с актуальным периодом\n",
    "popular_genre_na = actual_games.query('year_of_release >= 2012 and na_sales > 0') \n",
    "popular_genre_na = actual_games.pivot_table(index='genre', values='na_sales', aggfunc='sum').sort_values( #считаем популярные жанры\n",
    "    by='na_sales', ascending=False) \n",
    "plt.figure(figsize=(15,8)) #строим столбчатый график\n",
    "sns.barplot(x=popular_genre_na.index,y=popular_genre_na['na_sales'])\n",
    "plt.title(\"Самые популярные жанры за актуальный период NA\")\n",
    "plt.xlabel(\"Название жанрa\")\n",
    "plt.ylabel(\"Количество продаж\")"
   ]
  },
  {
   "cell_type": "code",
   "execution_count": 32,
   "metadata": {},
   "outputs": [
    {
     "data": {
      "text/plain": [
       "Text(0, 0.5, 'Количество продаж')"
      ]
     },
     "execution_count": 32,
     "metadata": {},
     "output_type": "execute_result"
    },
    {
     "data": {
      "image/png": "[encoded data removed]",
      "text/plain": [
       "<Figure size 1080x576 with 1 Axes>"
      ]
     },
     "metadata": {
      "needs_background": "light"
     },
     "output_type": "display_data"
    }
   ],
   "source": [
    "# создаем сводную таблицу для региона EU с актуальным периодом\n",
    "popular_genre_eu = actual_games.query('year_of_release >= 2012 and eu_sales > 0') \n",
    "popular_genre_eu = actual_games.pivot_table(index='genre', values='eu_sales', aggfunc='sum').sort_values( #считаем популярные жанры\n",
    "    by='eu_sales', ascending=False) \n",
    "plt.figure(figsize=(15,8)) #строим столбчатый график\n",
    "sns.barplot(x=popular_genre_eu.index,y=popular_genre_eu['eu_sales'])\n",
    "plt.title(\"Самые популярные жанры за актуальный период EU\")\n",
    "plt.xlabel(\"Название жанрa\")\n",
    "plt.ylabel(\"Количество продаж\")"
   ]
  },
  {
   "cell_type": "code",
   "execution_count": 33,
   "metadata": {},
   "outputs": [
    {
     "data": {
      "text/plain": [
       "Text(0, 0.5, 'Количество продаж')"
      ]
     },
     "execution_count": 33,
     "metadata": {},
     "output_type": "execute_result"
    },
    {
     "data": {
      "image/png": "[encoded data removed]",
      "text/plain": [
       "<Figure size 936x288 with 1 Axes>"
      ]
     },
     "metadata": {
      "needs_background": "light"
     },
     "output_type": "display_data"
    }
   ],
   "source": [
    "# создаем сводную таблицу для региона JP с актуальным периодом\n",
    "popular_genre_jp = actual_games.query('year_of_release >= 2012 and jp_sales > 0') \n",
    "popular_genre_jp = actual_games.pivot_table(index='genre', values='jp_sales', aggfunc='sum').sort_values( #считаем популярные жанры\n",
    "    by='jp_sales', ascending=False) \n",
    "plt.figure(figsize=(13,4)) #строим столбчатый график\n",
    "sns.barplot(x=popular_genre_jp.index,y=popular_genre_jp['jp_sales'])\n",
    "plt.title(\"Самые популярные жанры за актуальный период JP\")\n",
    "plt.xlabel(\"Название жанрa\")\n",
    "plt.ylabel(\"Количество продаж\")"
   ]
  },
  {
   "cell_type": "markdown",
   "metadata": {},
   "source": [
    "Как мы видим, что в Северной Америке в **ТОП-5** жанров игр входят **Action, Shooter, Sports, Role-Playing, Misc**. Так же в Европе мы наблюдаем такую же практически ситуацию, в **ТОП-5** жанров входят**Action, Shooter,  Sports, Racing, Role-Playing**. В Японском кластере в **ТОП-5** входят **Role-Playing, Action, Shooter, Simulation, Fighting**.Так как большинство игр в жанре  **Role-Playing** в основном выпускались для японской аудитории, соотвественно и отсюда популярность, но Америку и Европу охватывает практически одинаковая целевая аудитория, тем самым популярность жанров схожи"
   ]
  },
  {
   "cell_type": "markdown",
   "metadata": {},
   "source": [
    "#### Определим для пользователя каждого региона (NA, EU, JP). Влияет ли рейтинг ESRB на продажи в отдельном регионе?"
   ]
  },
  {
   "cell_type": "code",
   "execution_count": 34,
   "metadata": {},
   "outputs": [
    {
     "data": {
      "text/plain": [
       "Text(0, 0.5, 'Количество продаж')"
      ]
     },
     "execution_count": 34,
     "metadata": {},
     "output_type": "execute_result"
    },
    {
     "data": {
      "image/png": "[encoded data removed]",
      "text/plain": [
       "<Figure size 1080x576 with 1 Axes>"
      ]
     },
     "metadata": {
      "needs_background": "light"
     },
     "output_type": "display_data"
    }
   ],
   "source": [
    "# создаем сводную таблицу для региона NA с актуальным периодом\n",
    "rating_sales_na = games.query('year_of_release >= 2012 and na_sales > 0') \n",
    "rating_sales_na = games.pivot_table(index='rating', values='na_sales', aggfunc='sum').sort_values( #считаем продажи по рейтингу\n",
    "    by='na_sales', ascending=False) \n",
    "plt.figure(figsize=(15,8)) #строим столбчатый график\n",
    "sns.barplot(x=rating_sales_na.index,y=rating_sales_na['na_sales'])\n",
    "plt.title(\"Рейтинг ESRB за актуальный период NA\")\n",
    "plt.xlabel(\"Рейтинг\")\n",
    "plt.ylabel(\"Количество продаж\")"
   ]
  },
  {
   "cell_type": "code",
   "execution_count": 35,
   "metadata": {},
   "outputs": [
    {
     "data": {
      "text/plain": [
       "Text(0, 0.5, 'Количество продаж')"
      ]
     },
     "execution_count": 35,
     "metadata": {},
     "output_type": "execute_result"
    },
    {
     "data": {
      "image/png": "[encoded data removed]",
      "text/plain": [
       "<Figure size 1080x576 with 1 Axes>"
      ]
     },
     "metadata": {
      "needs_background": "light"
     },
     "output_type": "display_data"
    }
   ],
   "source": [
    "# создаем сводную таблицу для региона EU с актуальным периодом\n",
    "rating_sales_eu = games.query('year_of_release >= 2012 and eu_sales > 0') \n",
    "rating_sales_eu = games.pivot_table(index='rating', values='eu_sales', aggfunc='sum').sort_values( #считаем продажи по рейтингу\n",
    "    by='eu_sales', ascending=False) \n",
    "plt.figure(figsize=(15,8)) #строим столбчатый график\n",
    "sns.barplot(x=rating_sales_eu.index,y=rating_sales_eu['eu_sales'])\n",
    "plt.title(\"Рейтинг ESRB за актуальный период EU\")\n",
    "plt.xlabel(\"Рейтинг\")\n",
    "plt.ylabel(\"Количество продаж\")"
   ]
  },
  {
   "cell_type": "code",
   "execution_count": 36,
   "metadata": {},
   "outputs": [
    {
     "data": {
      "text/plain": [
       "Text(0, 0.5, 'Количество продаж')"
      ]
     },
     "execution_count": 36,
     "metadata": {},
     "output_type": "execute_result"
    },
    {
     "data": {
      "image/png": "[encoded data removed]",
      "text/plain": [
       "<Figure size 1080x576 with 1 Axes>"
      ]
     },
     "metadata": {
      "needs_background": "light"
     },
     "output_type": "display_data"
    }
   ],
   "source": [
    "# создаем сводную таблицу для региона JP с актуальным периодом\n",
    "rating_sales_jp = games.query('year_of_release >= 2012 and jp_sales > 0') \n",
    "rating_sales_jp = games.pivot_table(index='rating', values='jp_sales', aggfunc='sum').sort_values( #считаем продажи по рейтингу\n",
    "    by='jp_sales', ascending=False) \n",
    "plt.figure(figsize=(15,8)) #строим столбчатый график\n",
    "sns.barplot(x=rating_sales_jp.index,y=rating_sales_jp['jp_sales'])\n",
    "plt.title(\"Рейтинг ESRB за актуальный период JP\")\n",
    "plt.xlabel(\"Рейтинг\")\n",
    "plt.ylabel(\"Количество продаж\")"
   ]
  },
  {
   "cell_type": "markdown",
   "metadata": {},
   "source": [
    "Во всех 3 кластерах мы видим , что **самый популярный рейтинг \"E\"**, который подходит для маленьких и взрослых"
   ]
  },
  {
   "cell_type": "markdown",
   "metadata": {},
   "source": [
    "### Проверим гипотезы"
   ]
  },
  {
   "cell_type": "markdown",
   "metadata": {},
   "source": [
    "#### Средние пользовательские рейтинги платформ Xbox One и PC одинаковые"
   ]
  },
  {
   "cell_type": "markdown",
   "metadata": {},
   "source": [
    "\n",
    "* Нулевая гипотеза будет сформулирована следующим образом: \n",
    "    * Средние пользовательские рейтинги платформы __``XOne``__ __равны__ средним пользовательским рейтингам платформы __``PC``__\n",
    "* Альтернативная гипотеза звучит следующим образом: \n",
    "    * Средние пользовательские рейтинги платформы __``XOne``__ __не равны__ средним пользовательским рейтингам платформы __``PC``__\n",
    "\n",
    "Будем сравнивать две генеральные совокупности, используем метод scipy.stats.ttest_ind()"
   ]
  },
  {
   "cell_type": "code",
   "execution_count": 37,
   "metadata": {
    "scrolled": true
   },
   "outputs": [
    {
     "name": "stdout",
     "output_type": "stream",
     "text": [
      "p-значение: 0.5535080500643661\n",
      "Нулевая гипотеза не отвергнута!\n"
     ]
    }
   ],
   "source": [
    "# создаем выборку для платформы \"XOne\" со всеми оценками пользователей\n",
    "data_xone = games.query('platform ==\"XOne\" and user_score < 101 and year_of_release >= 2012')['user_score']\n",
    "# создаем выборку для платформы \"PC\" со всеми оценками пользователей\n",
    "data_pc = games.query('platform ==\"PC\" and user_score < 101 and year_of_release >= 2012')['user_score']\n",
    "\n",
    "# делаем выборку из 250 оценок \n",
    "array_xone = data_xone[0:250].tolist()\n",
    "array_pc = data_pc[0:250].tolist()\n",
    "\n",
    "alpha = .05 # критический уровень статистической значимости\n",
    "            \n",
    "results = st.ttest_ind(array_xone, array_pc)\n",
    "print('p-значение:', results.pvalue)\n",
    "\n",
    "if (results.pvalue < alpha):\n",
    "    print('Нулевая гипотеза', 'отвергнута!')\n",
    "else:\n",
    "    print('Нулевая гипотеза',  'не отвергнута!')"
   ]
  },
  {
   "cell_type": "markdown",
   "metadata": {},
   "source": [
    "**Нулевая** гипотеза говорит, что средние показателей рейтинга платформ **XBOX и PC одинаковые**"
   ]
  },
  {
   "cell_type": "markdown",
   "metadata": {},
   "source": [
    "#### Средние пользовательские рейтинги жанров Action (англ. «действие», экшен-игры) и Sports (англ. «спортивные соревнования») разные"
   ]
  },
  {
   "cell_type": "markdown",
   "metadata": {},
   "source": [
    "\n",
    "* Нулевая гипотеза будет сформулирована следующим образом: \n",
    "    * Средние пользовательские рейтинги жанра __``Action``__ __равны__ средним пользовательским рейтингам жанра __``Sports``__\n",
    "* Альтернативная гипотеза звучит следующим образом: \n",
    "    * Средние пользовательские рейтинги жанра __``Action``__ __не равны__ средним пользовательским рейтингам жанра __``Sports``__\n",
    "\n",
    "Будем сравнивать две генеральные совокупности, используем метод scipy.stats.ttest_ind()"
   ]
  },
  {
   "cell_type": "code",
   "execution_count": 38,
   "metadata": {},
   "outputs": [
    {
     "name": "stdout",
     "output_type": "stream",
     "text": [
      "p-значение: 2.1766321356370407e-20\n",
      "Нулевая гипотеза отвергнута!\n"
     ]
    }
   ],
   "source": [
    "# создаем series для жанра \"Action\" со всеми оценками пользователей\n",
    "array_action = games.query('genre ==\"Action\" and user_score < 101 and year_of_release >= 2012')['user_score']\n",
    "# создаем series для жанра \"Sports\" со всеми оценками пользователей\n",
    "array_sports = games.query('genre ==\"Sports\" and user_score < 101 and year_of_release >= 2012')['user_score']\n",
    "\n",
    "# делаем выборку из 250 оценок\n",
    "array_action = array_action[0:250].tolist()\n",
    "array_sports = array_sports[0:250].tolist()\n",
    "\n",
    "alpha = .05 # критический уровень статистической значимости\n",
    "            \n",
    "results = st.ttest_ind(array_action, array_sports)\n",
    "print('p-значение:', results.pvalue)\n",
    "\n",
    "if (results.pvalue < alpha):\n",
    "    print('Нулевая гипотеза', 'отвергнута!')\n",
    "else:\n",
    "    print('Нулевая гипотеза', 'не отвергнута!')"
   ]
  },
  {
   "cell_type": "markdown",
   "metadata": {},
   "source": [
    "**Альтернативная** гипотеза говорит, что все  средние пользовательские рейтинги жанров **Action и Sports разные**"
   ]
  },
  {
   "cell_type": "markdown",
   "metadata": {},
   "source": [
    "### Общий вывод"
   ]
  },
  {
   "cell_type": "markdown",
   "metadata": {},
   "source": [
    "В данном проекте мы изучили данные, поправили столбцы, преобразовали данные в нужный тип и заполнили пропуски. Делали это все по минимуму, так как могут исказиться данные. Так же вывели общую сумму по продажам игр во всех регионах. \n",
    "Осуществили исследовательский анализ данных и вывели из них:\n",
    "1. С **1990** года начался **всплеск** выпуска игр;\n",
    "2. В **ТОП-6** платформ за весь период исследования вошли такие консоли как **PS2, XBOX360, PS3, Wii, DS**;\n",
    "\n",
    "Далее мы выбрали **актуальный** период с **2012** года для дальнейшего прогноза в **2017** году и выявили следующее:\n",
    "\n",
    "1. С **2013** года приставки **PS4** и XBOXOne начали расти в продажах, а так же они имели практически одинаковые продажи;\n",
    "2. С **2012** года самыми продаваемыми приставками были **XBOX360** и **PS3**;\n",
    "3. Самыми популярными жанрами за актуальный период стали **Shooter, Action, Sports, Role-Playing, Racing**;\n",
    "4. Американские юзеры больше предпочитают **XBOX360**, европейские - **PS3**, японские - **3DS**;\n",
    "5. Так же нашли популярные жанры. Американцы и европейцы больше любят играть в **Action**. Японцы в **Role-Playing**;\n",
    "6. Во всех кластерах рейтинг ESRB в основном **«E»**;\n",
    "\n",
    "Так же мы подтвердили гипотезы, что пользовательские рейтинги платформ XBOXOne и PC одинаковые, а то что средние пользовательские рейтинги жанров Action и Sports разные."
   ]
  }
 ],
 "metadata": {
  "ExecuteTimeLog": [
   {
    "duration": 84,
    "start_time": "2022-11-14T09:11:47.406Z"
   },
   {
    "duration": 381,
    "start_time": "2022-11-14T10:13:26.368Z"
   },
   {
    "duration": 3,
    "start_time": "2022-11-14T10:17:03.630Z"
   },
   {
    "duration": 2,
    "start_time": "2022-11-14T10:17:52.603Z"
   },
   {
    "duration": 90,
    "start_time": "2022-11-14T10:18:59.873Z"
   },
   {
    "duration": 11,
    "start_time": "2022-11-14T10:19:47.808Z"
   },
   {
    "duration": 179,
    "start_time": "2022-11-14T10:20:07.225Z"
   },
   {
    "duration": 77,
    "start_time": "2022-11-14T10:20:21.109Z"
   },
   {
    "duration": 2,
    "start_time": "2022-11-14T10:20:42.087Z"
   },
   {
    "duration": 47,
    "start_time": "2022-11-14T10:20:45.626Z"
   },
   {
    "duration": 69,
    "start_time": "2022-11-14T10:20:48.666Z"
   },
   {
    "duration": 12,
    "start_time": "2022-11-14T10:21:01.017Z"
   },
   {
    "duration": 64,
    "start_time": "2022-11-14T10:38:18.207Z"
   },
   {
    "duration": 2,
    "start_time": "2022-11-14T10:38:29.778Z"
   },
   {
    "duration": 45,
    "start_time": "2022-11-14T10:38:33.077Z"
   },
   {
    "duration": 11,
    "start_time": "2022-11-14T10:38:36.507Z"
   },
   {
    "duration": 8,
    "start_time": "2022-11-14T10:38:41.112Z"
   },
   {
    "duration": 7,
    "start_time": "2022-11-14T10:40:03.203Z"
   },
   {
    "duration": 2474,
    "start_time": "2022-11-14T10:40:23.897Z"
   },
   {
    "duration": 9,
    "start_time": "2022-11-14T10:41:09.545Z"
   },
   {
    "duration": 22,
    "start_time": "2022-11-14T10:48:32.063Z"
   },
   {
    "duration": 2,
    "start_time": "2022-11-14T10:51:56.003Z"
   },
   {
    "duration": 47,
    "start_time": "2022-11-14T10:51:59.060Z"
   },
   {
    "duration": 11,
    "start_time": "2022-11-14T10:52:03.139Z"
   },
   {
    "duration": 22,
    "start_time": "2022-11-14T10:52:08.541Z"
   },
   {
    "duration": 39,
    "start_time": "2022-11-14T10:54:11.918Z"
   },
   {
    "duration": 31,
    "start_time": "2022-11-14T10:54:36.381Z"
   },
   {
    "duration": 49,
    "start_time": "2022-11-14T10:54:58.170Z"
   },
   {
    "duration": 46,
    "start_time": "2022-11-14T10:55:18.838Z"
   },
   {
    "duration": 54,
    "start_time": "2022-11-14T10:55:38.564Z"
   },
   {
    "duration": 59,
    "start_time": "2022-11-14T10:55:51.398Z"
   },
   {
    "duration": 55,
    "start_time": "2022-11-14T10:59:22.931Z"
   },
   {
    "duration": 61,
    "start_time": "2022-11-14T10:59:51.719Z"
   },
   {
    "duration": 307,
    "start_time": "2022-11-14T11:10:29.647Z"
   },
   {
    "duration": 3,
    "start_time": "2022-11-14T11:14:03.615Z"
   },
   {
    "duration": 10,
    "start_time": "2022-11-14T11:14:27.520Z"
   },
   {
    "duration": 3,
    "start_time": "2022-11-14T11:15:46.609Z"
   },
   {
    "duration": 46,
    "start_time": "2022-11-14T11:15:49.686Z"
   },
   {
    "duration": 18,
    "start_time": "2022-11-14T11:15:52.696Z"
   },
   {
    "duration": 13,
    "start_time": "2022-11-14T11:16:01.435Z"
   },
   {
    "duration": 3,
    "start_time": "2022-11-14T11:17:09.961Z"
   },
   {
    "duration": 18,
    "start_time": "2022-11-14T11:19:09.535Z"
   },
   {
    "duration": 580,
    "start_time": "2022-11-14T11:26:15.766Z"
   },
   {
    "duration": 16,
    "start_time": "2022-11-14T11:26:54.960Z"
   },
   {
    "duration": 89,
    "start_time": "2022-11-14T11:27:31.322Z"
   },
   {
    "duration": 26,
    "start_time": "2022-11-14T11:28:29.460Z"
   },
   {
    "duration": 26,
    "start_time": "2022-11-14T11:32:23.160Z"
   },
   {
    "duration": 27,
    "start_time": "2022-11-14T11:32:49.600Z"
   },
   {
    "duration": 81,
    "start_time": "2022-11-14T11:37:11.974Z"
   },
   {
    "duration": 21,
    "start_time": "2022-11-14T11:37:29.551Z"
   },
   {
    "duration": 290,
    "start_time": "2022-11-14T11:37:46.648Z"
   },
   {
    "duration": 3,
    "start_time": "2022-11-14T11:38:00.860Z"
   },
   {
    "duration": 48,
    "start_time": "2022-11-14T11:38:03.856Z"
   },
   {
    "duration": 11,
    "start_time": "2022-11-14T11:38:06.967Z"
   },
   {
    "duration": 3,
    "start_time": "2022-11-14T11:38:13.260Z"
   },
   {
    "duration": 19,
    "start_time": "2022-11-14T11:38:16.888Z"
   },
   {
    "duration": 26,
    "start_time": "2022-11-14T11:39:23.596Z"
   },
   {
    "duration": 19,
    "start_time": "2022-11-14T11:39:58.355Z"
   },
   {
    "duration": 19,
    "start_time": "2022-11-14T11:44:34.642Z"
   },
   {
    "duration": 20,
    "start_time": "2022-11-14T11:48:03.757Z"
   },
   {
    "duration": 23,
    "start_time": "2022-11-14T11:48:39.445Z"
   },
   {
    "duration": 26,
    "start_time": "2022-11-14T11:51:59.408Z"
   },
   {
    "duration": 3,
    "start_time": "2022-11-14T11:52:10.603Z"
   },
   {
    "duration": 44,
    "start_time": "2022-11-14T11:52:13.820Z"
   },
   {
    "duration": 15,
    "start_time": "2022-11-14T11:52:16.819Z"
   },
   {
    "duration": 4,
    "start_time": "2022-11-14T11:52:22.522Z"
   },
   {
    "duration": 26,
    "start_time": "2022-11-14T11:52:26.219Z"
   },
   {
    "duration": 24,
    "start_time": "2022-11-14T11:52:55.370Z"
   },
   {
    "duration": 25,
    "start_time": "2022-11-14T12:12:41.775Z"
   },
   {
    "duration": 21,
    "start_time": "2022-11-14T12:13:21.159Z"
   },
   {
    "duration": 24,
    "start_time": "2022-11-14T12:13:43.728Z"
   },
   {
    "duration": 28,
    "start_time": "2022-11-14T12:14:23.876Z"
   },
   {
    "duration": 2,
    "start_time": "2022-11-14T12:14:30.721Z"
   },
   {
    "duration": 48,
    "start_time": "2022-11-14T12:14:34.049Z"
   },
   {
    "duration": 14,
    "start_time": "2022-11-14T12:14:37.628Z"
   },
   {
    "duration": 3,
    "start_time": "2022-11-14T12:14:42.873Z"
   },
   {
    "duration": 24,
    "start_time": "2022-11-14T12:14:46.509Z"
   },
   {
    "duration": 28,
    "start_time": "2022-11-14T12:18:21.693Z"
   },
   {
    "duration": 24,
    "start_time": "2022-11-14T12:31:12.003Z"
   },
   {
    "duration": 312,
    "start_time": "2022-11-14T12:37:20.892Z"
   },
   {
    "duration": 28,
    "start_time": "2022-11-14T12:38:10.200Z"
   },
   {
    "duration": 30,
    "start_time": "2022-11-14T12:53:28.653Z"
   },
   {
    "duration": 26,
    "start_time": "2022-11-14T12:54:19.398Z"
   },
   {
    "duration": 30,
    "start_time": "2022-11-14T12:56:09.999Z"
   },
   {
    "duration": 30,
    "start_time": "2022-11-14T12:57:43.456Z"
   },
   {
    "duration": 24,
    "start_time": "2022-11-14T13:01:43.752Z"
   },
   {
    "duration": 7,
    "start_time": "2022-11-14T13:05:40.210Z"
   },
   {
    "duration": 10,
    "start_time": "2022-11-14T13:20:24.374Z"
   },
   {
    "duration": 11,
    "start_time": "2022-11-14T13:23:08.875Z"
   },
   {
    "duration": 3,
    "start_time": "2022-11-14T13:23:52.890Z"
   },
   {
    "duration": 47,
    "start_time": "2022-11-14T13:23:55.726Z"
   },
   {
    "duration": 13,
    "start_time": "2022-11-14T13:24:02.041Z"
   },
   {
    "duration": 3,
    "start_time": "2022-11-14T13:24:07.583Z"
   },
   {
    "duration": 22,
    "start_time": "2022-11-14T13:24:15.638Z"
   },
   {
    "duration": 5,
    "start_time": "2022-11-14T13:24:24.677Z"
   },
   {
    "duration": 15,
    "start_time": "2022-11-14T13:24:29.193Z"
   },
   {
    "duration": 3,
    "start_time": "2022-11-14T13:24:51.032Z"
   },
   {
    "duration": 47,
    "start_time": "2022-11-14T13:24:54.565Z"
   },
   {
    "duration": 11,
    "start_time": "2022-11-14T13:24:57.787Z"
   },
   {
    "duration": 3,
    "start_time": "2022-11-14T13:25:02.845Z"
   },
   {
    "duration": 21,
    "start_time": "2022-11-14T13:25:06.035Z"
   },
   {
    "duration": 23,
    "start_time": "2022-11-14T13:25:19.164Z"
   },
   {
    "duration": 4,
    "start_time": "2022-11-14T13:25:23.637Z"
   },
   {
    "duration": 13,
    "start_time": "2022-11-14T13:25:31.547Z"
   },
   {
    "duration": 13,
    "start_time": "2022-11-14T13:26:09.444Z"
   },
   {
    "duration": 10,
    "start_time": "2022-11-14T13:26:25.601Z"
   },
   {
    "duration": 6,
    "start_time": "2022-11-14T13:33:18.026Z"
   },
   {
    "duration": 344,
    "start_time": "2022-11-14T13:34:08.494Z"
   },
   {
    "duration": 193,
    "start_time": "2022-11-14T13:35:57.151Z"
   },
   {
    "duration": 19,
    "start_time": "2022-11-14T13:44:41.090Z"
   },
   {
    "duration": 270,
    "start_time": "2022-11-14T13:45:09.285Z"
   },
   {
    "duration": 18,
    "start_time": "2022-11-14T13:51:07.714Z"
   },
   {
    "duration": 15,
    "start_time": "2022-11-14T13:51:30.885Z"
   },
   {
    "duration": 609,
    "start_time": "2022-11-14T13:53:19.997Z"
   },
   {
    "duration": 3,
    "start_time": "2022-11-14T13:53:48.768Z"
   },
   {
    "duration": 142,
    "start_time": "2022-11-14T13:53:52.989Z"
   },
   {
    "duration": 192,
    "start_time": "2022-11-14T13:55:33.334Z"
   },
   {
    "duration": 195,
    "start_time": "2022-11-14T13:56:03.067Z"
   },
   {
    "duration": 3,
    "start_time": "2022-11-14T13:56:09.623Z"
   },
   {
    "duration": 45,
    "start_time": "2022-11-14T13:56:12.624Z"
   },
   {
    "duration": 12,
    "start_time": "2022-11-14T13:56:16.504Z"
   },
   {
    "duration": 4,
    "start_time": "2022-11-14T13:56:21.857Z"
   },
   {
    "duration": 23,
    "start_time": "2022-11-14T13:56:25.555Z"
   },
   {
    "duration": 4,
    "start_time": "2022-11-14T13:56:29.717Z"
   },
   {
    "duration": 182,
    "start_time": "2022-11-14T13:56:33.306Z"
   },
   {
    "duration": 183,
    "start_time": "2022-11-14T13:59:45.106Z"
   },
   {
    "duration": 2,
    "start_time": "2022-11-14T14:04:54.448Z"
   },
   {
    "duration": 44,
    "start_time": "2022-11-14T14:05:05.152Z"
   },
   {
    "duration": 12,
    "start_time": "2022-11-14T14:05:05.197Z"
   },
   {
    "duration": 3,
    "start_time": "2022-11-14T14:05:10.611Z"
   },
   {
    "duration": 19,
    "start_time": "2022-11-14T14:05:15.071Z"
   },
   {
    "duration": 5,
    "start_time": "2022-11-14T14:05:19.561Z"
   },
   {
    "duration": 186,
    "start_time": "2022-11-14T14:05:23.141Z"
   },
   {
    "duration": 4,
    "start_time": "2022-11-14T14:06:23.324Z"
   },
   {
    "duration": 4,
    "start_time": "2022-11-14T14:06:31.727Z"
   },
   {
    "duration": 178,
    "start_time": "2022-11-14T14:06:35.201Z"
   },
   {
    "duration": 2,
    "start_time": "2022-11-14T14:06:55.816Z"
   },
   {
    "duration": 284,
    "start_time": "2022-11-14T14:07:00.064Z"
   },
   {
    "duration": 181,
    "start_time": "2022-11-14T14:07:58.006Z"
   },
   {
    "duration": 193,
    "start_time": "2022-11-14T14:08:34.135Z"
   },
   {
    "duration": 19,
    "start_time": "2022-11-14T14:16:27.931Z"
   },
   {
    "duration": 399,
    "start_time": "2022-11-15T08:54:28.298Z"
   },
   {
    "duration": 188,
    "start_time": "2022-11-15T08:54:33.203Z"
   },
   {
    "duration": 14,
    "start_time": "2022-11-15T08:54:36.578Z"
   },
   {
    "duration": 4,
    "start_time": "2022-11-15T08:54:41.330Z"
   },
   {
    "duration": 22,
    "start_time": "2022-11-15T08:54:44.410Z"
   },
   {
    "duration": 6,
    "start_time": "2022-11-15T08:55:04.978Z"
   },
   {
    "duration": 403,
    "start_time": "2022-11-15T08:55:14.907Z"
   },
   {
    "duration": 95,
    "start_time": "2022-11-15T08:55:15.312Z"
   },
   {
    "duration": 10,
    "start_time": "2022-11-15T08:55:18.428Z"
   },
   {
    "duration": 314,
    "start_time": "2022-11-15T08:56:34.145Z"
   },
   {
    "duration": 24,
    "start_time": "2022-11-15T09:04:19.131Z"
   },
   {
    "duration": 4,
    "start_time": "2022-11-15T09:04:35.738Z"
   },
   {
    "duration": 17,
    "start_time": "2022-11-15T09:04:39.473Z"
   },
   {
    "duration": 3,
    "start_time": "2022-11-15T09:05:33.077Z"
   },
   {
    "duration": 55,
    "start_time": "2022-11-15T09:05:37.251Z"
   },
   {
    "duration": 15,
    "start_time": "2022-11-15T09:05:41.275Z"
   },
   {
    "duration": 3,
    "start_time": "2022-11-15T09:05:47.214Z"
   },
   {
    "duration": 21,
    "start_time": "2022-11-15T09:05:50.653Z"
   },
   {
    "duration": 6,
    "start_time": "2022-11-15T09:05:56.277Z"
   },
   {
    "duration": 2,
    "start_time": "2022-11-15T09:06:00.515Z"
   },
   {
    "duration": 18,
    "start_time": "2022-11-15T09:06:04.239Z"
   },
   {
    "duration": 332,
    "start_time": "2022-11-15T09:06:16.841Z"
   },
   {
    "duration": 488,
    "start_time": "2022-11-15T09:07:47.476Z"
   },
   {
    "duration": 262,
    "start_time": "2022-11-15T09:07:50.812Z"
   },
   {
    "duration": 188,
    "start_time": "2022-11-15T09:08:06.295Z"
   },
   {
    "duration": 4,
    "start_time": "2022-11-15T09:08:12.588Z"
   },
   {
    "duration": 68,
    "start_time": "2022-11-15T09:08:16.251Z"
   },
   {
    "duration": 13,
    "start_time": "2022-11-15T09:08:19.161Z"
   },
   {
    "duration": 3,
    "start_time": "2022-11-15T09:08:24.131Z"
   },
   {
    "duration": 21,
    "start_time": "2022-11-15T09:08:27.197Z"
   },
   {
    "duration": 5,
    "start_time": "2022-11-15T09:08:31.561Z"
   },
   {
    "duration": 3,
    "start_time": "2022-11-15T09:08:35.131Z"
   },
   {
    "duration": 193,
    "start_time": "2022-11-15T09:08:38.972Z"
   },
   {
    "duration": 378,
    "start_time": "2022-11-15T09:14:35.331Z"
   },
   {
    "duration": 283,
    "start_time": "2022-11-15T09:18:02.113Z"
   },
   {
    "duration": 2,
    "start_time": "2022-11-15T09:18:23.139Z"
   },
   {
    "duration": 46,
    "start_time": "2022-11-15T09:18:27.180Z"
   },
   {
    "duration": 13,
    "start_time": "2022-11-15T09:18:30.042Z"
   },
   {
    "duration": 3,
    "start_time": "2022-11-15T09:18:34.934Z"
   },
   {
    "duration": 19,
    "start_time": "2022-11-15T09:18:38.769Z"
   },
   {
    "duration": 5,
    "start_time": "2022-11-15T09:18:44.258Z"
   },
   {
    "duration": 4,
    "start_time": "2022-11-15T09:18:48.681Z"
   },
   {
    "duration": 190,
    "start_time": "2022-11-15T09:18:51.979Z"
   },
   {
    "duration": 551,
    "start_time": "2022-11-15T09:19:00.549Z"
   },
   {
    "duration": 290,
    "start_time": "2022-11-15T09:24:49.383Z"
   },
   {
    "duration": 342,
    "start_time": "2022-11-15T09:28:03.774Z"
   },
   {
    "duration": 287,
    "start_time": "2022-11-15T09:28:52.434Z"
   },
   {
    "duration": 224,
    "start_time": "2022-11-15T09:29:06.365Z"
   },
   {
    "duration": 333,
    "start_time": "2022-11-15T09:29:14.679Z"
   },
   {
    "duration": 306,
    "start_time": "2022-11-15T09:29:26.685Z"
   },
   {
    "duration": 375,
    "start_time": "2022-11-15T09:29:50.509Z"
   },
   {
    "duration": 48,
    "start_time": "2022-11-15T09:29:50.886Z"
   },
   {
    "duration": 13,
    "start_time": "2022-11-15T09:29:50.935Z"
   },
   {
    "duration": 5,
    "start_time": "2022-11-15T09:29:50.951Z"
   },
   {
    "duration": 24,
    "start_time": "2022-11-15T09:29:50.957Z"
   },
   {
    "duration": 5,
    "start_time": "2022-11-15T09:29:50.983Z"
   },
   {
    "duration": 721,
    "start_time": "2022-11-15T09:29:50.989Z"
   },
   {
    "duration": 215,
    "start_time": "2022-11-15T09:29:51.712Z"
   },
   {
    "duration": 553,
    "start_time": "2022-11-15T09:29:51.929Z"
   },
   {
    "duration": 359,
    "start_time": "2022-11-15T09:30:53.942Z"
   },
   {
    "duration": 50,
    "start_time": "2022-11-15T09:30:54.304Z"
   },
   {
    "duration": 15,
    "start_time": "2022-11-15T09:30:54.356Z"
   },
   {
    "duration": 6,
    "start_time": "2022-11-15T09:30:54.373Z"
   },
   {
    "duration": 26,
    "start_time": "2022-11-15T09:30:54.380Z"
   },
   {
    "duration": 5,
    "start_time": "2022-11-15T09:30:54.408Z"
   },
   {
    "duration": 745,
    "start_time": "2022-11-15T09:30:54.414Z"
   },
   {
    "duration": 241,
    "start_time": "2022-11-15T09:30:55.161Z"
   },
   {
    "duration": 374,
    "start_time": "2022-11-15T09:30:55.403Z"
   },
   {
    "duration": 384,
    "start_time": "2022-11-15T09:31:50.235Z"
   },
   {
    "duration": 51,
    "start_time": "2022-11-15T09:31:50.621Z"
   },
   {
    "duration": 14,
    "start_time": "2022-11-15T09:31:50.674Z"
   },
   {
    "duration": 5,
    "start_time": "2022-11-15T09:31:50.690Z"
   },
   {
    "duration": 31,
    "start_time": "2022-11-15T09:31:50.697Z"
   },
   {
    "duration": 4,
    "start_time": "2022-11-15T09:31:50.730Z"
   },
   {
    "duration": 740,
    "start_time": "2022-11-15T09:31:50.736Z"
   },
   {
    "duration": 219,
    "start_time": "2022-11-15T09:31:51.478Z"
   },
   {
    "duration": 563,
    "start_time": "2022-11-15T09:31:51.698Z"
   },
   {
    "duration": 398,
    "start_time": "2022-11-15T09:34:05.914Z"
   },
   {
    "duration": 50,
    "start_time": "2022-11-15T09:34:06.314Z"
   },
   {
    "duration": 13,
    "start_time": "2022-11-15T09:34:06.366Z"
   },
   {
    "duration": 3,
    "start_time": "2022-11-15T09:34:06.381Z"
   },
   {
    "duration": 87,
    "start_time": "2022-11-15T09:34:06.386Z"
   },
   {
    "duration": 0,
    "start_time": "2022-11-15T09:34:06.475Z"
   },
   {
    "duration": 0,
    "start_time": "2022-11-15T09:34:06.476Z"
   },
   {
    "duration": 0,
    "start_time": "2022-11-15T09:34:06.477Z"
   },
   {
    "duration": 0,
    "start_time": "2022-11-15T09:34:06.478Z"
   },
   {
    "duration": 386,
    "start_time": "2022-11-15T09:35:46.150Z"
   },
   {
    "duration": 179,
    "start_time": "2022-11-15T09:35:46.538Z"
   },
   {
    "duration": 15,
    "start_time": "2022-11-15T09:35:46.719Z"
   },
   {
    "duration": 3,
    "start_time": "2022-11-15T09:35:46.737Z"
   },
   {
    "duration": 54,
    "start_time": "2022-11-15T09:35:46.742Z"
   },
   {
    "duration": 5,
    "start_time": "2022-11-15T09:35:46.798Z"
   },
   {
    "duration": 798,
    "start_time": "2022-11-15T09:35:46.805Z"
   },
   {
    "duration": 217,
    "start_time": "2022-11-15T09:35:47.605Z"
   },
   {
    "duration": 595,
    "start_time": "2022-11-15T09:35:47.823Z"
   },
   {
    "duration": 411,
    "start_time": "2022-11-15T09:41:39.275Z"
   },
   {
    "duration": 49,
    "start_time": "2022-11-15T09:41:39.688Z"
   },
   {
    "duration": 15,
    "start_time": "2022-11-15T09:41:39.739Z"
   },
   {
    "duration": 10,
    "start_time": "2022-11-15T09:41:39.756Z"
   },
   {
    "duration": 43,
    "start_time": "2022-11-15T09:41:39.768Z"
   },
   {
    "duration": 6,
    "start_time": "2022-11-15T09:41:39.813Z"
   },
   {
    "duration": 769,
    "start_time": "2022-11-15T09:41:39.821Z"
   },
   {
    "duration": 219,
    "start_time": "2022-11-15T09:41:40.592Z"
   },
   {
    "duration": 319,
    "start_time": "2022-11-15T09:41:40.813Z"
   },
   {
    "duration": 540,
    "start_time": "2022-11-15T09:41:41.134Z"
   },
   {
    "duration": 41,
    "start_time": "2022-11-15T09:50:25.715Z"
   },
   {
    "duration": 104,
    "start_time": "2022-11-15T10:06:41.201Z"
   },
   {
    "duration": 25,
    "start_time": "2022-11-15T10:07:48.282Z"
   },
   {
    "duration": 60,
    "start_time": "2022-11-15T10:08:37.828Z"
   },
   {
    "duration": 280,
    "start_time": "2022-11-15T10:09:11.157Z"
   },
   {
    "duration": 327,
    "start_time": "2022-11-15T10:12:41.994Z"
   },
   {
    "duration": 18,
    "start_time": "2022-11-15T11:08:52.771Z"
   },
   {
    "duration": 21,
    "start_time": "2022-11-15T11:11:18.781Z"
   },
   {
    "duration": 11,
    "start_time": "2022-11-15T11:19:52.258Z"
   },
   {
    "duration": 199,
    "start_time": "2022-11-15T11:20:54.206Z"
   },
   {
    "duration": 308,
    "start_time": "2022-11-15T11:22:00.169Z"
   },
   {
    "duration": 13,
    "start_time": "2022-11-15T11:37:27.887Z"
   },
   {
    "duration": 14,
    "start_time": "2022-11-15T11:37:48.451Z"
   },
   {
    "duration": 26,
    "start_time": "2022-11-15T11:38:08.761Z"
   },
   {
    "duration": 24,
    "start_time": "2022-11-15T11:44:41.427Z"
   },
   {
    "duration": 31,
    "start_time": "2022-11-15T11:47:01.922Z"
   },
   {
    "duration": 257,
    "start_time": "2022-11-15T11:49:06.574Z"
   },
   {
    "duration": 250,
    "start_time": "2022-11-15T11:54:56.469Z"
   },
   {
    "duration": 60,
    "start_time": "2022-11-15T13:29:09.598Z"
   },
   {
    "duration": 402,
    "start_time": "2022-11-15T13:29:30.040Z"
   },
   {
    "duration": 89,
    "start_time": "2022-11-15T13:29:30.444Z"
   },
   {
    "duration": 16,
    "start_time": "2022-11-15T13:29:30.536Z"
   },
   {
    "duration": 21,
    "start_time": "2022-11-15T13:29:30.554Z"
   },
   {
    "duration": 69,
    "start_time": "2022-11-15T13:29:30.577Z"
   },
   {
    "duration": 6,
    "start_time": "2022-11-15T13:29:30.648Z"
   },
   {
    "duration": 1021,
    "start_time": "2022-11-15T13:29:30.655Z"
   },
   {
    "duration": 269,
    "start_time": "2022-11-15T13:29:31.678Z"
   },
   {
    "duration": 398,
    "start_time": "2022-11-15T13:29:31.949Z"
   },
   {
    "duration": 419,
    "start_time": "2022-11-15T13:29:32.349Z"
   },
   {
    "duration": 22,
    "start_time": "2022-11-15T13:29:32.769Z"
   },
   {
    "duration": 291,
    "start_time": "2022-11-15T13:29:32.793Z"
   },
   {
    "duration": 328,
    "start_time": "2022-11-15T13:29:33.086Z"
   },
   {
    "duration": 12,
    "start_time": "2022-11-15T13:29:33.415Z"
   },
   {
    "duration": 121,
    "start_time": "2022-11-15T13:29:33.428Z"
   },
   {
    "duration": 149,
    "start_time": "2022-11-15T13:30:05.013Z"
   },
   {
    "duration": 8,
    "start_time": "2022-11-15T13:40:05.085Z"
   },
   {
    "duration": 243,
    "start_time": "2022-11-15T13:40:10.257Z"
   },
   {
    "duration": 429,
    "start_time": "2022-11-15T13:40:18.690Z"
   },
   {
    "duration": 58,
    "start_time": "2022-11-15T13:40:19.129Z"
   },
   {
    "duration": 15,
    "start_time": "2022-11-15T13:40:19.189Z"
   },
   {
    "duration": 5,
    "start_time": "2022-11-15T13:40:19.206Z"
   },
   {
    "duration": 59,
    "start_time": "2022-11-15T13:40:19.214Z"
   },
   {
    "duration": 6,
    "start_time": "2022-11-15T13:40:19.276Z"
   },
   {
    "duration": 895,
    "start_time": "2022-11-15T13:40:19.284Z"
   },
   {
    "duration": 246,
    "start_time": "2022-11-15T13:40:20.181Z"
   },
   {
    "duration": 440,
    "start_time": "2022-11-15T13:40:20.430Z"
   },
   {
    "duration": 436,
    "start_time": "2022-11-15T13:40:20.872Z"
   },
   {
    "duration": 32,
    "start_time": "2022-11-15T13:40:21.310Z"
   },
   {
    "duration": 263,
    "start_time": "2022-11-15T13:40:21.344Z"
   },
   {
    "duration": 373,
    "start_time": "2022-11-15T13:40:21.609Z"
   },
   {
    "duration": 8,
    "start_time": "2022-11-15T13:40:21.985Z"
   },
   {
    "duration": 212,
    "start_time": "2022-11-15T13:40:21.995Z"
   },
   {
    "duration": 251,
    "start_time": "2022-11-15T13:41:26.396Z"
   },
   {
    "duration": 313,
    "start_time": "2022-11-15T14:09:02.097Z"
   },
   {
    "duration": 192,
    "start_time": "2022-11-15T14:09:14.253Z"
   },
   {
    "duration": 197,
    "start_time": "2022-11-15T14:11:16.490Z"
   },
   {
    "duration": 9,
    "start_time": "2022-11-15T14:31:31.833Z"
   },
   {
    "duration": 432,
    "start_time": "2022-11-15T14:32:09.458Z"
   },
   {
    "duration": 1393,
    "start_time": "2022-11-15T14:34:05.420Z"
   },
   {
    "duration": 168,
    "start_time": "2022-11-15T14:34:34.546Z"
   },
   {
    "duration": 155,
    "start_time": "2022-11-15T14:37:33.652Z"
   },
   {
    "duration": 196,
    "start_time": "2022-11-15T14:37:56.435Z"
   },
   {
    "duration": 222,
    "start_time": "2022-11-15T14:38:13.321Z"
   },
   {
    "duration": 217,
    "start_time": "2022-11-15T14:38:35.379Z"
   },
   {
    "duration": 176,
    "start_time": "2022-11-15T14:38:59.275Z"
   },
   {
    "duration": 424,
    "start_time": "2022-11-15T14:39:43.089Z"
   },
   {
    "duration": 54,
    "start_time": "2022-11-15T14:39:43.515Z"
   },
   {
    "duration": 14,
    "start_time": "2022-11-15T14:39:43.571Z"
   },
   {
    "duration": 6,
    "start_time": "2022-11-15T14:39:43.587Z"
   },
   {
    "duration": 45,
    "start_time": "2022-11-15T14:39:43.596Z"
   },
   {
    "duration": 9,
    "start_time": "2022-11-15T14:39:43.645Z"
   },
   {
    "duration": 835,
    "start_time": "2022-11-15T14:39:43.657Z"
   },
   {
    "duration": 236,
    "start_time": "2022-11-15T14:39:44.494Z"
   },
   {
    "duration": 409,
    "start_time": "2022-11-15T14:39:44.732Z"
   },
   {
    "duration": 413,
    "start_time": "2022-11-15T14:39:45.143Z"
   },
   {
    "duration": 20,
    "start_time": "2022-11-15T14:39:45.558Z"
   },
   {
    "duration": 269,
    "start_time": "2022-11-15T14:39:45.580Z"
   },
   {
    "duration": 336,
    "start_time": "2022-11-15T14:39:45.851Z"
   },
   {
    "duration": 7,
    "start_time": "2022-11-15T14:39:46.190Z"
   },
   {
    "duration": 199,
    "start_time": "2022-11-15T14:39:46.200Z"
   },
   {
    "duration": 310,
    "start_time": "2022-11-15T14:39:46.400Z"
   },
   {
    "duration": 0,
    "start_time": "2022-11-15T14:39:46.712Z"
   },
   {
    "duration": 233,
    "start_time": "2022-11-15T14:53:07.300Z"
   },
   {
    "duration": 194,
    "start_time": "2022-11-15T14:53:37.511Z"
   },
   {
    "duration": 194,
    "start_time": "2022-11-15T14:53:56.427Z"
   },
   {
    "duration": 206,
    "start_time": "2022-11-15T14:54:16.305Z"
   },
   {
    "duration": 53,
    "start_time": "2022-11-16T11:08:03.671Z"
   },
   {
    "duration": 450,
    "start_time": "2022-11-16T11:08:11.118Z"
   },
   {
    "duration": 98,
    "start_time": "2022-11-16T11:08:11.570Z"
   },
   {
    "duration": 16,
    "start_time": "2022-11-16T11:08:11.670Z"
   },
   {
    "duration": 6,
    "start_time": "2022-11-16T11:08:11.688Z"
   },
   {
    "duration": 45,
    "start_time": "2022-11-16T11:08:11.696Z"
   },
   {
    "duration": 7,
    "start_time": "2022-11-16T11:08:11.742Z"
   },
   {
    "duration": 1034,
    "start_time": "2022-11-16T11:08:11.750Z"
   },
   {
    "duration": 239,
    "start_time": "2022-11-16T11:08:12.786Z"
   },
   {
    "duration": 360,
    "start_time": "2022-11-16T11:08:13.027Z"
   },
   {
    "duration": 372,
    "start_time": "2022-11-16T11:08:13.390Z"
   },
   {
    "duration": 23,
    "start_time": "2022-11-16T11:08:13.764Z"
   },
   {
    "duration": 252,
    "start_time": "2022-11-16T11:08:13.788Z"
   },
   {
    "duration": 321,
    "start_time": "2022-11-16T11:08:14.042Z"
   },
   {
    "duration": 9,
    "start_time": "2022-11-16T11:08:14.365Z"
   },
   {
    "duration": 224,
    "start_time": "2022-11-16T11:08:14.375Z"
   },
   {
    "duration": 362,
    "start_time": "2022-11-16T11:08:14.601Z"
   },
   {
    "duration": 0,
    "start_time": "2022-11-16T11:08:14.965Z"
   },
   {
    "duration": 201,
    "start_time": "2022-11-16T11:09:57.302Z"
   },
   {
    "duration": 169,
    "start_time": "2022-11-16T11:12:45.561Z"
   },
   {
    "duration": 8,
    "start_time": "2022-11-16T11:19:00.230Z"
   },
   {
    "duration": 160,
    "start_time": "2022-11-16T11:19:04.595Z"
   },
   {
    "duration": 420,
    "start_time": "2022-11-16T11:26:29.356Z"
   },
   {
    "duration": 52,
    "start_time": "2022-11-16T11:26:29.778Z"
   },
   {
    "duration": 18,
    "start_time": "2022-11-16T11:26:29.832Z"
   },
   {
    "duration": 5,
    "start_time": "2022-11-16T11:26:29.852Z"
   },
   {
    "duration": 40,
    "start_time": "2022-11-16T11:26:29.859Z"
   },
   {
    "duration": 6,
    "start_time": "2022-11-16T11:26:29.901Z"
   },
   {
    "duration": 893,
    "start_time": "2022-11-16T11:26:29.909Z"
   },
   {
    "duration": 247,
    "start_time": "2022-11-16T11:26:30.811Z"
   },
   {
    "duration": 369,
    "start_time": "2022-11-16T11:26:31.061Z"
   },
   {
    "duration": 423,
    "start_time": "2022-11-16T11:26:31.439Z"
   },
   {
    "duration": 23,
    "start_time": "2022-11-16T11:26:31.864Z"
   },
   {
    "duration": 264,
    "start_time": "2022-11-16T11:26:31.889Z"
   },
   {
    "duration": 325,
    "start_time": "2022-11-16T11:26:32.155Z"
   },
   {
    "duration": 7,
    "start_time": "2022-11-16T11:26:32.482Z"
   },
   {
    "duration": 189,
    "start_time": "2022-11-16T11:26:32.491Z"
   },
   {
    "duration": 231,
    "start_time": "2022-11-16T11:26:32.683Z"
   },
   {
    "duration": 3,
    "start_time": "2022-11-16T11:26:32.916Z"
   },
   {
    "duration": 278,
    "start_time": "2022-11-16T11:30:38.191Z"
   },
   {
    "duration": 204,
    "start_time": "2022-11-16T11:30:48.114Z"
   },
   {
    "duration": 240,
    "start_time": "2022-11-16T11:32:57.890Z"
   },
   {
    "duration": 282,
    "start_time": "2022-11-16T11:33:15.921Z"
   },
   {
    "duration": 178,
    "start_time": "2022-11-16T11:34:30.201Z"
   },
   {
    "duration": 175,
    "start_time": "2022-11-16T11:34:42.005Z"
   },
   {
    "duration": 355,
    "start_time": "2022-11-16T11:40:51.789Z"
   },
   {
    "duration": 231,
    "start_time": "2022-11-16T11:41:14.506Z"
   },
   {
    "duration": 39,
    "start_time": "2022-11-16T11:44:05.645Z"
   },
   {
    "duration": 507,
    "start_time": "2022-11-16T11:44:18.704Z"
   },
   {
    "duration": 58,
    "start_time": "2022-11-16T11:44:19.214Z"
   },
   {
    "duration": 18,
    "start_time": "2022-11-16T11:44:19.274Z"
   },
   {
    "duration": 3,
    "start_time": "2022-11-16T11:44:19.295Z"
   },
   {
    "duration": 64,
    "start_time": "2022-11-16T11:44:19.300Z"
   },
   {
    "duration": 7,
    "start_time": "2022-11-16T11:44:19.366Z"
   },
   {
    "duration": 817,
    "start_time": "2022-11-16T11:44:19.375Z"
   },
   {
    "duration": 257,
    "start_time": "2022-11-16T11:44:20.194Z"
   },
   {
    "duration": 374,
    "start_time": "2022-11-16T11:44:20.454Z"
   },
   {
    "duration": 401,
    "start_time": "2022-11-16T11:44:20.837Z"
   },
   {
    "duration": 24,
    "start_time": "2022-11-16T11:44:21.240Z"
   },
   {
    "duration": 293,
    "start_time": "2022-11-16T11:44:21.266Z"
   },
   {
    "duration": 323,
    "start_time": "2022-11-16T11:44:21.562Z"
   },
   {
    "duration": 7,
    "start_time": "2022-11-16T11:44:21.887Z"
   },
   {
    "duration": 176,
    "start_time": "2022-11-16T11:44:21.895Z"
   },
   {
    "duration": 189,
    "start_time": "2022-11-16T11:44:22.073Z"
   },
   {
    "duration": 269,
    "start_time": "2022-11-16T11:44:22.263Z"
   },
   {
    "duration": 7,
    "start_time": "2022-11-16T11:44:22.535Z"
   },
   {
    "duration": 8,
    "start_time": "2022-11-16T11:50:25.034Z"
   },
   {
    "duration": 8,
    "start_time": "2022-11-16T11:53:38.794Z"
   },
   {
    "duration": 6,
    "start_time": "2022-11-16T11:56:01.271Z"
   },
   {
    "duration": 426,
    "start_time": "2022-11-16T11:56:17.151Z"
   },
   {
    "duration": 51,
    "start_time": "2022-11-16T11:56:17.580Z"
   },
   {
    "duration": 16,
    "start_time": "2022-11-16T11:56:17.633Z"
   },
   {
    "duration": 7,
    "start_time": "2022-11-16T11:56:17.652Z"
   },
   {
    "duration": 43,
    "start_time": "2022-11-16T11:56:17.661Z"
   },
   {
    "duration": 6,
    "start_time": "2022-11-16T11:56:17.706Z"
   },
   {
    "duration": 892,
    "start_time": "2022-11-16T11:56:17.714Z"
   },
   {
    "duration": 264,
    "start_time": "2022-11-16T11:56:18.608Z"
   },
   {
    "duration": 478,
    "start_time": "2022-11-16T11:56:18.874Z"
   },
   {
    "duration": 423,
    "start_time": "2022-11-16T11:56:19.355Z"
   },
   {
    "duration": 26,
    "start_time": "2022-11-16T11:56:19.780Z"
   },
   {
    "duration": 260,
    "start_time": "2022-11-16T11:56:19.808Z"
   },
   {
    "duration": 320,
    "start_time": "2022-11-16T11:56:20.070Z"
   },
   {
    "duration": 8,
    "start_time": "2022-11-16T11:56:20.392Z"
   },
   {
    "duration": 208,
    "start_time": "2022-11-16T11:56:20.403Z"
   },
   {
    "duration": 198,
    "start_time": "2022-11-16T11:56:20.613Z"
   },
   {
    "duration": 274,
    "start_time": "2022-11-16T11:56:20.813Z"
   },
   {
    "duration": 127,
    "start_time": "2022-11-16T11:56:21.089Z"
   },
   {
    "duration": 0,
    "start_time": "2022-11-16T11:56:21.218Z"
   },
   {
    "duration": 9,
    "start_time": "2022-11-16T11:57:31.338Z"
   },
   {
    "duration": 13,
    "start_time": "2022-11-16T11:57:45.127Z"
   },
   {
    "duration": 6,
    "start_time": "2022-11-16T11:58:12.050Z"
   },
   {
    "duration": 7,
    "start_time": "2022-11-16T11:59:35.409Z"
   },
   {
    "duration": 8,
    "start_time": "2022-11-16T11:59:39.054Z"
   },
   {
    "duration": 170,
    "start_time": "2022-11-16T12:03:37.934Z"
   },
   {
    "duration": 167,
    "start_time": "2022-11-16T12:04:56.492Z"
   },
   {
    "duration": 7,
    "start_time": "2022-11-16T12:07:11.794Z"
   },
   {
    "duration": 10,
    "start_time": "2022-11-16T12:08:56.447Z"
   },
   {
    "duration": 465,
    "start_time": "2022-11-16T12:34:43.628Z"
   },
   {
    "duration": 54,
    "start_time": "2022-11-16T12:34:44.095Z"
   },
   {
    "duration": 17,
    "start_time": "2022-11-16T12:34:44.151Z"
   },
   {
    "duration": 5,
    "start_time": "2022-11-16T12:34:44.171Z"
   },
   {
    "duration": 76,
    "start_time": "2022-11-16T12:34:44.178Z"
   },
   {
    "duration": 7,
    "start_time": "2022-11-16T12:34:44.256Z"
   },
   {
    "duration": 835,
    "start_time": "2022-11-16T12:34:44.264Z"
   },
   {
    "duration": 245,
    "start_time": "2022-11-16T12:34:45.101Z"
   },
   {
    "duration": 368,
    "start_time": "2022-11-16T12:34:45.348Z"
   },
   {
    "duration": 434,
    "start_time": "2022-11-16T12:34:45.720Z"
   },
   {
    "duration": 24,
    "start_time": "2022-11-16T12:34:46.157Z"
   },
   {
    "duration": 279,
    "start_time": "2022-11-16T12:34:46.183Z"
   },
   {
    "duration": 350,
    "start_time": "2022-11-16T12:34:46.464Z"
   },
   {
    "duration": 8,
    "start_time": "2022-11-16T12:34:46.816Z"
   },
   {
    "duration": 182,
    "start_time": "2022-11-16T12:34:46.838Z"
   },
   {
    "duration": 194,
    "start_time": "2022-11-16T12:34:47.022Z"
   },
   {
    "duration": 296,
    "start_time": "2022-11-16T12:34:47.219Z"
   },
   {
    "duration": 8,
    "start_time": "2022-11-16T12:34:47.518Z"
   },
   {
    "duration": 23,
    "start_time": "2022-11-16T12:34:47.538Z"
   },
   {
    "duration": 285,
    "start_time": "2022-11-16T12:34:47.564Z"
   },
   {
    "duration": 188,
    "start_time": "2022-11-16T12:34:47.851Z"
   },
   {
    "duration": 7,
    "start_time": "2022-11-16T12:34:48.041Z"
   },
   {
    "duration": 10,
    "start_time": "2022-11-16T12:34:48.050Z"
   },
   {
    "duration": 109,
    "start_time": "2022-11-16T12:58:44.363Z"
   },
   {
    "duration": 22,
    "start_time": "2022-11-16T12:58:59.765Z"
   },
   {
    "duration": 19,
    "start_time": "2022-11-16T13:04:21.470Z"
   },
   {
    "duration": 12,
    "start_time": "2022-11-16T13:06:20.760Z"
   },
   {
    "duration": 21,
    "start_time": "2022-11-16T13:06:45.343Z"
   },
   {
    "duration": 81,
    "start_time": "2022-11-16T13:06:55.557Z"
   },
   {
    "duration": 579,
    "start_time": "2022-11-16T13:11:17.758Z"
   },
   {
    "duration": 661,
    "start_time": "2022-11-16T13:14:48.552Z"
   },
   {
    "duration": 275,
    "start_time": "2022-11-16T13:18:32.570Z"
   },
   {
    "duration": 641,
    "start_time": "2022-11-16T13:19:48.601Z"
   },
   {
    "duration": 24,
    "start_time": "2022-11-16T13:25:13.603Z"
   },
   {
    "duration": 426,
    "start_time": "2022-11-16T13:25:32.543Z"
   },
   {
    "duration": 53,
    "start_time": "2022-11-16T13:25:32.971Z"
   },
   {
    "duration": 16,
    "start_time": "2022-11-16T13:25:33.026Z"
   },
   {
    "duration": 16,
    "start_time": "2022-11-16T13:25:33.045Z"
   },
   {
    "duration": 43,
    "start_time": "2022-11-16T13:25:33.063Z"
   },
   {
    "duration": 6,
    "start_time": "2022-11-16T13:25:33.107Z"
   },
   {
    "duration": 872,
    "start_time": "2022-11-16T13:25:33.114Z"
   },
   {
    "duration": 253,
    "start_time": "2022-11-16T13:25:33.987Z"
   },
   {
    "duration": 349,
    "start_time": "2022-11-16T13:25:34.241Z"
   },
   {
    "duration": 398,
    "start_time": "2022-11-16T13:25:34.592Z"
   },
   {
    "duration": 25,
    "start_time": "2022-11-16T13:25:34.992Z"
   },
   {
    "duration": 244,
    "start_time": "2022-11-16T13:25:35.019Z"
   },
   {
    "duration": 316,
    "start_time": "2022-11-16T13:25:35.265Z"
   },
   {
    "duration": 8,
    "start_time": "2022-11-16T13:25:35.583Z"
   },
   {
    "duration": 183,
    "start_time": "2022-11-16T13:25:35.593Z"
   },
   {
    "duration": 196,
    "start_time": "2022-11-16T13:25:35.778Z"
   },
   {
    "duration": 253,
    "start_time": "2022-11-16T13:25:35.976Z"
   },
   {
    "duration": 11,
    "start_time": "2022-11-16T13:25:36.231Z"
   },
   {
    "duration": 12,
    "start_time": "2022-11-16T13:25:36.243Z"
   },
   {
    "duration": 174,
    "start_time": "2022-11-16T13:25:36.256Z"
   },
   {
    "duration": 183,
    "start_time": "2022-11-16T13:25:36.431Z"
   },
   {
    "duration": 6,
    "start_time": "2022-11-16T13:25:36.615Z"
   },
   {
    "duration": 16,
    "start_time": "2022-11-16T13:25:36.623Z"
   },
   {
    "duration": 24,
    "start_time": "2022-11-16T13:25:36.641Z"
   },
   {
    "duration": 40,
    "start_time": "2022-11-16T13:25:36.667Z"
   },
   {
    "duration": 357,
    "start_time": "2022-11-16T13:25:36.709Z"
   },
   {
    "duration": 356,
    "start_time": "2022-11-16T13:41:49.597Z"
   },
   {
    "duration": 314,
    "start_time": "2022-11-16T13:43:19.435Z"
   },
   {
    "duration": 459,
    "start_time": "2022-11-16T13:47:21.704Z"
   },
   {
    "duration": 11,
    "start_time": "2022-11-16T14:02:29.634Z"
   },
   {
    "duration": 448,
    "start_time": "2022-11-16T14:03:04.347Z"
   },
   {
    "duration": 234,
    "start_time": "2022-11-16T14:04:08.044Z"
   },
   {
    "duration": 224,
    "start_time": "2022-11-16T14:05:37.400Z"
   },
   {
    "duration": 319,
    "start_time": "2022-11-16T14:15:28.849Z"
   },
   {
    "duration": 155,
    "start_time": "2022-11-16T14:26:01.566Z"
   },
   {
    "duration": 29,
    "start_time": "2022-11-16T14:30:10.641Z"
   },
   {
    "duration": 136,
    "start_time": "2022-11-16T14:32:18.699Z"
   },
   {
    "duration": 37,
    "start_time": "2022-11-16T14:35:15.507Z"
   },
   {
    "duration": 354,
    "start_time": "2022-11-16T14:35:47.838Z"
   },
   {
    "duration": 353,
    "start_time": "2022-11-16T14:40:51.809Z"
   },
   {
    "duration": 492,
    "start_time": "2022-11-16T14:42:07.687Z"
   },
   {
    "duration": 373,
    "start_time": "2022-11-16T14:42:33.986Z"
   },
   {
    "duration": 346,
    "start_time": "2022-11-16T14:44:29.180Z"
   },
   {
    "duration": 362,
    "start_time": "2022-11-16T14:45:35.582Z"
   },
   {
    "duration": 221,
    "start_time": "2022-11-16T15:17:29.482Z"
   },
   {
    "duration": 235,
    "start_time": "2022-11-16T15:17:55.743Z"
   },
   {
    "duration": 212,
    "start_time": "2022-11-16T15:19:10.383Z"
   },
   {
    "duration": 221,
    "start_time": "2022-11-16T15:21:02.382Z"
   },
   {
    "duration": 23,
    "start_time": "2022-11-16T15:23:31.535Z"
   },
   {
    "duration": 351,
    "start_time": "2022-11-16T15:23:54.106Z"
   },
   {
    "duration": 241,
    "start_time": "2022-11-16T15:24:06.208Z"
   },
   {
    "duration": 227,
    "start_time": "2022-11-16T15:24:56.643Z"
   },
   {
    "duration": 434,
    "start_time": "2022-11-16T15:55:46.132Z"
   },
   {
    "duration": 52,
    "start_time": "2022-11-16T15:55:46.568Z"
   },
   {
    "duration": 16,
    "start_time": "2022-11-16T15:55:46.622Z"
   },
   {
    "duration": 6,
    "start_time": "2022-11-16T15:55:46.640Z"
   },
   {
    "duration": 43,
    "start_time": "2022-11-16T15:55:46.647Z"
   },
   {
    "duration": 6,
    "start_time": "2022-11-16T15:55:46.692Z"
   },
   {
    "duration": 817,
    "start_time": "2022-11-16T15:55:46.700Z"
   },
   {
    "duration": 235,
    "start_time": "2022-11-16T15:55:47.518Z"
   },
   {
    "duration": 329,
    "start_time": "2022-11-16T15:55:47.754Z"
   },
   {
    "duration": 380,
    "start_time": "2022-11-16T15:55:48.086Z"
   },
   {
    "duration": 23,
    "start_time": "2022-11-16T15:55:48.467Z"
   },
   {
    "duration": 237,
    "start_time": "2022-11-16T15:55:48.492Z"
   },
   {
    "duration": 335,
    "start_time": "2022-11-16T15:55:48.737Z"
   },
   {
    "duration": 8,
    "start_time": "2022-11-16T15:55:49.075Z"
   },
   {
    "duration": 181,
    "start_time": "2022-11-16T15:55:49.085Z"
   },
   {
    "duration": 171,
    "start_time": "2022-11-16T15:55:49.267Z"
   },
   {
    "duration": 249,
    "start_time": "2022-11-16T15:55:49.440Z"
   },
   {
    "duration": 8,
    "start_time": "2022-11-16T15:55:49.691Z"
   },
   {
    "duration": 27,
    "start_time": "2022-11-16T15:55:49.701Z"
   },
   {
    "duration": 185,
    "start_time": "2022-11-16T15:55:49.731Z"
   },
   {
    "duration": 168,
    "start_time": "2022-11-16T15:55:49.919Z"
   },
   {
    "duration": 5,
    "start_time": "2022-11-16T15:55:50.089Z"
   },
   {
    "duration": 21,
    "start_time": "2022-11-16T15:55:50.096Z"
   },
   {
    "duration": 46,
    "start_time": "2022-11-16T15:55:50.119Z"
   },
   {
    "duration": 53,
    "start_time": "2022-11-16T15:55:50.167Z"
   },
   {
    "duration": 300,
    "start_time": "2022-11-16T15:55:50.222Z"
   },
   {
    "duration": 224,
    "start_time": "2022-11-16T15:55:50.524Z"
   },
   {
    "duration": 354,
    "start_time": "2022-11-16T15:55:50.752Z"
   },
   {
    "duration": 354,
    "start_time": "2022-11-16T15:55:51.108Z"
   },
   {
    "duration": 455,
    "start_time": "2022-11-16T15:55:51.464Z"
   },
   {
    "duration": 339,
    "start_time": "2022-11-16T15:55:51.921Z"
   },
   {
    "duration": 222,
    "start_time": "2022-11-16T15:55:52.262Z"
   },
   {
    "duration": 246,
    "start_time": "2022-11-16T15:55:52.485Z"
   },
   {
    "duration": 182,
    "start_time": "2022-11-16T16:03:04.998Z"
   },
   {
    "duration": 175,
    "start_time": "2022-11-16T16:04:50.150Z"
   },
   {
    "duration": 183,
    "start_time": "2022-11-16T16:06:37.210Z"
   },
   {
    "duration": 186,
    "start_time": "2022-11-16T16:10:31.907Z"
   },
   {
    "duration": 378,
    "start_time": "2022-11-16T16:11:35.676Z"
   },
   {
    "duration": 424,
    "start_time": "2022-11-16T16:12:41.044Z"
   },
   {
    "duration": 50,
    "start_time": "2022-11-16T16:12:41.470Z"
   },
   {
    "duration": 14,
    "start_time": "2022-11-16T16:12:41.522Z"
   },
   {
    "duration": 6,
    "start_time": "2022-11-16T16:12:41.538Z"
   },
   {
    "duration": 61,
    "start_time": "2022-11-16T16:12:41.546Z"
   },
   {
    "duration": 7,
    "start_time": "2022-11-16T16:12:41.609Z"
   },
   {
    "duration": 744,
    "start_time": "2022-11-16T16:12:41.618Z"
   },
   {
    "duration": 236,
    "start_time": "2022-11-16T16:12:42.363Z"
   },
   {
    "duration": 345,
    "start_time": "2022-11-16T16:12:42.601Z"
   },
   {
    "duration": 349,
    "start_time": "2022-11-16T16:12:42.949Z"
   },
   {
    "duration": 23,
    "start_time": "2022-11-16T16:12:43.301Z"
   },
   {
    "duration": 234,
    "start_time": "2022-11-16T16:12:43.325Z"
   },
   {
    "duration": 306,
    "start_time": "2022-11-16T16:12:43.560Z"
   },
   {
    "duration": 7,
    "start_time": "2022-11-16T16:12:43.868Z"
   },
   {
    "duration": 170,
    "start_time": "2022-11-16T16:12:43.877Z"
   },
   {
    "duration": 198,
    "start_time": "2022-11-16T16:12:44.049Z"
   },
   {
    "duration": 244,
    "start_time": "2022-11-16T16:12:44.249Z"
   },
   {
    "duration": 6,
    "start_time": "2022-11-16T16:12:44.495Z"
   },
   {
    "duration": 12,
    "start_time": "2022-11-16T16:12:44.502Z"
   },
   {
    "duration": 175,
    "start_time": "2022-11-16T16:12:44.516Z"
   },
   {
    "duration": 171,
    "start_time": "2022-11-16T16:12:44.693Z"
   },
   {
    "duration": 7,
    "start_time": "2022-11-16T16:12:44.866Z"
   },
   {
    "duration": 12,
    "start_time": "2022-11-16T16:12:44.874Z"
   },
   {
    "duration": 24,
    "start_time": "2022-11-16T16:12:44.888Z"
   },
   {
    "duration": 56,
    "start_time": "2022-11-16T16:12:44.914Z"
   },
   {
    "duration": 303,
    "start_time": "2022-11-16T16:12:44.971Z"
   },
   {
    "duration": 224,
    "start_time": "2022-11-16T16:12:45.275Z"
   },
   {
    "duration": 391,
    "start_time": "2022-11-16T16:12:45.502Z"
   },
   {
    "duration": 372,
    "start_time": "2022-11-16T16:12:45.894Z"
   },
   {
    "duration": 454,
    "start_time": "2022-11-16T16:12:46.268Z"
   },
   {
    "duration": 355,
    "start_time": "2022-11-16T16:12:46.724Z"
   },
   {
    "duration": 241,
    "start_time": "2022-11-16T16:12:47.081Z"
   },
   {
    "duration": 248,
    "start_time": "2022-11-16T16:12:47.324Z"
   },
   {
    "duration": 214,
    "start_time": "2022-11-16T16:12:47.574Z"
   },
   {
    "duration": 228,
    "start_time": "2022-11-16T16:12:47.790Z"
   },
   {
    "duration": 212,
    "start_time": "2022-11-16T16:12:48.021Z"
   },
   {
    "duration": 133,
    "start_time": "2022-11-16T16:26:47.348Z"
   },
   {
    "duration": 20,
    "start_time": "2022-11-16T16:27:21.071Z"
   },
   {
    "duration": 17,
    "start_time": "2022-11-16T16:29:20.191Z"
   },
   {
    "duration": 21,
    "start_time": "2022-11-16T16:30:17.455Z"
   },
   {
    "duration": 403,
    "start_time": "2022-11-16T16:31:26.468Z"
   },
   {
    "duration": 53,
    "start_time": "2022-11-16T16:31:26.873Z"
   },
   {
    "duration": 15,
    "start_time": "2022-11-16T16:31:26.927Z"
   },
   {
    "duration": 6,
    "start_time": "2022-11-16T16:31:26.945Z"
   },
   {
    "duration": 42,
    "start_time": "2022-11-16T16:31:26.952Z"
   },
   {
    "duration": 7,
    "start_time": "2022-11-16T16:31:26.996Z"
   },
   {
    "duration": 863,
    "start_time": "2022-11-16T16:31:27.005Z"
   },
   {
    "duration": 231,
    "start_time": "2022-11-16T16:31:27.870Z"
   },
   {
    "duration": 336,
    "start_time": "2022-11-16T16:31:28.103Z"
   },
   {
    "duration": 353,
    "start_time": "2022-11-16T16:31:28.442Z"
   },
   {
    "duration": 33,
    "start_time": "2022-11-16T16:31:28.797Z"
   },
   {
    "duration": 276,
    "start_time": "2022-11-16T16:31:28.832Z"
   },
   {
    "duration": 288,
    "start_time": "2022-11-16T16:31:29.110Z"
   },
   {
    "duration": 7,
    "start_time": "2022-11-16T16:31:29.399Z"
   },
   {
    "duration": 169,
    "start_time": "2022-11-16T16:31:29.408Z"
   },
   {
    "duration": 180,
    "start_time": "2022-11-16T16:31:29.579Z"
   },
   {
    "duration": 255,
    "start_time": "2022-11-16T16:31:29.761Z"
   },
   {
    "duration": 7,
    "start_time": "2022-11-16T16:31:30.018Z"
   },
   {
    "duration": 8,
    "start_time": "2022-11-16T16:31:30.036Z"
   },
   {
    "duration": 182,
    "start_time": "2022-11-16T16:31:30.046Z"
   },
   {
    "duration": 184,
    "start_time": "2022-11-16T16:31:30.230Z"
   },
   {
    "duration": 19,
    "start_time": "2022-11-16T16:31:30.417Z"
   },
   {
    "duration": 8,
    "start_time": "2022-11-16T16:31:30.439Z"
   },
   {
    "duration": 31,
    "start_time": "2022-11-16T16:31:30.449Z"
   },
   {
    "duration": 61,
    "start_time": "2022-11-16T16:31:30.482Z"
   },
   {
    "duration": 306,
    "start_time": "2022-11-16T16:31:30.546Z"
   },
   {
    "duration": 250,
    "start_time": "2022-11-16T16:31:30.854Z"
   },
   {
    "duration": 375,
    "start_time": "2022-11-16T16:31:31.107Z"
   },
   {
    "duration": 383,
    "start_time": "2022-11-16T16:31:31.484Z"
   },
   {
    "duration": 455,
    "start_time": "2022-11-16T16:31:31.869Z"
   },
   {
    "duration": 385,
    "start_time": "2022-11-16T16:31:32.326Z"
   },
   {
    "duration": 246,
    "start_time": "2022-11-16T16:31:32.713Z"
   },
   {
    "duration": 232,
    "start_time": "2022-11-16T16:31:32.961Z"
   },
   {
    "duration": 202,
    "start_time": "2022-11-16T16:31:33.195Z"
   },
   {
    "duration": 216,
    "start_time": "2022-11-16T16:31:33.399Z"
   },
   {
    "duration": 225,
    "start_time": "2022-11-16T16:31:33.617Z"
   },
   {
    "duration": 123,
    "start_time": "2022-11-16T16:31:33.844Z"
   },
   {
    "duration": 19,
    "start_time": "2022-11-16T16:32:53.508Z"
   },
   {
    "duration": 20,
    "start_time": "2022-11-16T16:33:40.171Z"
   },
   {
    "duration": 16,
    "start_time": "2022-11-16T16:34:29.834Z"
   },
   {
    "duration": 15,
    "start_time": "2022-11-16T16:35:33.192Z"
   },
   {
    "duration": 16,
    "start_time": "2022-11-16T16:35:57.482Z"
   },
   {
    "duration": 466,
    "start_time": "2022-11-16T16:36:17.496Z"
   },
   {
    "duration": 51,
    "start_time": "2022-11-16T16:36:17.964Z"
   },
   {
    "duration": 14,
    "start_time": "2022-11-16T16:36:18.017Z"
   },
   {
    "duration": 4,
    "start_time": "2022-11-16T16:36:18.033Z"
   },
   {
    "duration": 39,
    "start_time": "2022-11-16T16:36:18.039Z"
   },
   {
    "duration": 6,
    "start_time": "2022-11-16T16:36:18.080Z"
   },
   {
    "duration": 854,
    "start_time": "2022-11-16T16:36:18.088Z"
   },
   {
    "duration": 316,
    "start_time": "2022-11-16T16:36:18.944Z"
   },
   {
    "duration": 379,
    "start_time": "2022-11-16T16:36:19.263Z"
   },
   {
    "duration": 393,
    "start_time": "2022-11-16T16:36:19.645Z"
   },
   {
    "duration": 24,
    "start_time": "2022-11-16T16:36:20.040Z"
   },
   {
    "duration": 261,
    "start_time": "2022-11-16T16:36:20.065Z"
   },
   {
    "duration": 325,
    "start_time": "2022-11-16T16:36:20.328Z"
   },
   {
    "duration": 7,
    "start_time": "2022-11-16T16:36:20.656Z"
   },
   {
    "duration": 167,
    "start_time": "2022-11-16T16:36:20.665Z"
   },
   {
    "duration": 183,
    "start_time": "2022-11-16T16:36:20.837Z"
   },
   {
    "duration": 265,
    "start_time": "2022-11-16T16:36:21.021Z"
   },
   {
    "duration": 6,
    "start_time": "2022-11-16T16:36:21.288Z"
   },
   {
    "duration": 18,
    "start_time": "2022-11-16T16:36:21.296Z"
   },
   {
    "duration": 191,
    "start_time": "2022-11-16T16:36:21.316Z"
   },
   {
    "duration": 175,
    "start_time": "2022-11-16T16:36:21.509Z"
   },
   {
    "duration": 6,
    "start_time": "2022-11-16T16:36:21.686Z"
   },
   {
    "duration": 21,
    "start_time": "2022-11-16T16:36:21.694Z"
   },
   {
    "duration": 34,
    "start_time": "2022-11-16T16:36:21.717Z"
   },
   {
    "duration": 51,
    "start_time": "2022-11-16T16:36:21.752Z"
   },
   {
    "duration": 316,
    "start_time": "2022-11-16T16:36:21.805Z"
   },
   {
    "duration": 244,
    "start_time": "2022-11-16T16:36:22.123Z"
   },
   {
    "duration": 382,
    "start_time": "2022-11-16T16:36:22.369Z"
   },
   {
    "duration": 386,
    "start_time": "2022-11-16T16:36:22.753Z"
   },
   {
    "duration": 472,
    "start_time": "2022-11-16T16:36:23.141Z"
   },
   {
    "duration": 410,
    "start_time": "2022-11-16T16:36:23.615Z"
   },
   {
    "duration": 278,
    "start_time": "2022-11-16T16:36:24.027Z"
   },
   {
    "duration": 232,
    "start_time": "2022-11-16T16:36:24.307Z"
   },
   {
    "duration": 204,
    "start_time": "2022-11-16T16:36:24.541Z"
   },
   {
    "duration": 217,
    "start_time": "2022-11-16T16:36:24.747Z"
   },
   {
    "duration": 215,
    "start_time": "2022-11-16T16:36:24.966Z"
   },
   {
    "duration": 15,
    "start_time": "2022-11-16T16:36:25.183Z"
   },
   {
    "duration": 119,
    "start_time": "2022-11-16T16:38:48.419Z"
   },
   {
    "duration": 14,
    "start_time": "2022-11-16T16:39:21.655Z"
   },
   {
    "duration": 16,
    "start_time": "2022-11-16T16:40:53.727Z"
   },
   {
    "duration": 15,
    "start_time": "2022-11-16T16:41:32.796Z"
   },
   {
    "duration": 13,
    "start_time": "2022-11-16T16:45:02.042Z"
   },
   {
    "duration": 15,
    "start_time": "2022-11-16T16:45:06.394Z"
   },
   {
    "duration": 88,
    "start_time": "2022-11-16T16:47:54.990Z"
   },
   {
    "duration": 14,
    "start_time": "2022-11-16T16:52:15.484Z"
   },
   {
    "duration": 17,
    "start_time": "2022-11-16T16:53:44.952Z"
   },
   {
    "duration": 14,
    "start_time": "2022-11-16T16:53:49.903Z"
   },
   {
    "duration": 14,
    "start_time": "2022-11-16T17:13:47.221Z"
   },
   {
    "duration": 14,
    "start_time": "2022-11-16T17:15:44.710Z"
   },
   {
    "duration": 211,
    "start_time": "2022-11-16T17:44:34.114Z"
   },
   {
    "duration": 450,
    "start_time": "2022-11-16T17:44:46.015Z"
   },
   {
    "duration": 52,
    "start_time": "2022-11-16T17:44:46.467Z"
   },
   {
    "duration": 16,
    "start_time": "2022-11-16T17:44:46.521Z"
   },
   {
    "duration": 3,
    "start_time": "2022-11-16T17:44:46.540Z"
   },
   {
    "duration": 42,
    "start_time": "2022-11-16T17:44:46.545Z"
   },
   {
    "duration": 6,
    "start_time": "2022-11-16T17:44:46.589Z"
   },
   {
    "duration": 882,
    "start_time": "2022-11-16T17:44:46.597Z"
   },
   {
    "duration": 231,
    "start_time": "2022-11-16T17:44:47.481Z"
   },
   {
    "duration": 351,
    "start_time": "2022-11-16T17:44:47.714Z"
   },
   {
    "duration": 358,
    "start_time": "2022-11-16T17:44:48.068Z"
   },
   {
    "duration": 21,
    "start_time": "2022-11-16T17:44:48.428Z"
   },
   {
    "duration": 250,
    "start_time": "2022-11-16T17:44:48.451Z"
   },
   {
    "duration": 352,
    "start_time": "2022-11-16T17:44:48.702Z"
   },
   {
    "duration": 9,
    "start_time": "2022-11-16T17:44:49.056Z"
   },
   {
    "duration": 207,
    "start_time": "2022-11-16T17:44:49.067Z"
   },
   {
    "duration": 225,
    "start_time": "2022-11-16T17:44:49.277Z"
   },
   {
    "duration": 244,
    "start_time": "2022-11-16T17:44:49.504Z"
   },
   {
    "duration": 6,
    "start_time": "2022-11-16T17:44:49.750Z"
   },
   {
    "duration": 59,
    "start_time": "2022-11-16T17:44:49.758Z"
   },
   {
    "duration": 202,
    "start_time": "2022-11-16T17:44:49.819Z"
   },
   {
    "duration": 173,
    "start_time": "2022-11-16T17:44:50.022Z"
   },
   {
    "duration": 6,
    "start_time": "2022-11-16T17:44:50.197Z"
   },
   {
    "duration": 21,
    "start_time": "2022-11-16T17:44:50.205Z"
   },
   {
    "duration": 43,
    "start_time": "2022-11-16T17:44:50.228Z"
   },
   {
    "duration": 42,
    "start_time": "2022-11-16T17:44:50.273Z"
   },
   {
    "duration": 293,
    "start_time": "2022-11-16T17:44:50.317Z"
   },
   {
    "duration": 227,
    "start_time": "2022-11-16T17:44:50.612Z"
   },
   {
    "duration": 362,
    "start_time": "2022-11-16T17:44:50.842Z"
   },
   {
    "duration": 371,
    "start_time": "2022-11-16T17:44:51.206Z"
   },
   {
    "duration": 464,
    "start_time": "2022-11-16T17:44:51.579Z"
   },
   {
    "duration": 363,
    "start_time": "2022-11-16T17:44:52.045Z"
   },
   {
    "duration": 276,
    "start_time": "2022-11-16T17:44:52.410Z"
   },
   {
    "duration": 249,
    "start_time": "2022-11-16T17:44:52.688Z"
   },
   {
    "duration": 220,
    "start_time": "2022-11-16T17:44:52.939Z"
   },
   {
    "duration": 209,
    "start_time": "2022-11-16T17:44:53.162Z"
   },
   {
    "duration": 221,
    "start_time": "2022-11-16T17:44:53.373Z"
   },
   {
    "duration": 13,
    "start_time": "2022-11-16T17:44:53.597Z"
   },
   {
    "duration": 27,
    "start_time": "2022-11-16T17:44:53.612Z"
   },
   {
    "duration": 231,
    "start_time": "2022-11-16T18:01:36.925Z"
   },
   {
    "duration": 363,
    "start_time": "2022-11-16T18:39:13.227Z"
   },
   {
    "duration": 49,
    "start_time": "2022-11-16T18:39:13.592Z"
   },
   {
    "duration": 13,
    "start_time": "2022-11-16T18:39:13.643Z"
   },
   {
    "duration": 5,
    "start_time": "2022-11-16T18:39:13.658Z"
   },
   {
    "duration": 37,
    "start_time": "2022-11-16T18:39:13.664Z"
   },
   {
    "duration": 5,
    "start_time": "2022-11-16T18:39:13.703Z"
   },
   {
    "duration": 686,
    "start_time": "2022-11-16T18:39:13.710Z"
   },
   {
    "duration": 219,
    "start_time": "2022-11-16T18:39:14.398Z"
   },
   {
    "duration": 308,
    "start_time": "2022-11-16T18:39:14.619Z"
   },
   {
    "duration": 357,
    "start_time": "2022-11-16T18:39:14.929Z"
   },
   {
    "duration": 23,
    "start_time": "2022-11-16T18:39:15.288Z"
   },
   {
    "duration": 238,
    "start_time": "2022-11-16T18:39:15.313Z"
   },
   {
    "duration": 274,
    "start_time": "2022-11-16T18:39:15.553Z"
   },
   {
    "duration": 6,
    "start_time": "2022-11-16T18:39:15.832Z"
   },
   {
    "duration": 168,
    "start_time": "2022-11-16T18:39:15.840Z"
   },
   {
    "duration": 218,
    "start_time": "2022-11-16T18:39:16.010Z"
   },
   {
    "duration": 228,
    "start_time": "2022-11-16T18:39:16.230Z"
   },
   {
    "duration": 5,
    "start_time": "2022-11-16T18:39:16.460Z"
   },
   {
    "duration": 12,
    "start_time": "2022-11-16T18:39:16.467Z"
   },
   {
    "duration": 170,
    "start_time": "2022-11-16T18:39:16.481Z"
   },
   {
    "duration": 149,
    "start_time": "2022-11-16T18:39:16.653Z"
   },
   {
    "duration": 6,
    "start_time": "2022-11-16T18:39:16.804Z"
   },
   {
    "duration": 23,
    "start_time": "2022-11-16T18:39:16.811Z"
   },
   {
    "duration": 21,
    "start_time": "2022-11-16T18:39:16.836Z"
   },
   {
    "duration": 43,
    "start_time": "2022-11-16T18:39:16.859Z"
   },
   {
    "duration": 284,
    "start_time": "2022-11-16T18:39:16.904Z"
   },
   {
    "duration": 216,
    "start_time": "2022-11-16T18:39:17.190Z"
   },
   {
    "duration": 362,
    "start_time": "2022-11-16T18:39:17.408Z"
   },
   {
    "duration": 355,
    "start_time": "2022-11-16T18:39:17.772Z"
   },
   {
    "duration": 427,
    "start_time": "2022-11-16T18:39:18.128Z"
   },
   {
    "duration": 228,
    "start_time": "2022-11-16T18:39:18.557Z"
   },
   {
    "duration": 238,
    "start_time": "2022-11-16T18:39:18.787Z"
   },
   {
    "duration": 241,
    "start_time": "2022-11-16T18:39:19.026Z"
   },
   {
    "duration": 201,
    "start_time": "2022-11-16T18:39:19.268Z"
   },
   {
    "duration": 199,
    "start_time": "2022-11-16T18:39:19.471Z"
   },
   {
    "duration": 204,
    "start_time": "2022-11-16T18:39:19.672Z"
   },
   {
    "duration": 22,
    "start_time": "2022-11-16T18:39:19.878Z"
   },
   {
    "duration": 12,
    "start_time": "2022-11-16T18:39:19.902Z"
   },
   {
    "duration": 56,
    "start_time": "2022-11-17T05:29:08.900Z"
   },
   {
    "duration": 8,
    "start_time": "2022-11-17T05:29:37.333Z"
   },
   {
    "duration": 10,
    "start_time": "2022-11-17T05:45:23.220Z"
   },
   {
    "duration": 386,
    "start_time": "2022-11-17T05:45:32.562Z"
   },
   {
    "duration": 245,
    "start_time": "2022-11-17T05:45:32.950Z"
   },
   {
    "duration": 23,
    "start_time": "2022-11-17T05:45:33.197Z"
   },
   {
    "duration": 16,
    "start_time": "2022-11-17T05:45:33.227Z"
   },
   {
    "duration": 38,
    "start_time": "2022-11-17T05:45:33.245Z"
   },
   {
    "duration": 6,
    "start_time": "2022-11-17T05:45:33.285Z"
   },
   {
    "duration": 1068,
    "start_time": "2022-11-17T05:45:33.293Z"
   },
   {
    "duration": 274,
    "start_time": "2022-11-17T05:45:34.363Z"
   },
   {
    "duration": 399,
    "start_time": "2022-11-17T05:45:34.639Z"
   },
   {
    "duration": 411,
    "start_time": "2022-11-17T05:45:35.041Z"
   },
   {
    "duration": 25,
    "start_time": "2022-11-17T05:45:35.454Z"
   },
   {
    "duration": 300,
    "start_time": "2022-11-17T05:45:35.482Z"
   },
   {
    "duration": 379,
    "start_time": "2022-11-17T05:45:35.785Z"
   },
   {
    "duration": 8,
    "start_time": "2022-11-17T05:45:36.169Z"
   },
   {
    "duration": 207,
    "start_time": "2022-11-17T05:45:36.179Z"
   },
   {
    "duration": 363,
    "start_time": "2022-11-17T05:45:36.389Z"
   },
   {
    "duration": 202,
    "start_time": "2022-11-17T05:45:36.753Z"
   },
   {
    "duration": 8,
    "start_time": "2022-11-17T05:45:36.956Z"
   },
   {
    "duration": 13,
    "start_time": "2022-11-17T05:45:36.966Z"
   },
   {
    "duration": 199,
    "start_time": "2022-11-17T05:45:36.981Z"
   },
   {
    "duration": 219,
    "start_time": "2022-11-17T05:45:37.181Z"
   },
   {
    "duration": 24,
    "start_time": "2022-11-17T05:45:37.402Z"
   },
   {
    "duration": 13,
    "start_time": "2022-11-17T05:45:37.430Z"
   },
   {
    "duration": 32,
    "start_time": "2022-11-17T05:45:37.445Z"
   },
   {
    "duration": 62,
    "start_time": "2022-11-17T05:45:37.479Z"
   },
   {
    "duration": 299,
    "start_time": "2022-11-17T05:45:37.543Z"
   },
   {
    "duration": 301,
    "start_time": "2022-11-17T05:45:37.844Z"
   },
   {
    "duration": 403,
    "start_time": "2022-11-17T05:45:38.147Z"
   },
   {
    "duration": 403,
    "start_time": "2022-11-17T05:45:38.552Z"
   },
   {
    "duration": 516,
    "start_time": "2022-11-17T05:45:38.957Z"
   },
   {
    "duration": 261,
    "start_time": "2022-11-17T05:45:39.475Z"
   },
   {
    "duration": 307,
    "start_time": "2022-11-17T05:45:39.738Z"
   },
   {
    "duration": 277,
    "start_time": "2022-11-17T05:45:40.047Z"
   },
   {
    "duration": 223,
    "start_time": "2022-11-17T05:45:40.326Z"
   },
   {
    "duration": 230,
    "start_time": "2022-11-17T05:45:40.551Z"
   },
   {
    "duration": 253,
    "start_time": "2022-11-17T05:45:40.784Z"
   },
   {
    "duration": 22,
    "start_time": "2022-11-17T05:45:41.038Z"
   },
   {
    "duration": 21,
    "start_time": "2022-11-17T05:45:41.062Z"
   },
   {
    "duration": 31,
    "start_time": "2022-11-17T06:04:03.668Z"
   },
   {
    "duration": 448,
    "start_time": "2022-11-17T06:04:38.191Z"
   },
   {
    "duration": 57,
    "start_time": "2022-11-17T06:04:38.641Z"
   },
   {
    "duration": 23,
    "start_time": "2022-11-17T06:04:38.700Z"
   },
   {
    "duration": 14,
    "start_time": "2022-11-17T06:04:38.725Z"
   },
   {
    "duration": 72,
    "start_time": "2022-11-17T06:04:38.742Z"
   },
   {
    "duration": 7,
    "start_time": "2022-11-17T06:04:38.817Z"
   },
   {
    "duration": 840,
    "start_time": "2022-11-17T06:04:38.826Z"
   },
   {
    "duration": 274,
    "start_time": "2022-11-17T06:04:39.668Z"
   },
   {
    "duration": 365,
    "start_time": "2022-11-17T06:04:39.943Z"
   },
   {
    "duration": 416,
    "start_time": "2022-11-17T06:04:40.310Z"
   },
   {
    "duration": 32,
    "start_time": "2022-11-17T06:04:40.729Z"
   },
   {
    "duration": 286,
    "start_time": "2022-11-17T06:04:40.764Z"
   },
   {
    "duration": 344,
    "start_time": "2022-11-17T06:04:41.052Z"
   },
   {
    "duration": 19,
    "start_time": "2022-11-17T06:04:41.399Z"
   },
   {
    "duration": 210,
    "start_time": "2022-11-17T06:04:41.420Z"
   },
   {
    "duration": 205,
    "start_time": "2022-11-17T06:04:41.632Z"
   },
   {
    "duration": 257,
    "start_time": "2022-11-17T06:04:41.839Z"
   },
   {
    "duration": 16,
    "start_time": "2022-11-17T06:04:42.097Z"
   },
   {
    "duration": 56,
    "start_time": "2022-11-17T06:04:42.114Z"
   },
   {
    "duration": 254,
    "start_time": "2022-11-17T06:04:42.174Z"
   },
   {
    "duration": 168,
    "start_time": "2022-11-17T06:04:42.435Z"
   },
   {
    "duration": 8,
    "start_time": "2022-11-17T06:04:42.605Z"
   },
   {
    "duration": 65,
    "start_time": "2022-11-17T06:04:42.615Z"
   },
   {
    "duration": 69,
    "start_time": "2022-11-17T06:04:42.683Z"
   },
   {
    "duration": 73,
    "start_time": "2022-11-17T06:04:42.754Z"
   },
   {
    "duration": 300,
    "start_time": "2022-11-17T06:04:42.829Z"
   },
   {
    "duration": 232,
    "start_time": "2022-11-17T06:04:43.131Z"
   },
   {
    "duration": 383,
    "start_time": "2022-11-17T06:04:43.365Z"
   },
   {
    "duration": 383,
    "start_time": "2022-11-17T06:04:43.749Z"
   },
   {
    "duration": 494,
    "start_time": "2022-11-17T06:04:44.134Z"
   },
   {
    "duration": 258,
    "start_time": "2022-11-17T06:04:44.630Z"
   },
   {
    "duration": 279,
    "start_time": "2022-11-17T06:04:44.890Z"
   },
   {
    "duration": 262,
    "start_time": "2022-11-17T06:04:45.171Z"
   },
   {
    "duration": 228,
    "start_time": "2022-11-17T06:04:45.435Z"
   },
   {
    "duration": 217,
    "start_time": "2022-11-17T06:04:45.665Z"
   },
   {
    "duration": 231,
    "start_time": "2022-11-17T06:04:45.883Z"
   },
   {
    "duration": 21,
    "start_time": "2022-11-17T06:04:46.115Z"
   },
   {
    "duration": 21,
    "start_time": "2022-11-17T06:04:46.139Z"
   },
   {
    "duration": 30,
    "start_time": "2022-11-17T06:05:04.102Z"
   },
   {
    "duration": 37,
    "start_time": "2022-11-17T06:05:25.716Z"
   },
   {
    "duration": 30,
    "start_time": "2022-11-17T06:05:40.397Z"
   },
   {
    "duration": 1096,
    "start_time": "2022-11-17T06:06:03.449Z"
   },
   {
    "duration": 241,
    "start_time": "2022-11-17T06:06:28.556Z"
   },
   {
    "duration": 462,
    "start_time": "2022-11-17T06:06:35.796Z"
   },
   {
    "duration": 70,
    "start_time": "2022-11-17T06:06:36.260Z"
   },
   {
    "duration": 21,
    "start_time": "2022-11-17T06:06:36.333Z"
   },
   {
    "duration": 47,
    "start_time": "2022-11-17T06:06:36.357Z"
   },
   {
    "duration": 72,
    "start_time": "2022-11-17T06:06:36.406Z"
   },
   {
    "duration": 8,
    "start_time": "2022-11-17T06:06:36.481Z"
   },
   {
    "duration": 930,
    "start_time": "2022-11-17T06:06:36.491Z"
   },
   {
    "duration": 229,
    "start_time": "2022-11-17T06:06:37.427Z"
   },
   {
    "duration": 345,
    "start_time": "2022-11-17T06:06:37.657Z"
   },
   {
    "duration": 372,
    "start_time": "2022-11-17T06:06:38.003Z"
   },
   {
    "duration": 22,
    "start_time": "2022-11-17T06:06:38.377Z"
   },
   {
    "duration": 244,
    "start_time": "2022-11-17T06:06:38.401Z"
   },
   {
    "duration": 287,
    "start_time": "2022-11-17T06:06:38.647Z"
   },
   {
    "duration": 7,
    "start_time": "2022-11-17T06:06:38.939Z"
   },
   {
    "duration": 182,
    "start_time": "2022-11-17T06:06:38.947Z"
   },
   {
    "duration": 266,
    "start_time": "2022-11-17T06:06:39.132Z"
   },
   {
    "duration": 278,
    "start_time": "2022-11-17T06:06:39.400Z"
   },
   {
    "duration": 6,
    "start_time": "2022-11-17T06:06:39.680Z"
   },
   {
    "duration": 10,
    "start_time": "2022-11-17T06:06:39.688Z"
   },
   {
    "duration": 194,
    "start_time": "2022-11-17T06:06:39.699Z"
   },
   {
    "duration": 172,
    "start_time": "2022-11-17T06:06:39.895Z"
   },
   {
    "duration": 7,
    "start_time": "2022-11-17T06:06:40.070Z"
   },
   {
    "duration": 27,
    "start_time": "2022-11-17T06:06:40.079Z"
   },
   {
    "duration": 40,
    "start_time": "2022-11-17T06:06:40.109Z"
   },
   {
    "duration": 54,
    "start_time": "2022-11-17T06:06:40.150Z"
   },
   {
    "duration": 310,
    "start_time": "2022-11-17T06:06:40.206Z"
   },
   {
    "duration": 233,
    "start_time": "2022-11-17T06:06:40.517Z"
   },
   {
    "duration": 401,
    "start_time": "2022-11-17T06:06:40.752Z"
   },
   {
    "duration": 399,
    "start_time": "2022-11-17T06:06:41.154Z"
   },
   {
    "duration": 495,
    "start_time": "2022-11-17T06:06:41.555Z"
   },
   {
    "duration": 280,
    "start_time": "2022-11-17T06:06:42.053Z"
   },
   {
    "duration": 271,
    "start_time": "2022-11-17T06:06:42.336Z"
   },
   {
    "duration": 244,
    "start_time": "2022-11-17T06:06:42.619Z"
   },
   {
    "duration": 224,
    "start_time": "2022-11-17T06:06:42.865Z"
   },
   {
    "duration": 226,
    "start_time": "2022-11-17T06:06:43.091Z"
   },
   {
    "duration": 228,
    "start_time": "2022-11-17T06:06:43.319Z"
   },
   {
    "duration": 15,
    "start_time": "2022-11-17T06:06:43.550Z"
   },
   {
    "duration": 17,
    "start_time": "2022-11-17T06:06:43.567Z"
   },
   {
    "duration": 32,
    "start_time": "2022-11-17T06:06:56.849Z"
   },
   {
    "duration": 60,
    "start_time": "2022-11-17T06:07:02.437Z"
   },
   {
    "duration": 3,
    "start_time": "2022-11-17T06:07:10.056Z"
   },
   {
    "duration": 58,
    "start_time": "2022-11-17T06:07:14.676Z"
   },
   {
    "duration": 19,
    "start_time": "2022-11-17T06:07:18.234Z"
   },
   {
    "duration": 3,
    "start_time": "2022-11-17T06:07:23.197Z"
   },
   {
    "duration": 70,
    "start_time": "2022-11-17T06:07:27.257Z"
   },
   {
    "duration": 23,
    "start_time": "2022-11-17T06:09:11.957Z"
   },
   {
    "duration": 27,
    "start_time": "2022-11-17T06:09:42.635Z"
   },
   {
    "duration": 16,
    "start_time": "2022-11-17T06:14:54.556Z"
   },
   {
    "duration": 25,
    "start_time": "2022-11-17T06:27:22.833Z"
   },
   {
    "duration": 18,
    "start_time": "2022-11-17T06:27:35.008Z"
   },
   {
    "duration": 473,
    "start_time": "2022-11-17T06:33:26.275Z"
   },
   {
    "duration": 76,
    "start_time": "2022-11-17T06:33:26.751Z"
   },
   {
    "duration": 15,
    "start_time": "2022-11-17T06:33:26.834Z"
   },
   {
    "duration": 19,
    "start_time": "2022-11-17T06:33:26.852Z"
   },
   {
    "duration": 65,
    "start_time": "2022-11-17T06:33:26.872Z"
   },
   {
    "duration": 15,
    "start_time": "2022-11-17T06:33:26.939Z"
   },
   {
    "duration": 10,
    "start_time": "2022-11-17T06:33:26.956Z"
   },
   {
    "duration": 871,
    "start_time": "2022-11-17T06:33:26.968Z"
   },
   {
    "duration": 237,
    "start_time": "2022-11-17T06:33:27.842Z"
   },
   {
    "duration": 394,
    "start_time": "2022-11-17T06:33:28.084Z"
   },
   {
    "duration": 447,
    "start_time": "2022-11-17T06:33:28.480Z"
   },
   {
    "duration": 24,
    "start_time": "2022-11-17T06:33:28.929Z"
   },
   {
    "duration": 281,
    "start_time": "2022-11-17T06:33:28.956Z"
   },
   {
    "duration": 340,
    "start_time": "2022-11-17T06:33:29.239Z"
   },
   {
    "duration": 7,
    "start_time": "2022-11-17T06:33:29.581Z"
   },
   {
    "duration": 176,
    "start_time": "2022-11-17T06:33:29.589Z"
   },
   {
    "duration": 195,
    "start_time": "2022-11-17T06:33:29.767Z"
   },
   {
    "duration": 294,
    "start_time": "2022-11-17T06:33:29.964Z"
   },
   {
    "duration": 9,
    "start_time": "2022-11-17T06:33:30.260Z"
   },
   {
    "duration": 66,
    "start_time": "2022-11-17T06:33:30.271Z"
   },
   {
    "duration": 190,
    "start_time": "2022-11-17T06:33:30.340Z"
   },
   {
    "duration": 160,
    "start_time": "2022-11-17T06:33:30.532Z"
   },
   {
    "duration": 7,
    "start_time": "2022-11-17T06:33:30.694Z"
   },
   {
    "duration": 47,
    "start_time": "2022-11-17T06:33:30.711Z"
   },
   {
    "duration": 71,
    "start_time": "2022-11-17T06:33:30.760Z"
   },
   {
    "duration": 39,
    "start_time": "2022-11-17T06:33:30.834Z"
   },
   {
    "duration": 313,
    "start_time": "2022-11-17T06:33:30.874Z"
   },
   {
    "duration": 244,
    "start_time": "2022-11-17T06:33:31.191Z"
   },
   {
    "duration": 400,
    "start_time": "2022-11-17T06:33:31.437Z"
   },
   {
    "duration": 392,
    "start_time": "2022-11-17T06:33:31.839Z"
   },
   {
    "duration": 494,
    "start_time": "2022-11-17T06:33:32.232Z"
   },
   {
    "duration": 254,
    "start_time": "2022-11-17T06:33:32.729Z"
   },
   {
    "duration": 254,
    "start_time": "2022-11-17T06:33:32.984Z"
   },
   {
    "duration": 237,
    "start_time": "2022-11-17T06:33:33.240Z"
   },
   {
    "duration": 225,
    "start_time": "2022-11-17T06:33:33.479Z"
   },
   {
    "duration": 230,
    "start_time": "2022-11-17T06:33:33.706Z"
   },
   {
    "duration": 260,
    "start_time": "2022-11-17T06:33:33.937Z"
   },
   {
    "duration": 32,
    "start_time": "2022-11-17T06:33:34.199Z"
   },
   {
    "duration": 25,
    "start_time": "2022-11-17T06:33:34.235Z"
   },
   {
    "duration": 7,
    "start_time": "2022-11-17T06:52:13.426Z"
   },
   {
    "duration": 474,
    "start_time": "2022-11-17T06:52:17.105Z"
   },
   {
    "duration": 59,
    "start_time": "2022-11-17T06:52:17.582Z"
   },
   {
    "duration": 16,
    "start_time": "2022-11-17T06:52:17.642Z"
   },
   {
    "duration": 47,
    "start_time": "2022-11-17T06:52:17.660Z"
   },
   {
    "duration": 79,
    "start_time": "2022-11-17T06:52:17.709Z"
   },
   {
    "duration": 16,
    "start_time": "2022-11-17T06:52:17.790Z"
   },
   {
    "duration": 39,
    "start_time": "2022-11-17T06:52:17.808Z"
   },
   {
    "duration": 901,
    "start_time": "2022-11-17T06:52:17.849Z"
   },
   {
    "duration": 253,
    "start_time": "2022-11-17T06:52:18.752Z"
   },
   {
    "duration": 444,
    "start_time": "2022-11-17T06:52:19.011Z"
   },
   {
    "duration": 411,
    "start_time": "2022-11-17T06:52:19.457Z"
   },
   {
    "duration": 25,
    "start_time": "2022-11-17T06:52:19.870Z"
   },
   {
    "duration": 307,
    "start_time": "2022-11-17T06:52:19.897Z"
   },
   {
    "duration": 331,
    "start_time": "2022-11-17T06:52:20.207Z"
   },
   {
    "duration": 9,
    "start_time": "2022-11-17T06:52:20.541Z"
   },
   {
    "duration": 201,
    "start_time": "2022-11-17T06:52:20.552Z"
   },
   {
    "duration": 194,
    "start_time": "2022-11-17T06:52:20.756Z"
   },
   {
    "duration": 261,
    "start_time": "2022-11-17T06:52:20.953Z"
   },
   {
    "duration": 12,
    "start_time": "2022-11-17T06:52:21.216Z"
   },
   {
    "duration": 22,
    "start_time": "2022-11-17T06:52:21.231Z"
   },
   {
    "duration": 199,
    "start_time": "2022-11-17T06:52:21.255Z"
   },
   {
    "duration": 179,
    "start_time": "2022-11-17T06:52:21.455Z"
   },
   {
    "duration": 6,
    "start_time": "2022-11-17T06:52:21.636Z"
   },
   {
    "duration": 22,
    "start_time": "2022-11-17T06:52:21.643Z"
   },
   {
    "duration": 67,
    "start_time": "2022-11-17T06:52:21.667Z"
   },
   {
    "duration": 103,
    "start_time": "2022-11-17T06:52:21.736Z"
   },
   {
    "duration": 330,
    "start_time": "2022-11-17T06:52:21.841Z"
   },
   {
    "duration": 262,
    "start_time": "2022-11-17T06:52:22.176Z"
   },
   {
    "duration": 394,
    "start_time": "2022-11-17T06:52:22.440Z"
   },
   {
    "duration": 389,
    "start_time": "2022-11-17T06:52:22.838Z"
   },
   {
    "duration": 500,
    "start_time": "2022-11-17T06:52:23.229Z"
   },
   {
    "duration": 247,
    "start_time": "2022-11-17T06:52:23.731Z"
   },
   {
    "duration": 260,
    "start_time": "2022-11-17T06:52:23.980Z"
   },
   {
    "duration": 240,
    "start_time": "2022-11-17T06:52:24.241Z"
   },
   {
    "duration": 235,
    "start_time": "2022-11-17T06:52:24.484Z"
   },
   {
    "duration": 235,
    "start_time": "2022-11-17T06:52:24.720Z"
   },
   {
    "duration": 226,
    "start_time": "2022-11-17T06:52:24.957Z"
   },
   {
    "duration": 30,
    "start_time": "2022-11-17T06:52:25.185Z"
   },
   {
    "duration": 23,
    "start_time": "2022-11-17T06:52:25.217Z"
   },
   {
    "duration": 61,
    "start_time": "2022-11-17T06:54:35.851Z"
   },
   {
    "duration": 10,
    "start_time": "2022-11-17T06:54:48.261Z"
   },
   {
    "duration": 195,
    "start_time": "2022-11-17T06:54:52.951Z"
   },
   {
    "duration": 10,
    "start_time": "2022-11-17T06:55:08.156Z"
   },
   {
    "duration": 229,
    "start_time": "2022-11-17T06:55:14.794Z"
   },
   {
    "duration": 288,
    "start_time": "2022-11-17T06:57:54.751Z"
   },
   {
    "duration": 297,
    "start_time": "2022-11-17T06:58:29.775Z"
   },
   {
    "duration": 11,
    "start_time": "2022-11-17T06:59:09.558Z"
   },
   {
    "duration": 224,
    "start_time": "2022-11-17T06:59:13.840Z"
   },
   {
    "duration": 427,
    "start_time": "2022-11-17T07:19:24.923Z"
   },
   {
    "duration": 55,
    "start_time": "2022-11-17T07:19:25.352Z"
   },
   {
    "duration": 19,
    "start_time": "2022-11-17T07:19:25.409Z"
   },
   {
    "duration": 3,
    "start_time": "2022-11-17T07:19:25.431Z"
   },
   {
    "duration": 45,
    "start_time": "2022-11-17T07:19:25.435Z"
   },
   {
    "duration": 36,
    "start_time": "2022-11-17T07:19:25.482Z"
   },
   {
    "duration": 5,
    "start_time": "2022-11-17T07:19:25.520Z"
   },
   {
    "duration": 851,
    "start_time": "2022-11-17T07:19:25.526Z"
   },
   {
    "duration": 281,
    "start_time": "2022-11-17T07:19:26.381Z"
   },
   {
    "duration": 352,
    "start_time": "2022-11-17T07:19:26.667Z"
   },
   {
    "duration": 391,
    "start_time": "2022-11-17T07:19:27.020Z"
   },
   {
    "duration": 23,
    "start_time": "2022-11-17T07:19:27.413Z"
   },
   {
    "duration": 256,
    "start_time": "2022-11-17T07:19:27.437Z"
   },
   {
    "duration": 295,
    "start_time": "2022-11-17T07:19:27.695Z"
   },
   {
    "duration": 10,
    "start_time": "2022-11-17T07:19:27.992Z"
   },
   {
    "duration": 219,
    "start_time": "2022-11-17T07:19:28.003Z"
   },
   {
    "duration": 182,
    "start_time": "2022-11-17T07:19:28.224Z"
   },
   {
    "duration": 257,
    "start_time": "2022-11-17T07:19:28.408Z"
   },
   {
    "duration": 8,
    "start_time": "2022-11-17T07:19:28.667Z"
   },
   {
    "duration": 9,
    "start_time": "2022-11-17T07:19:28.677Z"
   },
   {
    "duration": 182,
    "start_time": "2022-11-17T07:19:28.688Z"
   },
   {
    "duration": 176,
    "start_time": "2022-11-17T07:19:28.872Z"
   },
   {
    "duration": 7,
    "start_time": "2022-11-17T07:19:29.050Z"
   },
   {
    "duration": 9,
    "start_time": "2022-11-17T07:19:29.058Z"
   },
   {
    "duration": 38,
    "start_time": "2022-11-17T07:19:29.068Z"
   },
   {
    "duration": 39,
    "start_time": "2022-11-17T07:19:29.111Z"
   },
   {
    "duration": 317,
    "start_time": "2022-11-17T07:19:29.151Z"
   },
   {
    "duration": 212,
    "start_time": "2022-11-17T07:19:29.472Z"
   },
   {
    "duration": 348,
    "start_time": "2022-11-17T07:19:29.686Z"
   },
   {
    "duration": 363,
    "start_time": "2022-11-17T07:19:30.036Z"
   },
   {
    "duration": 467,
    "start_time": "2022-11-17T07:19:30.401Z"
   },
   {
    "duration": 235,
    "start_time": "2022-11-17T07:19:30.870Z"
   },
   {
    "duration": 229,
    "start_time": "2022-11-17T07:19:31.106Z"
   },
   {
    "duration": 227,
    "start_time": "2022-11-17T07:19:31.336Z"
   },
   {
    "duration": 203,
    "start_time": "2022-11-17T07:19:31.565Z"
   },
   {
    "duration": 199,
    "start_time": "2022-11-17T07:19:31.770Z"
   },
   {
    "duration": 209,
    "start_time": "2022-11-17T07:19:31.971Z"
   },
   {
    "duration": 15,
    "start_time": "2022-11-17T07:19:32.182Z"
   },
   {
    "duration": 25,
    "start_time": "2022-11-17T07:19:32.198Z"
   },
   {
    "duration": 180,
    "start_time": "2022-11-17T07:42:31.952Z"
   },
   {
    "duration": 475,
    "start_time": "2022-11-17T07:45:48.080Z"
   },
   {
    "duration": 58,
    "start_time": "2022-11-17T07:45:48.557Z"
   },
   {
    "duration": 14,
    "start_time": "2022-11-17T07:45:48.617Z"
   },
   {
    "duration": 6,
    "start_time": "2022-11-17T07:45:48.633Z"
   },
   {
    "duration": 44,
    "start_time": "2022-11-17T07:45:48.641Z"
   },
   {
    "duration": 36,
    "start_time": "2022-11-17T07:45:48.687Z"
   },
   {
    "duration": 11,
    "start_time": "2022-11-17T07:45:48.725Z"
   },
   {
    "duration": 838,
    "start_time": "2022-11-17T07:45:48.737Z"
   },
   {
    "duration": 244,
    "start_time": "2022-11-17T07:45:49.577Z"
   },
   {
    "duration": 337,
    "start_time": "2022-11-17T07:45:49.823Z"
   },
   {
    "duration": 383,
    "start_time": "2022-11-17T07:45:50.161Z"
   },
   {
    "duration": 24,
    "start_time": "2022-11-17T07:45:50.545Z"
   },
   {
    "duration": 247,
    "start_time": "2022-11-17T07:45:50.570Z"
   },
   {
    "duration": 298,
    "start_time": "2022-11-17T07:45:50.820Z"
   },
   {
    "duration": 11,
    "start_time": "2022-11-17T07:45:51.119Z"
   },
   {
    "duration": 210,
    "start_time": "2022-11-17T07:45:51.131Z"
   },
   {
    "duration": 180,
    "start_time": "2022-11-17T07:45:51.343Z"
   },
   {
    "duration": 257,
    "start_time": "2022-11-17T07:45:51.525Z"
   },
   {
    "duration": 7,
    "start_time": "2022-11-17T07:45:51.784Z"
   },
   {
    "duration": 28,
    "start_time": "2022-11-17T07:45:51.792Z"
   },
   {
    "duration": 207,
    "start_time": "2022-11-17T07:45:51.822Z"
   },
   {
    "duration": 163,
    "start_time": "2022-11-17T07:45:52.030Z"
   },
   {
    "duration": 18,
    "start_time": "2022-11-17T07:45:52.195Z"
   },
   {
    "duration": 27,
    "start_time": "2022-11-17T07:45:52.215Z"
   },
   {
    "duration": 45,
    "start_time": "2022-11-17T07:45:52.244Z"
   },
   {
    "duration": 40,
    "start_time": "2022-11-17T07:45:52.291Z"
   },
   {
    "duration": 301,
    "start_time": "2022-11-17T07:45:52.333Z"
   },
   {
    "duration": 228,
    "start_time": "2022-11-17T07:45:52.635Z"
   },
   {
    "duration": 187,
    "start_time": "2022-11-17T07:45:52.865Z"
   },
   {
    "duration": 193,
    "start_time": "2022-11-17T07:45:53.054Z"
   },
   {
    "duration": 185,
    "start_time": "2022-11-17T07:45:53.249Z"
   },
   {
    "duration": 261,
    "start_time": "2022-11-17T07:45:53.436Z"
   },
   {
    "duration": 246,
    "start_time": "2022-11-17T07:45:53.699Z"
   },
   {
    "duration": 314,
    "start_time": "2022-11-17T07:45:53.947Z"
   },
   {
    "duration": 205,
    "start_time": "2022-11-17T07:45:54.263Z"
   },
   {
    "duration": 210,
    "start_time": "2022-11-17T07:45:54.470Z"
   },
   {
    "duration": 230,
    "start_time": "2022-11-17T07:45:54.682Z"
   },
   {
    "duration": 14,
    "start_time": "2022-11-17T07:45:54.914Z"
   },
   {
    "duration": 19,
    "start_time": "2022-11-17T07:45:54.930Z"
   },
   {
    "duration": 1145,
    "start_time": "2024-10-20T18:51:32.661Z"
   },
   {
    "duration": 237,
    "start_time": "2024-10-20T18:51:33.808Z"
   },
   {
    "duration": 14,
    "start_time": "2024-10-20T18:51:34.047Z"
   },
   {
    "duration": 4,
    "start_time": "2024-10-20T18:51:34.063Z"
   },
   {
    "duration": 47,
    "start_time": "2024-10-20T18:51:34.069Z"
   },
   {
    "duration": 13,
    "start_time": "2024-10-20T18:51:34.121Z"
   },
   {
    "duration": 44,
    "start_time": "2024-10-20T18:51:34.135Z"
   },
   {
    "duration": 212,
    "start_time": "2024-10-20T18:51:34.181Z"
   },
   {
    "duration": 321,
    "start_time": "2024-10-20T18:51:34.394Z"
   },
   {
    "duration": 329,
    "start_time": "2024-10-20T18:51:34.720Z"
   },
   {
    "duration": 20,
    "start_time": "2024-10-20T18:51:35.051Z"
   },
   {
    "duration": 245,
    "start_time": "2024-10-20T18:51:35.072Z"
   },
   {
    "duration": 272,
    "start_time": "2024-10-20T18:51:35.318Z"
   },
   {
    "duration": 9,
    "start_time": "2024-10-20T18:51:35.592Z"
   },
   {
    "duration": 220,
    "start_time": "2024-10-20T18:51:35.603Z"
   },
   {
    "duration": 165,
    "start_time": "2024-10-20T18:51:35.824Z"
   },
   {
    "duration": 230,
    "start_time": "2024-10-20T18:51:35.991Z"
   },
   {
    "duration": 6,
    "start_time": "2024-10-20T18:51:36.223Z"
   },
   {
    "duration": 16,
    "start_time": "2024-10-20T18:51:36.230Z"
   },
   {
    "duration": 166,
    "start_time": "2024-10-20T18:51:36.248Z"
   },
   {
    "duration": 167,
    "start_time": "2024-10-20T18:51:36.415Z"
   },
   {
    "duration": 6,
    "start_time": "2024-10-20T18:51:36.584Z"
   },
   {
    "duration": 14,
    "start_time": "2024-10-20T18:51:36.591Z"
   },
   {
    "duration": 35,
    "start_time": "2024-10-20T18:51:36.606Z"
   },
   {
    "duration": 35,
    "start_time": "2024-10-20T18:51:36.642Z"
   },
   {
    "duration": 296,
    "start_time": "2024-10-20T18:51:36.679Z"
   },
   {
    "duration": 209,
    "start_time": "2024-10-20T18:51:36.976Z"
   },
   {
    "duration": 203,
    "start_time": "2024-10-20T18:51:37.188Z"
   },
   {
    "duration": 175,
    "start_time": "2024-10-20T18:51:37.393Z"
   },
   {
    "duration": 170,
    "start_time": "2024-10-20T18:51:37.569Z"
   },
   {
    "duration": 248,
    "start_time": "2024-10-20T18:51:37.740Z"
   },
   {
    "duration": 220,
    "start_time": "2024-10-20T18:51:37.989Z"
   },
   {
    "duration": 301,
    "start_time": "2024-10-20T18:51:38.210Z"
   },
   {
    "duration": 199,
    "start_time": "2024-10-20T18:51:38.512Z"
   },
   {
    "duration": 193,
    "start_time": "2024-10-20T18:51:38.712Z"
   },
   {
    "duration": 209,
    "start_time": "2024-10-20T18:51:38.907Z"
   },
   {
    "duration": 13,
    "start_time": "2024-10-20T18:51:39.118Z"
   },
   {
    "duration": 12,
    "start_time": "2024-10-20T18:51:39.132Z"
   }
  ],
  "kernelspec": {
   "display_name": "Python 3 (ipykernel)",
   "language": "python",
   "name": "python3"
  },
  "language_info": {
   "codemirror_mode": {
    "name": "ipython",
    "version": 3
   },
   "file_extension": ".py",
   "mimetype": "text/x-python",
   "name": "python",
   "nbconvert_exporter": "python",
   "pygments_lexer": "ipython3",
   "version": "3.9.5"
  },
  "toc": {
   "base_numbering": 1,
   "nav_menu": {},
   "number_sections": true,
   "sideBar": true,
   "skip_h1_title": true,
   "title_cell": "Table of Contents",
   "title_sidebar": "Contents",
   "toc_cell": false,
   "toc_position": {
    "height": "calc(100% - 180px)",
    "left": "10px",
    "top": "150px",
    "width": "165px"
   },
   "toc_section_display": true,
   "toc_window_display": true
  }
 },
 "nbformat": 4,
 "nbformat_minor": 2
}
