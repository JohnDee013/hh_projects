{
  "nbformat": 4,
  "nbformat_minor": 0,
  "metadata": {
    "colab": {
      "provenance": []
    },
    "kernelspec": {
      "name": "python3",
      "display_name": "Python 3"
    },
    "language_info": {
      "name": "python"
    }
  },
  "cells": [
    {
      "cell_type": "code",
      "execution_count": null,
      "metadata": {
        "id": "yJR_qIMeLGeo"
      },
      "outputs": [],
      "source": [
        "import requests\n",
        "from bs4 import BeautifulSoup\n",
        "import csv\n",
        "\n",
        "# Базовый URL сайта\n",
        "base_url = \"http://ru-pets.ru/index.php?m=6&c=2&to=1\"\n",
        "\n",
        "# Подготавливаем CSV-файл\n",
        "with open('exhibitions.csv', 'w', newline='', encoding='utf-8') as csvfile:\n",
        "    fieldnames = ['Дата проведения', 'Название выставки', 'Клуб-организатор']\n",
        "    writer = csv.DictWriter(csvfile, fieldnames=fieldnames)\n",
        "    writer.writeheader()\n",
        "\n",
        "    # Проходим по всем страницам (77 страниц)\n",
        "    for page in range(1, 78):\n",
        "        # Формируем URL для каждой страницы\n",
        "        page_url = f\"{base_url}&page={page}\"\n",
        "\n",
        "        # Отправляем запрос на сайт\n",
        "        response = requests.get(page_url)\n",
        "\n",
        "        # Проверяем успешность запроса\n",
        "        if response.status_code == 200:\n",
        "            # Разбираем содержимое веб-страницы\n",
        "            soup = BeautifulSoup(response.content, 'html.parser')\n",
        "\n",
        "            # Находим контейнер, содержащий данные о выставках\n",
        "            exhibitions = soup.find_all('div', class_='listitem')\n",
        "\n",
        "            # Проходим по каждой выставке и извлекаем данные\n",
        "            for exhibition in exhibitions:\n",
        "                # Извлекаем дату\n",
        "                date = exhibition.find('h2').text.strip().split(\",\")[0].strip()\n",
        "\n",
        "                # Извлекаем название выставки\n",
        "                name = exhibition.find('span', class_='cl-green').text.strip()\n",
        "\n",
        "                # Извлекаем информацию о клубе-организаторе\n",
        "                club_info = exhibition.find('div', class_='msgtext').text.strip()\n",
        "                if \"Клуб - Организатор:\" in club_info:\n",
        "                    club = club_info.split(\"Клуб - Организатор:\")[1].split(\"\\n\")[0].strip()\n",
        "                else:\n",
        "                    club = \"Не указано\"\n",
        "\n",
        "                writer.writerow({'Дата проведения': date, 'Название выставки': name, 'Клуб-организатор': club})\n",
        "\n",
        "            print(f\"Данные со страницы {page} успешно обработаны\")\n",
        "        else:\n",
        "            print(f\"Не удалось загрузить веб-страницу {page}. Код состояния: {response.status_code}\")\n",
        "\n",
        "print(\"Данные успешно сохранены в exhibitions.csv\")"
      ]
    }
  ]
}