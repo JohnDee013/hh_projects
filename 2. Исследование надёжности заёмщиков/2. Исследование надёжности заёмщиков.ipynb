{
 "cells": [
  {
   "cell_type": "markdown",
   "id": "a48d013f",
   "metadata": {
    "deletable": false,
    "editable": false,
    "id": "c81daeeb"
   },
   "source": [
    "# Исследование надежности заемщиков\n"
   ]
  },
  {
   "cell_type": "markdown",
   "id": "c5510da0",
   "metadata": {},
   "source": [
    "Описание проекта:\n",
    "\n",
    "Заказчик — кредитный отдел банка. Нужно разобраться, влияет ли семейное положение и количество детей клиента на факт погашения кредита в срок. Входные данные от банка — статистика о платёжеспособности клиентов.\n",
    "Результаты исследования будут учтены при построении модели кредитного скоринга — специальной системы, которая оценивает способность потенциального заёмщика вернуть кредит банку."
   ]
  },
  {
   "cell_type": "markdown",
   "id": "42ef3431",
   "metadata": {},
   "source": [
    "Описание данных:\n",
    "\n",
    "`children` — количество детей в семье\n",
    "\n",
    "`days_employed` — общий трудовой стаж в днях\n",
    "\n",
    "`dob_years` — возраст клиента в годах\n",
    "\n",
    "`education` — уровень образования клиента\n",
    "\n",
    "`education_id` — идентификатор уровня образования\n",
    "\n",
    "`family_status` — семейное положение\n",
    "\n",
    "`family_status_id` — идентификатор семейного положения\n",
    "\n",
    "`gender` — пол клиента\n",
    "\n",
    "`income_type` — тип занятости\n",
    "\n",
    "`debt` — имел ли задолженность по возврату кредитов\n",
    "\n",
    "`total_income` — ежемесячный доход\n",
    "\n",
    "`purpose` — цель получения кредита\n"
   ]
  },
  {
   "cell_type": "markdown",
   "id": "142a1515",
   "metadata": {
    "deletable": false,
    "editable": false,
    "id": "744d7639"
   },
   "source": [
    "## Откроем таблицу и изучим общую информацию о данных"
   ]
  },
  {
   "cell_type": "markdown",
   "id": "ff377acc",
   "metadata": {
    "deletable": false,
    "editable": false,
    "id": "e7a14c31"
   },
   "source": [
    "**Импортируем библиотеку pandas. Считаем данные из csv-файла в датафрейм и сохраним в переменную `data`. Путь к файлу:**\n",
    "\n",
    "`/datasets/data.csv`"
   ]
  },
  {
   "cell_type": "code",
   "execution_count": 11,
   "id": "3e4d54f6",
   "metadata": {
    "deletable": false,
    "id": "7bcf75c9"
   },
   "outputs": [],
   "source": [
    "import pandas as pd\n",
    "\n",
    "try:\n",
    "    data = pd.read_csv('/datasets/data.csv')\n",
    "except:\n",
    "    data = pd.read_csv('https://code.s3.yandex.net/datasets/data.csv')"
   ]
  },
  {
   "cell_type": "markdown",
   "id": "a88c2f65",
   "metadata": {
    "deletable": false,
    "editable": false,
    "id": "b8038fe3"
   },
   "source": [
    "**Выведем первые 20 строчек датафрейма `data` на экран.**"
   ]
  },
  {
   "cell_type": "code",
   "execution_count": 12,
   "id": "27e9e325",
   "metadata": {
    "deletable": false,
    "id": "2a7cab99",
    "outputId": "1a8f3ef2-d323-4ec2-ddf7-89670b5944c4"
   },
   "outputs": [
    {
     "data": {
      "text/html": [
       "<div>\n",
       "<style scoped>\n",
       "    .dataframe tbody tr th:only-of-type {\n",
       "        vertical-align: middle;\n",
       "    }\n",
       "\n",
       "    .dataframe tbody tr th {\n",
       "        vertical-align: top;\n",
       "    }\n",
       "\n",
       "    .dataframe thead th {\n",
       "        text-align: right;\n",
       "    }\n",
       "</style>\n",
       "<table border=\"1\" class=\"dataframe\">\n",
       "  <thead>\n",
       "    <tr style=\"text-align: right;\">\n",
       "      <th></th>\n",
       "      <th>children</th>\n",
       "      <th>days_employed</th>\n",
       "      <th>dob_years</th>\n",
       "      <th>education</th>\n",
       "      <th>education_id</th>\n",
       "      <th>family_status</th>\n",
       "      <th>family_status_id</th>\n",
       "      <th>gender</th>\n",
       "      <th>income_type</th>\n",
       "      <th>debt</th>\n",
       "      <th>total_income</th>\n",
       "      <th>purpose</th>\n",
       "    </tr>\n",
       "  </thead>\n",
       "  <tbody>\n",
       "    <tr>\n",
       "      <th>0</th>\n",
       "      <td>1</td>\n",
       "      <td>-8437.673028</td>\n",
       "      <td>42</td>\n",
       "      <td>высшее</td>\n",
       "      <td>0</td>\n",
       "      <td>женат / замужем</td>\n",
       "      <td>0</td>\n",
       "      <td>F</td>\n",
       "      <td>сотрудник</td>\n",
       "      <td>0</td>\n",
       "      <td>253875.639453</td>\n",
       "      <td>покупка жилья</td>\n",
       "    </tr>\n",
       "    <tr>\n",
       "      <th>1</th>\n",
       "      <td>1</td>\n",
       "      <td>-4024.803754</td>\n",
       "      <td>36</td>\n",
       "      <td>среднее</td>\n",
       "      <td>1</td>\n",
       "      <td>женат / замужем</td>\n",
       "      <td>0</td>\n",
       "      <td>F</td>\n",
       "      <td>сотрудник</td>\n",
       "      <td>0</td>\n",
       "      <td>112080.014102</td>\n",
       "      <td>приобретение автомобиля</td>\n",
       "    </tr>\n",
       "    <tr>\n",
       "      <th>2</th>\n",
       "      <td>0</td>\n",
       "      <td>-5623.422610</td>\n",
       "      <td>33</td>\n",
       "      <td>Среднее</td>\n",
       "      <td>1</td>\n",
       "      <td>женат / замужем</td>\n",
       "      <td>0</td>\n",
       "      <td>M</td>\n",
       "      <td>сотрудник</td>\n",
       "      <td>0</td>\n",
       "      <td>145885.952297</td>\n",
       "      <td>покупка жилья</td>\n",
       "    </tr>\n",
       "    <tr>\n",
       "      <th>3</th>\n",
       "      <td>3</td>\n",
       "      <td>-4124.747207</td>\n",
       "      <td>32</td>\n",
       "      <td>среднее</td>\n",
       "      <td>1</td>\n",
       "      <td>женат / замужем</td>\n",
       "      <td>0</td>\n",
       "      <td>M</td>\n",
       "      <td>сотрудник</td>\n",
       "      <td>0</td>\n",
       "      <td>267628.550329</td>\n",
       "      <td>дополнительное образование</td>\n",
       "    </tr>\n",
       "    <tr>\n",
       "      <th>4</th>\n",
       "      <td>0</td>\n",
       "      <td>340266.072047</td>\n",
       "      <td>53</td>\n",
       "      <td>среднее</td>\n",
       "      <td>1</td>\n",
       "      <td>гражданский брак</td>\n",
       "      <td>1</td>\n",
       "      <td>F</td>\n",
       "      <td>пенсионер</td>\n",
       "      <td>0</td>\n",
       "      <td>158616.077870</td>\n",
       "      <td>сыграть свадьбу</td>\n",
       "    </tr>\n",
       "    <tr>\n",
       "      <th>5</th>\n",
       "      <td>0</td>\n",
       "      <td>-926.185831</td>\n",
       "      <td>27</td>\n",
       "      <td>высшее</td>\n",
       "      <td>0</td>\n",
       "      <td>гражданский брак</td>\n",
       "      <td>1</td>\n",
       "      <td>M</td>\n",
       "      <td>компаньон</td>\n",
       "      <td>0</td>\n",
       "      <td>255763.565419</td>\n",
       "      <td>покупка жилья</td>\n",
       "    </tr>\n",
       "    <tr>\n",
       "      <th>6</th>\n",
       "      <td>0</td>\n",
       "      <td>-2879.202052</td>\n",
       "      <td>43</td>\n",
       "      <td>высшее</td>\n",
       "      <td>0</td>\n",
       "      <td>женат / замужем</td>\n",
       "      <td>0</td>\n",
       "      <td>F</td>\n",
       "      <td>компаньон</td>\n",
       "      <td>0</td>\n",
       "      <td>240525.971920</td>\n",
       "      <td>операции с жильем</td>\n",
       "    </tr>\n",
       "    <tr>\n",
       "      <th>7</th>\n",
       "      <td>0</td>\n",
       "      <td>-152.779569</td>\n",
       "      <td>50</td>\n",
       "      <td>СРЕДНЕЕ</td>\n",
       "      <td>1</td>\n",
       "      <td>женат / замужем</td>\n",
       "      <td>0</td>\n",
       "      <td>M</td>\n",
       "      <td>сотрудник</td>\n",
       "      <td>0</td>\n",
       "      <td>135823.934197</td>\n",
       "      <td>образование</td>\n",
       "    </tr>\n",
       "    <tr>\n",
       "      <th>8</th>\n",
       "      <td>2</td>\n",
       "      <td>-6929.865299</td>\n",
       "      <td>35</td>\n",
       "      <td>ВЫСШЕЕ</td>\n",
       "      <td>0</td>\n",
       "      <td>гражданский брак</td>\n",
       "      <td>1</td>\n",
       "      <td>F</td>\n",
       "      <td>сотрудник</td>\n",
       "      <td>0</td>\n",
       "      <td>95856.832424</td>\n",
       "      <td>на проведение свадьбы</td>\n",
       "    </tr>\n",
       "    <tr>\n",
       "      <th>9</th>\n",
       "      <td>0</td>\n",
       "      <td>-2188.756445</td>\n",
       "      <td>41</td>\n",
       "      <td>среднее</td>\n",
       "      <td>1</td>\n",
       "      <td>женат / замужем</td>\n",
       "      <td>0</td>\n",
       "      <td>M</td>\n",
       "      <td>сотрудник</td>\n",
       "      <td>0</td>\n",
       "      <td>144425.938277</td>\n",
       "      <td>покупка жилья для семьи</td>\n",
       "    </tr>\n",
       "    <tr>\n",
       "      <th>10</th>\n",
       "      <td>2</td>\n",
       "      <td>-4171.483647</td>\n",
       "      <td>36</td>\n",
       "      <td>высшее</td>\n",
       "      <td>0</td>\n",
       "      <td>женат / замужем</td>\n",
       "      <td>0</td>\n",
       "      <td>M</td>\n",
       "      <td>компаньон</td>\n",
       "      <td>0</td>\n",
       "      <td>113943.491460</td>\n",
       "      <td>покупка недвижимости</td>\n",
       "    </tr>\n",
       "    <tr>\n",
       "      <th>11</th>\n",
       "      <td>0</td>\n",
       "      <td>-792.701887</td>\n",
       "      <td>40</td>\n",
       "      <td>среднее</td>\n",
       "      <td>1</td>\n",
       "      <td>женат / замужем</td>\n",
       "      <td>0</td>\n",
       "      <td>F</td>\n",
       "      <td>сотрудник</td>\n",
       "      <td>0</td>\n",
       "      <td>77069.234271</td>\n",
       "      <td>покупка коммерческой недвижимости</td>\n",
       "    </tr>\n",
       "    <tr>\n",
       "      <th>12</th>\n",
       "      <td>0</td>\n",
       "      <td>NaN</td>\n",
       "      <td>65</td>\n",
       "      <td>среднее</td>\n",
       "      <td>1</td>\n",
       "      <td>гражданский брак</td>\n",
       "      <td>1</td>\n",
       "      <td>M</td>\n",
       "      <td>пенсионер</td>\n",
       "      <td>0</td>\n",
       "      <td>NaN</td>\n",
       "      <td>сыграть свадьбу</td>\n",
       "    </tr>\n",
       "    <tr>\n",
       "      <th>13</th>\n",
       "      <td>0</td>\n",
       "      <td>-1846.641941</td>\n",
       "      <td>54</td>\n",
       "      <td>неоконченное высшее</td>\n",
       "      <td>2</td>\n",
       "      <td>женат / замужем</td>\n",
       "      <td>0</td>\n",
       "      <td>F</td>\n",
       "      <td>сотрудник</td>\n",
       "      <td>0</td>\n",
       "      <td>130458.228857</td>\n",
       "      <td>приобретение автомобиля</td>\n",
       "    </tr>\n",
       "    <tr>\n",
       "      <th>14</th>\n",
       "      <td>0</td>\n",
       "      <td>-1844.956182</td>\n",
       "      <td>56</td>\n",
       "      <td>высшее</td>\n",
       "      <td>0</td>\n",
       "      <td>гражданский брак</td>\n",
       "      <td>1</td>\n",
       "      <td>F</td>\n",
       "      <td>компаньон</td>\n",
       "      <td>1</td>\n",
       "      <td>165127.911772</td>\n",
       "      <td>покупка жилой недвижимости</td>\n",
       "    </tr>\n",
       "    <tr>\n",
       "      <th>15</th>\n",
       "      <td>1</td>\n",
       "      <td>-972.364419</td>\n",
       "      <td>26</td>\n",
       "      <td>среднее</td>\n",
       "      <td>1</td>\n",
       "      <td>женат / замужем</td>\n",
       "      <td>0</td>\n",
       "      <td>F</td>\n",
       "      <td>сотрудник</td>\n",
       "      <td>0</td>\n",
       "      <td>116820.904450</td>\n",
       "      <td>строительство собственной недвижимости</td>\n",
       "    </tr>\n",
       "    <tr>\n",
       "      <th>16</th>\n",
       "      <td>0</td>\n",
       "      <td>-1719.934226</td>\n",
       "      <td>35</td>\n",
       "      <td>среднее</td>\n",
       "      <td>1</td>\n",
       "      <td>женат / замужем</td>\n",
       "      <td>0</td>\n",
       "      <td>F</td>\n",
       "      <td>сотрудник</td>\n",
       "      <td>0</td>\n",
       "      <td>289202.704229</td>\n",
       "      <td>недвижимость</td>\n",
       "    </tr>\n",
       "    <tr>\n",
       "      <th>17</th>\n",
       "      <td>0</td>\n",
       "      <td>-2369.999720</td>\n",
       "      <td>33</td>\n",
       "      <td>высшее</td>\n",
       "      <td>0</td>\n",
       "      <td>гражданский брак</td>\n",
       "      <td>1</td>\n",
       "      <td>M</td>\n",
       "      <td>сотрудник</td>\n",
       "      <td>0</td>\n",
       "      <td>90410.586745</td>\n",
       "      <td>строительство недвижимости</td>\n",
       "    </tr>\n",
       "    <tr>\n",
       "      <th>18</th>\n",
       "      <td>0</td>\n",
       "      <td>400281.136913</td>\n",
       "      <td>53</td>\n",
       "      <td>среднее</td>\n",
       "      <td>1</td>\n",
       "      <td>вдовец / вдова</td>\n",
       "      <td>2</td>\n",
       "      <td>F</td>\n",
       "      <td>пенсионер</td>\n",
       "      <td>0</td>\n",
       "      <td>56823.777243</td>\n",
       "      <td>на покупку подержанного автомобиля</td>\n",
       "    </tr>\n",
       "    <tr>\n",
       "      <th>19</th>\n",
       "      <td>0</td>\n",
       "      <td>-10038.818549</td>\n",
       "      <td>48</td>\n",
       "      <td>СРЕДНЕЕ</td>\n",
       "      <td>1</td>\n",
       "      <td>в разводе</td>\n",
       "      <td>3</td>\n",
       "      <td>F</td>\n",
       "      <td>сотрудник</td>\n",
       "      <td>0</td>\n",
       "      <td>242831.107982</td>\n",
       "      <td>на покупку своего автомобиля</td>\n",
       "    </tr>\n",
       "  </tbody>\n",
       "</table>\n",
       "</div>"
      ],
      "text/plain": [
       "    children  days_employed  dob_years            education  education_id  \\\n",
       "0          1   -8437.673028         42               высшее             0   \n",
       "1          1   -4024.803754         36              среднее             1   \n",
       "2          0   -5623.422610         33              Среднее             1   \n",
       "3          3   -4124.747207         32              среднее             1   \n",
       "4          0  340266.072047         53              среднее             1   \n",
       "5          0    -926.185831         27               высшее             0   \n",
       "6          0   -2879.202052         43               высшее             0   \n",
       "7          0    -152.779569         50              СРЕДНЕЕ             1   \n",
       "8          2   -6929.865299         35               ВЫСШЕЕ             0   \n",
       "9          0   -2188.756445         41              среднее             1   \n",
       "10         2   -4171.483647         36               высшее             0   \n",
       "11         0    -792.701887         40              среднее             1   \n",
       "12         0            NaN         65              среднее             1   \n",
       "13         0   -1846.641941         54  неоконченное высшее             2   \n",
       "14         0   -1844.956182         56               высшее             0   \n",
       "15         1    -972.364419         26              среднее             1   \n",
       "16         0   -1719.934226         35              среднее             1   \n",
       "17         0   -2369.999720         33               высшее             0   \n",
       "18         0  400281.136913         53              среднее             1   \n",
       "19         0  -10038.818549         48              СРЕДНЕЕ             1   \n",
       "\n",
       "       family_status  family_status_id gender income_type  debt  \\\n",
       "0    женат / замужем                 0      F   сотрудник     0   \n",
       "1    женат / замужем                 0      F   сотрудник     0   \n",
       "2    женат / замужем                 0      M   сотрудник     0   \n",
       "3    женат / замужем                 0      M   сотрудник     0   \n",
       "4   гражданский брак                 1      F   пенсионер     0   \n",
       "5   гражданский брак                 1      M   компаньон     0   \n",
       "6    женат / замужем                 0      F   компаньон     0   \n",
       "7    женат / замужем                 0      M   сотрудник     0   \n",
       "8   гражданский брак                 1      F   сотрудник     0   \n",
       "9    женат / замужем                 0      M   сотрудник     0   \n",
       "10   женат / замужем                 0      M   компаньон     0   \n",
       "11   женат / замужем                 0      F   сотрудник     0   \n",
       "12  гражданский брак                 1      M   пенсионер     0   \n",
       "13   женат / замужем                 0      F   сотрудник     0   \n",
       "14  гражданский брак                 1      F   компаньон     1   \n",
       "15   женат / замужем                 0      F   сотрудник     0   \n",
       "16   женат / замужем                 0      F   сотрудник     0   \n",
       "17  гражданский брак                 1      M   сотрудник     0   \n",
       "18    вдовец / вдова                 2      F   пенсионер     0   \n",
       "19         в разводе                 3      F   сотрудник     0   \n",
       "\n",
       "     total_income                                 purpose  \n",
       "0   253875.639453                           покупка жилья  \n",
       "1   112080.014102                 приобретение автомобиля  \n",
       "2   145885.952297                           покупка жилья  \n",
       "3   267628.550329              дополнительное образование  \n",
       "4   158616.077870                         сыграть свадьбу  \n",
       "5   255763.565419                           покупка жилья  \n",
       "6   240525.971920                       операции с жильем  \n",
       "7   135823.934197                             образование  \n",
       "8    95856.832424                   на проведение свадьбы  \n",
       "9   144425.938277                 покупка жилья для семьи  \n",
       "10  113943.491460                    покупка недвижимости  \n",
       "11   77069.234271       покупка коммерческой недвижимости  \n",
       "12            NaN                         сыграть свадьбу  \n",
       "13  130458.228857                 приобретение автомобиля  \n",
       "14  165127.911772              покупка жилой недвижимости  \n",
       "15  116820.904450  строительство собственной недвижимости  \n",
       "16  289202.704229                            недвижимость  \n",
       "17   90410.586745              строительство недвижимости  \n",
       "18   56823.777243      на покупку подержанного автомобиля  \n",
       "19  242831.107982            на покупку своего автомобиля  "
      ]
     },
     "execution_count": 12,
     "metadata": {},
     "output_type": "execute_result"
    }
   ],
   "source": [
    "data.head(20)"
   ]
  },
  {
   "cell_type": "markdown",
   "id": "b022d382",
   "metadata": {
    "deletable": false,
    "editable": false,
    "id": "1c12e233"
   },
   "source": [
    "**Выведем основную информацию о датафрейме с помощью метода `info()`.**"
   ]
  },
  {
   "cell_type": "code",
   "execution_count": 13,
   "id": "dbbdd3c8",
   "metadata": {
    "deletable": false,
    "id": "2b757bca",
    "outputId": "15376089-8dad-46c9-b520-c05248d43158"
   },
   "outputs": [
    {
     "name": "stdout",
     "output_type": "stream",
     "text": [
      "<class 'pandas.core.frame.DataFrame'>\n",
      "RangeIndex: 21525 entries, 0 to 21524\n",
      "Data columns (total 12 columns):\n",
      " #   Column            Non-Null Count  Dtype  \n",
      "---  ------            --------------  -----  \n",
      " 0   children          21525 non-null  int64  \n",
      " 1   days_employed     19351 non-null  float64\n",
      " 2   dob_years         21525 non-null  int64  \n",
      " 3   education         21525 non-null  object \n",
      " 4   education_id      21525 non-null  int64  \n",
      " 5   family_status     21525 non-null  object \n",
      " 6   family_status_id  21525 non-null  int64  \n",
      " 7   gender            21525 non-null  object \n",
      " 8   income_type       21525 non-null  object \n",
      " 9   debt              21525 non-null  int64  \n",
      " 10  total_income      19351 non-null  float64\n",
      " 11  purpose           21525 non-null  object \n",
      "dtypes: float64(2), int64(5), object(5)\n",
      "memory usage: 2.0+ MB\n"
     ]
    }
   ],
   "source": [
    "data.info()"
   ]
  },
  {
   "cell_type": "markdown",
   "id": "9ab1d967",
   "metadata": {
    "deletable": false,
    "editable": false,
    "id": "333ec665"
   },
   "source": [
    "## Предобработка данных"
   ]
  },
  {
   "cell_type": "markdown",
   "id": "d2ba2d99",
   "metadata": {
    "deletable": false,
    "editable": false,
    "id": "02d92d53"
   },
   "source": [
    "### Удаление пропусков"
   ]
  },
  {
   "cell_type": "markdown",
   "id": "3f5261fa",
   "metadata": {
    "deletable": false,
    "editable": false,
    "id": "cd84967c"
   },
   "source": [
    "**Выведем количество пропущенных значений для каждого столбца. Используем комбинацию двух методов.**"
   ]
  },
  {
   "cell_type": "code",
   "execution_count": 14,
   "id": "e7af5157",
   "metadata": {
    "deletable": false,
    "id": "7f9b2309",
    "outputId": "81f4d817-781c-465c-ed15-91ce4446810d"
   },
   "outputs": [
    {
     "data": {
      "text/plain": [
       "children               0\n",
       "days_employed       2174\n",
       "dob_years              0\n",
       "education              0\n",
       "education_id           0\n",
       "family_status          0\n",
       "family_status_id       0\n",
       "gender                 0\n",
       "income_type            0\n",
       "debt                   0\n",
       "total_income        2174\n",
       "purpose                0\n",
       "dtype: int64"
      ]
     },
     "execution_count": 14,
     "metadata": {},
     "output_type": "execute_result"
    }
   ],
   "source": [
    "data.isna().sum()"
   ]
  },
  {
   "cell_type": "markdown",
   "id": "dd4636c0",
   "metadata": {
    "deletable": false,
    "editable": false,
    "id": "db86e27b"
   },
   "source": [
    "**В двух столбцах есть пропущенные значения. Один из них — `days_employed`. Пропуски в этом столбце мы обработаем на следующем этапе. Другой столбец с пропущенными значениями — `total_income` — хранит данные о доходах. На сумму дохода сильнее всего влияет тип занятости, поэтому заполнить пропуски в этом столбце нужно медианным значением по каждому типу из столбца `income_type`. Например, у человека с типом занятости `сотрудник` пропуск в столбце `total_income` должен быть заполнен медианным доходом среди всех записей с тем же типом.**"
   ]
  },
  {
   "cell_type": "code",
   "execution_count": 15,
   "id": "ee8fb625",
   "metadata": {
    "deletable": false,
    "id": "42006a93"
   },
   "outputs": [],
   "source": [
    "for t in data['income_type'].unique():\n",
    "    data.loc[(data['income_type'] == t) & (data['total_income'].isna()), 'total_income'] = \\\n",
    "    data.loc[(data['income_type'] == t), 'total_income'].median()"
   ]
  },
  {
   "cell_type": "markdown",
   "id": "19dde068",
   "metadata": {
    "deletable": false,
    "editable": false,
    "id": "89da5ece"
   },
   "source": [
    "### Обработка аномальных значений"
   ]
  },
  {
   "cell_type": "markdown",
   "id": "09bc5541",
   "metadata": {
    "deletable": false,
    "editable": false,
    "id": "57964554"
   },
   "source": [
    "**В данных могут встречаться артефакты (аномалии) — значения, которые не отражают действительность и появились по какой-то ошибке. таким артефактом будет отрицательное количество дней трудового стажа в столбце `days_employed`. Для реальных данных это нормально. Обработаем значения в этом столбце: заменим все отрицательные значения положительными с помощью метода `abs()`.**"
   ]
  },
  {
   "cell_type": "code",
   "execution_count": 16,
   "id": "1520c3c0",
   "metadata": {
    "deletable": false,
    "id": "f6f055bf"
   },
   "outputs": [],
   "source": [
    "data['days_employed'] = data['days_employed'].abs()"
   ]
  },
  {
   "cell_type": "markdown",
   "id": "76cc9005",
   "metadata": {
    "deletable": false,
    "editable": false,
    "id": "6107dd2f"
   },
   "source": [
    "**Для каждого типа занятости выведем медианное значение трудового стажа `days_employed` в днях.**"
   ]
  },
  {
   "cell_type": "code",
   "execution_count": 17,
   "id": "0e18708f",
   "metadata": {
    "deletable": false,
    "id": "85a5faf6",
    "outputId": "801ef80e-522b-4668-f34e-565af7432bcf"
   },
   "outputs": [
    {
     "data": {
      "text/plain": [
       "income_type\n",
       "безработный        366413.652744\n",
       "в декрете            3296.759962\n",
       "госслужащий          2689.368353\n",
       "компаньон            1547.382223\n",
       "пенсионер          365213.306266\n",
       "предприниматель       520.848083\n",
       "сотрудник            1574.202821\n",
       "студент               578.751554\n",
       "Name: days_employed, dtype: float64"
      ]
     },
     "execution_count": 17,
     "metadata": {},
     "output_type": "execute_result"
    }
   ],
   "source": [
    "data.groupby('income_type')['days_employed'].agg('median')"
   ]
  },
  {
   "cell_type": "markdown",
   "id": "c90c3405",
   "metadata": {
    "deletable": false,
    "editable": false,
    "id": "38d1a030"
   },
   "source": [
    "У двух типов (безработные и пенсионеры) получатся аномально большие значения. Исправить такие значения сложно, поэтому оставим их как есть. Тем более этот столбец не понадобится вам для исследования."
   ]
  },
  {
   "cell_type": "markdown",
   "id": "94963b6e",
   "metadata": {
    "deletable": false,
    "editable": false,
    "id": "d8a9f147"
   },
   "source": [
    "**Выведем перечень уникальных значений столбца `children`.**"
   ]
  },
  {
   "cell_type": "code",
   "execution_count": 18,
   "id": "b1454a29",
   "metadata": {
    "deletable": false,
    "id": "ef5056eb",
    "outputId": "6975b15c-7f95-4697-d16d-a0c79b657b03"
   },
   "outputs": [
    {
     "data": {
      "text/plain": [
       "array([ 1,  0,  3,  2, -1,  4, 20,  5])"
      ]
     },
     "execution_count": 18,
     "metadata": {},
     "output_type": "execute_result"
    }
   ],
   "source": [
    "data['children'].unique()"
   ]
  },
  {
   "cell_type": "markdown",
   "id": "e8e5206e",
   "metadata": {
    "deletable": false,
    "editable": false,
    "id": "40b9ebf2"
   },
   "source": [
    "**В столбце `children` есть два аномальных значения. Удалим строки, в которых встречаются такие аномальные значения из датафрейма `data`.**"
   ]
  },
  {
   "cell_type": "code",
   "execution_count": 19,
   "id": "90888542",
   "metadata": {
    "deletable": false,
    "id": "3ff9801d"
   },
   "outputs": [],
   "source": [
    "data = data[(data['children'] != -1) & (data['children'] != 20)]"
   ]
  },
  {
   "cell_type": "markdown",
   "id": "9a885da4",
   "metadata": {
    "deletable": false,
    "editable": false,
    "id": "bbc4d0ce"
   },
   "source": [
    "**Ещё раз выведем перечень уникальных значений столбца `children`, чтобы убедиться, что артефакты удалены.**"
   ]
  },
  {
   "cell_type": "code",
   "execution_count": 20,
   "id": "08aac479",
   "metadata": {
    "deletable": false,
    "id": "ad4fa8b7",
    "outputId": "b2097101-d49d-44d9-901b-32a65c9463d1"
   },
   "outputs": [
    {
     "data": {
      "text/plain": [
       "array([1, 0, 3, 2, 4, 5])"
      ]
     },
     "execution_count": 20,
     "metadata": {},
     "output_type": "execute_result"
    }
   ],
   "source": [
    "data['children'].unique()"
   ]
  },
  {
   "cell_type": "markdown",
   "id": "6ddb0e5a",
   "metadata": {
    "deletable": false,
    "editable": false,
    "id": "75440b63"
   },
   "source": [
    "### Удаление пропусков (продолжение)"
   ]
  },
  {
   "cell_type": "markdown",
   "id": "4bded0ab",
   "metadata": {
    "deletable": false,
    "editable": false,
    "id": "f4ea573f"
   },
   "source": [
    "**Заполним пропуски в столбце `days_employed` медианными значениями по каждого типа занятости `income_type`.**"
   ]
  },
  {
   "cell_type": "code",
   "execution_count": 21,
   "id": "87ba0acb",
   "metadata": {
    "deletable": false,
    "id": "af6b1a7e"
   },
   "outputs": [],
   "source": [
    "for t in data['income_type'].unique():\n",
    "    data.loc[(data['income_type'] == t) & (data['days_employed'].isna()), 'days_employed'] = \\\n",
    "    data.loc[(data['income_type'] == t), 'days_employed'].median()"
   ]
  },
  {
   "cell_type": "markdown",
   "id": "24465fa8",
   "metadata": {
    "deletable": false,
    "editable": false,
    "id": "2753f40d"
   },
   "source": [
    "**Убедимся, что все пропуски заполнены. Проверим себя и ещё раз выведем количество пропущенных значений для каждого столбца с помощью двух методов.**"
   ]
  },
  {
   "cell_type": "code",
   "execution_count": 22,
   "id": "11b985a0",
   "metadata": {
    "deletable": false,
    "id": "55f78bc2",
    "outputId": "8da1e4e1-358e-4e87-98c9-f261bce0a7b2"
   },
   "outputs": [
    {
     "data": {
      "text/plain": [
       "children            0\n",
       "days_employed       0\n",
       "dob_years           0\n",
       "education           0\n",
       "education_id        0\n",
       "family_status       0\n",
       "family_status_id    0\n",
       "gender              0\n",
       "income_type         0\n",
       "debt                0\n",
       "total_income        0\n",
       "purpose             0\n",
       "dtype: int64"
      ]
     },
     "execution_count": 22,
     "metadata": {},
     "output_type": "execute_result"
    }
   ],
   "source": [
    "data.isna().sum()"
   ]
  },
  {
   "cell_type": "markdown",
   "id": "2c30ff7e",
   "metadata": {
    "deletable": false,
    "editable": false,
    "id": "ddc81e43"
   },
   "source": [
    "### Изменение типов данных"
   ]
  },
  {
   "cell_type": "markdown",
   "id": "287472a6",
   "metadata": {
    "deletable": false,
    "editable": false,
    "id": "42d19d24"
   },
   "source": [
    "**Заменим вещественный тип данных в столбце `total_income` на целочисленный с помощью метода `astype()`.**"
   ]
  },
  {
   "cell_type": "code",
   "execution_count": 23,
   "id": "796c9852",
   "metadata": {
    "deletable": false,
    "id": "920b65ad"
   },
   "outputs": [],
   "source": [
    "data['total_income'] = data['total_income'].astype(int)"
   ]
  },
  {
   "cell_type": "markdown",
   "id": "23ee0ff7",
   "metadata": {
    "deletable": false,
    "editable": false,
    "id": "80c420ba"
   },
   "source": [
    "### Обработка дубликатов"
   ]
  },
  {
   "cell_type": "markdown",
   "id": "991c4a45",
   "metadata": {
    "deletable": false,
    "editable": false
   },
   "source": [
    "**Обработаем неявные дубликаты в столбце `education`. В этом столбце есть одни и те же значения, но записанные по-разному: с использованием заглавных и строчных букв. Приведем их к нижнему регистру. Проверим остальные столбцы.**"
   ]
  },
  {
   "cell_type": "code",
   "execution_count": 24,
   "id": "f9399e1b",
   "metadata": {
    "deletable": false
   },
   "outputs": [],
   "source": [
    "data['education'] = data['education'].str.lower()"
   ]
  },
  {
   "cell_type": "markdown",
   "id": "c7d29b20",
   "metadata": {
    "deletable": false,
    "editable": false,
    "id": "dc587695"
   },
   "source": [
    "**Выведем на экран количество строк-дубликатов в данных. Если такие строки присутствуют, удалим их.**"
   ]
  },
  {
   "cell_type": "code",
   "execution_count": 25,
   "id": "0d562312",
   "metadata": {
    "deletable": false,
    "id": "3ee445e4",
    "outputId": "9684deba-1934-42d1-99e1-cda61740f822"
   },
   "outputs": [
    {
     "data": {
      "text/plain": [
       "71"
      ]
     },
     "execution_count": 25,
     "metadata": {},
     "output_type": "execute_result"
    }
   ],
   "source": [
    "data.duplicated().sum()"
   ]
  },
  {
   "cell_type": "code",
   "execution_count": 26,
   "id": "76598b22",
   "metadata": {
    "deletable": false,
    "id": "8575fe05"
   },
   "outputs": [],
   "source": [
    "data = data.drop_duplicates()"
   ]
  },
  {
   "cell_type": "markdown",
   "id": "3579fb37",
   "metadata": {
    "deletable": false,
    "editable": false,
    "id": "9904cf55"
   },
   "source": [
    "### Категоризация данных"
   ]
  },
  {
   "cell_type": "markdown",
   "id": "ab2b222d",
   "metadata": {
    "deletable": false,
    "editable": false,
    "id": "72fcc8a2"
   },
   "source": [
    "**На основании диапазонов, указанных ниже, создадим в датафрейме `data` столбец `total_income_category` с категориями:**\n",
    "\n",
    "- 0–30000 — `'E'`;\n",
    "- 30001–50000 — `'D'`;\n",
    "- 50001–200000 — `'C'`;\n",
    "- 200001–1000000 — `'B'`;\n",
    "- 1000001 и выше — `'A'`.\n",
    "\n",
    "\n",
    "**Например, кредитополучателю с доходом 25000 нужно назначить категорию `'E'`, а клиенту, получающему 235000, — `'B'`. Используем собственную функцию с именем `categorize_income()` и метод `apply()`.**"
   ]
  },
  {
   "cell_type": "code",
   "execution_count": 27,
   "id": "1f0a9dfb",
   "metadata": {
    "deletable": false,
    "id": "e1771346"
   },
   "outputs": [],
   "source": [
    "def categorize_income(income):\n",
    "    try:\n",
    "        if 0 <= income <= 30000:\n",
    "            return 'E'\n",
    "        elif 30001 <= income <= 50000:\n",
    "            return 'D'\n",
    "        elif 50001 <= income <= 200000:\n",
    "            return 'C'\n",
    "        elif 200001 <= income <= 1000000:\n",
    "            return 'B'\n",
    "        elif income >= 1000001:\n",
    "            return 'A'\n",
    "    except:\n",
    "        pass"
   ]
  },
  {
   "cell_type": "code",
   "execution_count": 28,
   "id": "83bcba72",
   "metadata": {
    "deletable": false,
    "id": "d5f3586d"
   },
   "outputs": [
    {
     "data": {
      "text/html": [
       "<div>\n",
       "<style scoped>\n",
       "    .dataframe tbody tr th:only-of-type {\n",
       "        vertical-align: middle;\n",
       "    }\n",
       "\n",
       "    .dataframe tbody tr th {\n",
       "        vertical-align: top;\n",
       "    }\n",
       "\n",
       "    .dataframe thead th {\n",
       "        text-align: right;\n",
       "    }\n",
       "</style>\n",
       "<table border=\"1\" class=\"dataframe\">\n",
       "  <thead>\n",
       "    <tr style=\"text-align: right;\">\n",
       "      <th></th>\n",
       "      <th>children</th>\n",
       "      <th>days_employed</th>\n",
       "      <th>dob_years</th>\n",
       "      <th>education</th>\n",
       "      <th>education_id</th>\n",
       "      <th>family_status</th>\n",
       "      <th>family_status_id</th>\n",
       "      <th>gender</th>\n",
       "      <th>income_type</th>\n",
       "      <th>debt</th>\n",
       "      <th>total_income</th>\n",
       "      <th>purpose</th>\n",
       "      <th>total_income_category</th>\n",
       "    </tr>\n",
       "  </thead>\n",
       "  <tbody>\n",
       "    <tr>\n",
       "      <th>0</th>\n",
       "      <td>1</td>\n",
       "      <td>8437.673028</td>\n",
       "      <td>42</td>\n",
       "      <td>высшее</td>\n",
       "      <td>0</td>\n",
       "      <td>женат / замужем</td>\n",
       "      <td>0</td>\n",
       "      <td>F</td>\n",
       "      <td>сотрудник</td>\n",
       "      <td>0</td>\n",
       "      <td>253875</td>\n",
       "      <td>покупка жилья</td>\n",
       "      <td>B</td>\n",
       "    </tr>\n",
       "    <tr>\n",
       "      <th>1</th>\n",
       "      <td>1</td>\n",
       "      <td>4024.803754</td>\n",
       "      <td>36</td>\n",
       "      <td>среднее</td>\n",
       "      <td>1</td>\n",
       "      <td>женат / замужем</td>\n",
       "      <td>0</td>\n",
       "      <td>F</td>\n",
       "      <td>сотрудник</td>\n",
       "      <td>0</td>\n",
       "      <td>112080</td>\n",
       "      <td>приобретение автомобиля</td>\n",
       "      <td>C</td>\n",
       "    </tr>\n",
       "    <tr>\n",
       "      <th>2</th>\n",
       "      <td>0</td>\n",
       "      <td>5623.422610</td>\n",
       "      <td>33</td>\n",
       "      <td>среднее</td>\n",
       "      <td>1</td>\n",
       "      <td>женат / замужем</td>\n",
       "      <td>0</td>\n",
       "      <td>M</td>\n",
       "      <td>сотрудник</td>\n",
       "      <td>0</td>\n",
       "      <td>145885</td>\n",
       "      <td>покупка жилья</td>\n",
       "      <td>C</td>\n",
       "    </tr>\n",
       "    <tr>\n",
       "      <th>3</th>\n",
       "      <td>3</td>\n",
       "      <td>4124.747207</td>\n",
       "      <td>32</td>\n",
       "      <td>среднее</td>\n",
       "      <td>1</td>\n",
       "      <td>женат / замужем</td>\n",
       "      <td>0</td>\n",
       "      <td>M</td>\n",
       "      <td>сотрудник</td>\n",
       "      <td>0</td>\n",
       "      <td>267628</td>\n",
       "      <td>дополнительное образование</td>\n",
       "      <td>B</td>\n",
       "    </tr>\n",
       "    <tr>\n",
       "      <th>4</th>\n",
       "      <td>0</td>\n",
       "      <td>340266.072047</td>\n",
       "      <td>53</td>\n",
       "      <td>среднее</td>\n",
       "      <td>1</td>\n",
       "      <td>гражданский брак</td>\n",
       "      <td>1</td>\n",
       "      <td>F</td>\n",
       "      <td>пенсионер</td>\n",
       "      <td>0</td>\n",
       "      <td>158616</td>\n",
       "      <td>сыграть свадьбу</td>\n",
       "      <td>C</td>\n",
       "    </tr>\n",
       "    <tr>\n",
       "      <th>...</th>\n",
       "      <td>...</td>\n",
       "      <td>...</td>\n",
       "      <td>...</td>\n",
       "      <td>...</td>\n",
       "      <td>...</td>\n",
       "      <td>...</td>\n",
       "      <td>...</td>\n",
       "      <td>...</td>\n",
       "      <td>...</td>\n",
       "      <td>...</td>\n",
       "      <td>...</td>\n",
       "      <td>...</td>\n",
       "      <td>...</td>\n",
       "    </tr>\n",
       "    <tr>\n",
       "      <th>21520</th>\n",
       "      <td>1</td>\n",
       "      <td>4529.316663</td>\n",
       "      <td>43</td>\n",
       "      <td>среднее</td>\n",
       "      <td>1</td>\n",
       "      <td>гражданский брак</td>\n",
       "      <td>1</td>\n",
       "      <td>F</td>\n",
       "      <td>компаньон</td>\n",
       "      <td>0</td>\n",
       "      <td>224791</td>\n",
       "      <td>операции с жильем</td>\n",
       "      <td>B</td>\n",
       "    </tr>\n",
       "    <tr>\n",
       "      <th>21521</th>\n",
       "      <td>0</td>\n",
       "      <td>343937.404131</td>\n",
       "      <td>67</td>\n",
       "      <td>среднее</td>\n",
       "      <td>1</td>\n",
       "      <td>женат / замужем</td>\n",
       "      <td>0</td>\n",
       "      <td>F</td>\n",
       "      <td>пенсионер</td>\n",
       "      <td>0</td>\n",
       "      <td>155999</td>\n",
       "      <td>сделка с автомобилем</td>\n",
       "      <td>C</td>\n",
       "    </tr>\n",
       "    <tr>\n",
       "      <th>21522</th>\n",
       "      <td>1</td>\n",
       "      <td>2113.346888</td>\n",
       "      <td>38</td>\n",
       "      <td>среднее</td>\n",
       "      <td>1</td>\n",
       "      <td>гражданский брак</td>\n",
       "      <td>1</td>\n",
       "      <td>M</td>\n",
       "      <td>сотрудник</td>\n",
       "      <td>1</td>\n",
       "      <td>89672</td>\n",
       "      <td>недвижимость</td>\n",
       "      <td>C</td>\n",
       "    </tr>\n",
       "    <tr>\n",
       "      <th>21523</th>\n",
       "      <td>3</td>\n",
       "      <td>3112.481705</td>\n",
       "      <td>38</td>\n",
       "      <td>среднее</td>\n",
       "      <td>1</td>\n",
       "      <td>женат / замужем</td>\n",
       "      <td>0</td>\n",
       "      <td>M</td>\n",
       "      <td>сотрудник</td>\n",
       "      <td>1</td>\n",
       "      <td>244093</td>\n",
       "      <td>на покупку своего автомобиля</td>\n",
       "      <td>B</td>\n",
       "    </tr>\n",
       "    <tr>\n",
       "      <th>21524</th>\n",
       "      <td>2</td>\n",
       "      <td>1984.507589</td>\n",
       "      <td>40</td>\n",
       "      <td>среднее</td>\n",
       "      <td>1</td>\n",
       "      <td>женат / замужем</td>\n",
       "      <td>0</td>\n",
       "      <td>F</td>\n",
       "      <td>сотрудник</td>\n",
       "      <td>0</td>\n",
       "      <td>82047</td>\n",
       "      <td>на покупку автомобиля</td>\n",
       "      <td>C</td>\n",
       "    </tr>\n",
       "  </tbody>\n",
       "</table>\n",
       "<p>21331 rows × 13 columns</p>\n",
       "</div>"
      ],
      "text/plain": [
       "       children  days_employed  dob_years education  education_id  \\\n",
       "0             1    8437.673028         42    высшее             0   \n",
       "1             1    4024.803754         36   среднее             1   \n",
       "2             0    5623.422610         33   среднее             1   \n",
       "3             3    4124.747207         32   среднее             1   \n",
       "4             0  340266.072047         53   среднее             1   \n",
       "...         ...            ...        ...       ...           ...   \n",
       "21520         1    4529.316663         43   среднее             1   \n",
       "21521         0  343937.404131         67   среднее             1   \n",
       "21522         1    2113.346888         38   среднее             1   \n",
       "21523         3    3112.481705         38   среднее             1   \n",
       "21524         2    1984.507589         40   среднее             1   \n",
       "\n",
       "          family_status  family_status_id gender income_type  debt  \\\n",
       "0       женат / замужем                 0      F   сотрудник     0   \n",
       "1       женат / замужем                 0      F   сотрудник     0   \n",
       "2       женат / замужем                 0      M   сотрудник     0   \n",
       "3       женат / замужем                 0      M   сотрудник     0   \n",
       "4      гражданский брак                 1      F   пенсионер     0   \n",
       "...                 ...               ...    ...         ...   ...   \n",
       "21520  гражданский брак                 1      F   компаньон     0   \n",
       "21521   женат / замужем                 0      F   пенсионер     0   \n",
       "21522  гражданский брак                 1      M   сотрудник     1   \n",
       "21523   женат / замужем                 0      M   сотрудник     1   \n",
       "21524   женат / замужем                 0      F   сотрудник     0   \n",
       "\n",
       "       total_income                       purpose total_income_category  \n",
       "0            253875                 покупка жилья                     B  \n",
       "1            112080       приобретение автомобиля                     C  \n",
       "2            145885                 покупка жилья                     C  \n",
       "3            267628    дополнительное образование                     B  \n",
       "4            158616               сыграть свадьбу                     C  \n",
       "...             ...                           ...                   ...  \n",
       "21520        224791             операции с жильем                     B  \n",
       "21521        155999          сделка с автомобилем                     C  \n",
       "21522         89672                  недвижимость                     C  \n",
       "21523        244093  на покупку своего автомобиля                     B  \n",
       "21524         82047         на покупку автомобиля                     C  \n",
       "\n",
       "[21331 rows x 13 columns]"
      ]
     },
     "execution_count": 28,
     "metadata": {},
     "output_type": "execute_result"
    }
   ],
   "source": [
    "data['total_income_category'] = data['total_income'].apply(categorize_income)\n",
    "data"
   ]
  },
  {
   "cell_type": "markdown",
   "id": "a639e58a",
   "metadata": {
    "deletable": false,
    "editable": false,
    "id": "dde49b5c"
   },
   "source": [
    "**Выведем на экран перечень уникальных целей взятия кредита из столбца `purpose`.**"
   ]
  },
  {
   "cell_type": "code",
   "execution_count": 29,
   "id": "7dac631f",
   "metadata": {
    "deletable": false,
    "id": "f67ce9b3",
    "outputId": "673c12d9-7d7e-4ae0-9812-c622c89dd244"
   },
   "outputs": [
    {
     "data": {
      "text/plain": [
       "array(['покупка жилья', 'приобретение автомобиля',\n",
       "       'дополнительное образование', 'сыграть свадьбу',\n",
       "       'операции с жильем', 'образование', 'на проведение свадьбы',\n",
       "       'покупка жилья для семьи', 'покупка недвижимости',\n",
       "       'покупка коммерческой недвижимости', 'покупка жилой недвижимости',\n",
       "       'строительство собственной недвижимости', 'недвижимость',\n",
       "       'строительство недвижимости', 'на покупку подержанного автомобиля',\n",
       "       'на покупку своего автомобиля',\n",
       "       'операции с коммерческой недвижимостью',\n",
       "       'строительство жилой недвижимости', 'жилье',\n",
       "       'операции со своей недвижимостью', 'автомобили',\n",
       "       'заняться образованием', 'сделка с подержанным автомобилем',\n",
       "       'получение образования', 'автомобиль', 'свадьба',\n",
       "       'получение дополнительного образования', 'покупка своего жилья',\n",
       "       'операции с недвижимостью', 'получение высшего образования',\n",
       "       'свой автомобиль', 'сделка с автомобилем',\n",
       "       'профильное образование', 'высшее образование',\n",
       "       'покупка жилья для сдачи', 'на покупку автомобиля', 'ремонт жилью',\n",
       "       'заняться высшим образованием'], dtype=object)"
      ]
     },
     "execution_count": 29,
     "metadata": {},
     "output_type": "execute_result"
    }
   ],
   "source": [
    "data['purpose'].unique()"
   ]
  },
  {
   "cell_type": "markdown",
   "id": "9661b107",
   "metadata": {
    "deletable": false,
    "editable": false,
    "id": "85d0aef0"
   },
   "source": [
    "**Создадим функцию, которая на основании данных из столбца `purpose` сформирует новый столбец `purpose_category`, в который войдут следующие категории:**\n",
    "\n",
    "- `'операции с автомобилем'`,\n",
    "- `'операции с недвижимостью'`,\n",
    "- `'проведение свадьбы'`,\n",
    "- `'получение образования'`.\n",
    "\n",
    "**Например, если в столбце `purpose` находится подстрока `'на покупку автомобиля'`, то в столбце `purpose_category` должна появиться строка `'операции с автомобилем'`.**\n",
    "\n",
    "**Используем собственную функцию с именем `categorize_purpose()` и метод `apply()`. Изучим данные в столбце `purpose` и определим, какие подстроки помогут нам правильно определить категорию.**"
   ]
  },
  {
   "cell_type": "code",
   "execution_count": 30,
   "id": "20299379",
   "metadata": {
    "deletable": false,
    "id": "e149fab4"
   },
   "outputs": [],
   "source": [
    "def categorize_purpose(row):\n",
    "    try:\n",
    "        if 'автом' in row:\n",
    "            return 'операции с автомобилем'\n",
    "        elif 'жил' in row or 'недвиж' in row:\n",
    "            return 'операции с недвижимостью'\n",
    "        elif 'свад' in row:\n",
    "            return 'проведение свадьбы'\n",
    "        elif 'образов' in row:\n",
    "            return 'получение образования'\n",
    "    except:\n",
    "        return 'нет категории'"
   ]
  },
  {
   "cell_type": "code",
   "execution_count": 31,
   "id": "2853ef40",
   "metadata": {
    "deletable": false,
    "id": "bf36e69b"
   },
   "outputs": [],
   "source": [
    "data['purpose_category'] = data['purpose'].apply(categorize_purpose)"
   ]
  },
  {
   "cell_type": "markdown",
   "id": "13679904",
   "metadata": {
    "deletable": false,
    "editable": false,
    "id": "09b242bf"
   },
   "source": [
    "### Шаг 3. Исследуем данные и ответим на вопросы"
   ]
  },
  {
   "cell_type": "markdown",
   "id": "330660b6",
   "metadata": {
    "deletable": false,
    "editable": false,
    "id": "c5d66278"
   },
   "source": [
    "#### 3.1 Есть ли зависимость между количеством детей и возвратом кредита в срок?"
   ]
  },
  {
   "cell_type": "code",
   "execution_count": 46,
   "id": "9b50c0b1",
   "metadata": {
    "deletable": false,
    "id": "2cacfc4a"
   },
   "outputs": [
    {
     "data": {
      "text/html": [
       "<div>\n",
       "<style scoped>\n",
       "    .dataframe tbody tr th:only-of-type {\n",
       "        vertical-align: middle;\n",
       "    }\n",
       "\n",
       "    .dataframe tbody tr th {\n",
       "        vertical-align: top;\n",
       "    }\n",
       "\n",
       "    .dataframe thead th {\n",
       "        text-align: right;\n",
       "    }\n",
       "</style>\n",
       "<table border=\"1\" class=\"dataframe\">\n",
       "  <thead>\n",
       "    <tr style=\"text-align: right;\">\n",
       "      <th></th>\n",
       "      <th>количество должников</th>\n",
       "      <th>количество взявших кредит</th>\n",
       "      <th>доля невозврaтa</th>\n",
       "    </tr>\n",
       "    <tr>\n",
       "      <th>children</th>\n",
       "      <th></th>\n",
       "      <th></th>\n",
       "      <th></th>\n",
       "    </tr>\n",
       "  </thead>\n",
       "  <tbody>\n",
       "    <tr>\n",
       "      <th>0</th>\n",
       "      <td>1063</td>\n",
       "      <td>14091</td>\n",
       "      <td>0.075438</td>\n",
       "    </tr>\n",
       "    <tr>\n",
       "      <th>1</th>\n",
       "      <td>444</td>\n",
       "      <td>4808</td>\n",
       "      <td>0.092346</td>\n",
       "    </tr>\n",
       "    <tr>\n",
       "      <th>2</th>\n",
       "      <td>194</td>\n",
       "      <td>2052</td>\n",
       "      <td>0.094542</td>\n",
       "    </tr>\n",
       "    <tr>\n",
       "      <th>3</th>\n",
       "      <td>27</td>\n",
       "      <td>330</td>\n",
       "      <td>0.081818</td>\n",
       "    </tr>\n",
       "    <tr>\n",
       "      <th>4</th>\n",
       "      <td>4</td>\n",
       "      <td>41</td>\n",
       "      <td>0.097561</td>\n",
       "    </tr>\n",
       "    <tr>\n",
       "      <th>5</th>\n",
       "      <td>0</td>\n",
       "      <td>9</td>\n",
       "      <td>0.000000</td>\n",
       "    </tr>\n",
       "  </tbody>\n",
       "</table>\n",
       "</div>"
      ],
      "text/plain": [
       "          количество должников  количество взявших кредит  доля невозврaтa\n",
       "children                                                                  \n",
       "0                         1063                      14091         0.075438\n",
       "1                          444                       4808         0.092346\n",
       "2                          194                       2052         0.094542\n",
       "3                           27                        330         0.081818\n",
       "4                            4                         41         0.097561\n",
       "5                            0                          9         0.000000"
      ]
     },
     "execution_count": 46,
     "metadata": {},
     "output_type": "execute_result"
    }
   ],
   "source": [
    "data_children_group = data.groupby('children')['debt'].agg(['sum','count','mean'])\n",
    "data_children_group.columns = ['количество должников', 'количество взявших кредит', 'доля невозврaт']\n",
    "data_children_group\n",
    "\n"
   ]
  },
  {
   "cell_type": "code",
   "execution_count": 24,
   "id": "67b014a8",
   "metadata": {},
   "outputs": [
    {
     "data": {
      "text/html": [
       "<div>\n",
       "<style scoped>\n",
       "    .dataframe tbody tr th:only-of-type {\n",
       "        vertical-align: middle;\n",
       "    }\n",
       "\n",
       "    .dataframe tbody tr th {\n",
       "        vertical-align: top;\n",
       "    }\n",
       "\n",
       "    .dataframe thead th {\n",
       "        text-align: right;\n",
       "    }\n",
       "</style>\n",
       "<table border=\"1\" class=\"dataframe\">\n",
       "  <thead>\n",
       "    <tr style=\"text-align: right;\">\n",
       "      <th></th>\n",
       "      <th>sum</th>\n",
       "      <th>count</th>\n",
       "      <th>mean</th>\n",
       "    </tr>\n",
       "    <tr>\n",
       "      <th>children</th>\n",
       "      <th></th>\n",
       "      <th></th>\n",
       "      <th></th>\n",
       "    </tr>\n",
       "  </thead>\n",
       "  <tbody>\n",
       "    <tr>\n",
       "      <th>0</th>\n",
       "      <td>1063</td>\n",
       "      <td>14091</td>\n",
       "      <td>0.075438</td>\n",
       "    </tr>\n",
       "    <tr>\n",
       "      <th>1</th>\n",
       "      <td>444</td>\n",
       "      <td>4808</td>\n",
       "      <td>0.092346</td>\n",
       "    </tr>\n",
       "    <tr>\n",
       "      <th>2</th>\n",
       "      <td>194</td>\n",
       "      <td>2052</td>\n",
       "      <td>0.094542</td>\n",
       "    </tr>\n",
       "    <tr>\n",
       "      <th>3</th>\n",
       "      <td>27</td>\n",
       "      <td>330</td>\n",
       "      <td>0.081818</td>\n",
       "    </tr>\n",
       "    <tr>\n",
       "      <th>4</th>\n",
       "      <td>4</td>\n",
       "      <td>41</td>\n",
       "      <td>0.097561</td>\n",
       "    </tr>\n",
       "    <tr>\n",
       "      <th>5</th>\n",
       "      <td>0</td>\n",
       "      <td>9</td>\n",
       "      <td>0.000000</td>\n",
       "    </tr>\n",
       "  </tbody>\n",
       "</table>\n",
       "</div>"
      ],
      "text/plain": [
       "           sum  count      mean\n",
       "children                       \n",
       "0         1063  14091  0.075438\n",
       "1          444   4808  0.092346\n",
       "2          194   2052  0.094542\n",
       "3           27    330  0.081818\n",
       "4            4     41  0.097561\n",
       "5            0      9  0.000000"
      ]
     },
     "metadata": {},
     "output_type": "display_data"
    }
   ],
   "source": [
    "data_children_group = data.groupby('children')['debt'].agg(['sum','count','mean'])\n",
    "display(data_children_group) \n"
   ]
  },
  {
   "cell_type": "markdown",
   "id": "f11efc22",
   "metadata": {
    "deletable": false,
    "id": "3a6b99ec"
   },
   "source": [
    "**Вывод:** Люди имеющие двоих детей больше просрочивают по кредиту, так же наблюдается не полная картина у кого от 3 до 5 детей. "
   ]
  },
  {
   "cell_type": "markdown",
   "id": "1647174c",
   "metadata": {
    "deletable": false,
    "editable": false,
    "id": "97be82ca"
   },
   "source": [
    "#### 3.2 Есть ли зависимость между семейным положением и возвратом кредита в срок?"
   ]
  },
  {
   "cell_type": "code",
   "execution_count": 52,
   "id": "534661db",
   "metadata": {
    "deletable": false,
    "id": "dc3f7ee8"
   },
   "outputs": [
    {
     "data": {
      "text/html": [
       "<div>\n",
       "<style scoped>\n",
       "    .dataframe tbody tr th:only-of-type {\n",
       "        vertical-align: middle;\n",
       "    }\n",
       "\n",
       "    .dataframe tbody tr th {\n",
       "        vertical-align: top;\n",
       "    }\n",
       "\n",
       "    .dataframe thead th {\n",
       "        text-align: right;\n",
       "    }\n",
       "</style>\n",
       "<table border=\"1\" class=\"dataframe\">\n",
       "  <thead>\n",
       "    <tr style=\"text-align: right;\">\n",
       "      <th></th>\n",
       "      <th>sum_family_status</th>\n",
       "      <th>count_family_status</th>\n",
       "      <th>result_family_status</th>\n",
       "    </tr>\n",
       "    <tr>\n",
       "      <th>family_status</th>\n",
       "      <th></th>\n",
       "      <th></th>\n",
       "      <th></th>\n",
       "    </tr>\n",
       "  </thead>\n",
       "  <tbody>\n",
       "    <tr>\n",
       "      <th>Не женат / не замужем</th>\n",
       "      <td>273</td>\n",
       "      <td>2796</td>\n",
       "      <td>0.097639</td>\n",
       "    </tr>\n",
       "    <tr>\n",
       "      <th>гражданский брак</th>\n",
       "      <td>385</td>\n",
       "      <td>4134</td>\n",
       "      <td>0.093130</td>\n",
       "    </tr>\n",
       "    <tr>\n",
       "      <th>женат / замужем</th>\n",
       "      <td>927</td>\n",
       "      <td>12261</td>\n",
       "      <td>0.075606</td>\n",
       "    </tr>\n",
       "    <tr>\n",
       "      <th>в разводе</th>\n",
       "      <td>84</td>\n",
       "      <td>1189</td>\n",
       "      <td>0.070648</td>\n",
       "    </tr>\n",
       "    <tr>\n",
       "      <th>вдовец / вдова</th>\n",
       "      <td>63</td>\n",
       "      <td>951</td>\n",
       "      <td>0.066246</td>\n",
       "    </tr>\n",
       "  </tbody>\n",
       "</table>\n",
       "</div>"
      ],
      "text/plain": [
       "                       sum_family_status  count_family_status  \\\n",
       "family_status                                                   \n",
       "Не женат / не замужем                273                 2796   \n",
       "гражданский брак                     385                 4134   \n",
       "женат / замужем                      927                12261   \n",
       "в разводе                             84                 1189   \n",
       "вдовец / вдова                        63                  951   \n",
       "\n",
       "                       result_family_status  \n",
       "family_status                                \n",
       "Не женат / не замужем              0.097639  \n",
       "гражданский брак                   0.093130  \n",
       "женат / замужем                    0.075606  \n",
       "в разводе                          0.070648  \n",
       "вдовец / вдова                     0.066246  "
      ]
     },
     "execution_count": 52,
     "metadata": {},
     "output_type": "execute_result"
    }
   ],
   "source": [
    "debt_family_status = pd.DataFrame()\n",
    "debt_family_status['sum_family_status'] = data.groupby('family_status')['debt'].sum()\n",
    "debt_family_status['count_family_status'] = data.groupby('family_status')['debt'].count()\n",
    "debt_family_status['result_family_status'] = debt_family_status['sum_family_status'] / debt_family_status['count_family_status'] \n",
    "debt_family_status.sort_values('result_family_status', ascending = False)\n",
    "\n"
   ]
  },
  {
   "cell_type": "markdown",
   "id": "80d708bb",
   "metadata": {
    "deletable": false,
    "id": "1cef7837"
   },
   "source": [
    "**Вывод:** Заёмщики, которые не в браке или в гражданском браке чаще всего возвращают кредит не в назначенный срок."
   ]
  },
  {
   "cell_type": "markdown",
   "id": "cce4d30e",
   "metadata": {
    "deletable": false,
    "editable": false,
    "id": "1e8b2fca"
   },
   "source": [
    "#### 3.3 Есть ли зависимость между уровнем дохода и возвратом кредита в срок?"
   ]
  },
  {
   "cell_type": "code",
   "execution_count": 53,
   "id": "d42077bf",
   "metadata": {
    "deletable": false,
    "id": "cd7e3720"
   },
   "outputs": [
    {
     "data": {
      "text/html": [
       "<div>\n",
       "<style scoped>\n",
       "    .dataframe tbody tr th:only-of-type {\n",
       "        vertical-align: middle;\n",
       "    }\n",
       "\n",
       "    .dataframe tbody tr th {\n",
       "        vertical-align: top;\n",
       "    }\n",
       "\n",
       "    .dataframe thead th {\n",
       "        text-align: right;\n",
       "    }\n",
       "</style>\n",
       "<table border=\"1\" class=\"dataframe\">\n",
       "  <thead>\n",
       "    <tr style=\"text-align: right;\">\n",
       "      <th></th>\n",
       "      <th>количество должников</th>\n",
       "      <th>количество взявших кредит</th>\n",
       "      <th>доля невозврaтa</th>\n",
       "    </tr>\n",
       "    <tr>\n",
       "      <th>total_income_category</th>\n",
       "      <th></th>\n",
       "      <th></th>\n",
       "      <th></th>\n",
       "    </tr>\n",
       "  </thead>\n",
       "  <tbody>\n",
       "    <tr>\n",
       "      <th>A</th>\n",
       "      <td>2</td>\n",
       "      <td>25</td>\n",
       "      <td>0.080000</td>\n",
       "    </tr>\n",
       "    <tr>\n",
       "      <th>B</th>\n",
       "      <td>354</td>\n",
       "      <td>5014</td>\n",
       "      <td>0.070602</td>\n",
       "    </tr>\n",
       "    <tr>\n",
       "      <th>C</th>\n",
       "      <td>1353</td>\n",
       "      <td>15921</td>\n",
       "      <td>0.084982</td>\n",
       "    </tr>\n",
       "    <tr>\n",
       "      <th>D</th>\n",
       "      <td>21</td>\n",
       "      <td>349</td>\n",
       "      <td>0.060172</td>\n",
       "    </tr>\n",
       "    <tr>\n",
       "      <th>E</th>\n",
       "      <td>2</td>\n",
       "      <td>22</td>\n",
       "      <td>0.090909</td>\n",
       "    </tr>\n",
       "  </tbody>\n",
       "</table>\n",
       "</div>"
      ],
      "text/plain": [
       "                       количество должников  количество взявших кредит  \\\n",
       "total_income_category                                                    \n",
       "A                                         2                         25   \n",
       "B                                       354                       5014   \n",
       "C                                      1353                      15921   \n",
       "D                                        21                        349   \n",
       "E                                         2                         22   \n",
       "\n",
       "                       доля невозврaтa  \n",
       "total_income_category                   \n",
       "A                             0.080000  \n",
       "B                             0.070602  \n",
       "C                             0.084982  \n",
       "D                             0.060172  \n",
       "E                             0.090909  "
      ]
     },
     "execution_count": 53,
     "metadata": {},
     "output_type": "execute_result"
    }
   ],
   "source": [
    "\n",
    "\n",
    "debt_from_total_income = pd.DataFrame()\n",
    "debt_from_total_income['sum'] = data.groupby('total_income_category')['debt'].sum()\n",
    "debt_from_total_income['count'] = data.groupby('total_income_category')['debt'].count()\n",
    "debt_from_total_income['conversion'] = debt_from_total_income['sum'] / debt_from_total_income['count']\n",
    "debt_from_total_income.columns = ['количество должников', 'количество взявших кредит', 'доля невозврaтa']\n",
    "debt_from_total_income\n"
   ]
  },
  {
   "cell_type": "markdown",
   "id": "2bc25fb8",
   "metadata": {
    "deletable": false,
    "id": "e8593def"
   },
   "source": [
    "**Вывод:** Группа В,С  являются самыми критичными должниками, для остальных групп мало данных для анализа."
   ]
  },
  {
   "cell_type": "markdown",
   "id": "869263f0",
   "metadata": {
    "deletable": false,
    "editable": false,
    "id": "99ecbd1f"
   },
   "source": [
    "#### 3.4 Как разные цели кредита влияют на его возврат в срок?"
   ]
  },
  {
   "cell_type": "code",
   "execution_count": 54,
   "id": "ce399e26",
   "metadata": {
    "deletable": false,
    "id": "2b687290"
   },
   "outputs": [
    {
     "data": {
      "text/html": [
       "<div>\n",
       "<style scoped>\n",
       "    .dataframe tbody tr th:only-of-type {\n",
       "        vertical-align: middle;\n",
       "    }\n",
       "\n",
       "    .dataframe tbody tr th {\n",
       "        vertical-align: top;\n",
       "    }\n",
       "\n",
       "    .dataframe thead th {\n",
       "        text-align: right;\n",
       "    }\n",
       "</style>\n",
       "<table border=\"1\" class=\"dataframe\">\n",
       "  <thead>\n",
       "    <tr style=\"text-align: right;\">\n",
       "      <th></th>\n",
       "      <th>sum_purpose_category</th>\n",
       "      <th>count_purpose_category</th>\n",
       "      <th>result_purpose_category</th>\n",
       "    </tr>\n",
       "    <tr>\n",
       "      <th>purpose_category</th>\n",
       "      <th></th>\n",
       "      <th></th>\n",
       "      <th></th>\n",
       "    </tr>\n",
       "  </thead>\n",
       "  <tbody>\n",
       "    <tr>\n",
       "      <th>операции с автомобилем</th>\n",
       "      <td>400</td>\n",
       "      <td>4279</td>\n",
       "      <td>0.093480</td>\n",
       "    </tr>\n",
       "    <tr>\n",
       "      <th>получение образования</th>\n",
       "      <td>369</td>\n",
       "      <td>3988</td>\n",
       "      <td>0.092528</td>\n",
       "    </tr>\n",
       "    <tr>\n",
       "      <th>проведение свадьбы</th>\n",
       "      <td>183</td>\n",
       "      <td>2313</td>\n",
       "      <td>0.079118</td>\n",
       "    </tr>\n",
       "    <tr>\n",
       "      <th>операции с недвижимостью</th>\n",
       "      <td>780</td>\n",
       "      <td>10751</td>\n",
       "      <td>0.072551</td>\n",
       "    </tr>\n",
       "  </tbody>\n",
       "</table>\n",
       "</div>"
      ],
      "text/plain": [
       "                          sum_purpose_category  count_purpose_category  \\\n",
       "purpose_category                                                         \n",
       "операции с автомобилем                     400                    4279   \n",
       "получение образования                      369                    3988   \n",
       "проведение свадьбы                         183                    2313   \n",
       "операции с недвижимостью                   780                   10751   \n",
       "\n",
       "                          result_purpose_category  \n",
       "purpose_category                                   \n",
       "операции с автомобилем                   0.093480  \n",
       "получение образования                    0.092528  \n",
       "проведение свадьбы                       0.079118  \n",
       "операции с недвижимостью                 0.072551  "
      ]
     },
     "execution_count": 54,
     "metadata": {},
     "output_type": "execute_result"
    }
   ],
   "source": [
    "debt_purpose_category = pd.DataFrame()\n",
    "debt_purpose_category['sum_purpose_category'] = data.groupby('purpose_category')['debt'].sum()\n",
    "debt_purpose_category['count_purpose_category'] = data.groupby('purpose_category')['debt'].count()\n",
    "debt_purpose_category['result_purpose_category'] = debt_purpose_category['sum_purpose_category'] / debt_purpose_category['count_purpose_category'] \n",
    "debt_purpose_category.sort_values('result_purpose_category', ascending = False)"
   ]
  },
  {
   "cell_type": "markdown",
   "id": "825657d1",
   "metadata": {
    "deletable": false,
    "id": "b4bb2ce6"
   },
   "source": [
    "**Вывод:** Чаще просрочка у тех кому нужен кредит на авто и образование. Кредиты на свадьбу просрачивают реже - примерно как и в случае недвижимости."
   ]
  },
  {
   "cell_type": "markdown",
   "id": "143525ef",
   "metadata": {
    "deletable": false,
    "editable": false,
    "id": "09c3ac4c"
   },
   "source": [
    "#### 3.5 Приведите возможные причины появления пропусков в исходных данных."
   ]
  },
  {
   "cell_type": "markdown",
   "id": "c9414261",
   "metadata": {
    "deletable": false,
    "id": "9da2ceda"
   },
   "source": [
    "*Ответ:* Ошибки ввода данных, сокрытие информации, фрод."
   ]
  },
  {
   "cell_type": "markdown",
   "id": "465b6adf",
   "metadata": {
    "deletable": false,
    "editable": false,
    "id": "7b0487d6"
   },
   "source": [
    "#### 3.6 Объясните, почему заполнить пропуски медианным значением — лучшее решение для количественных переменных."
   ]
  },
  {
   "cell_type": "markdown",
   "id": "252cdba3",
   "metadata": {
    "deletable": false,
    "id": "7ecf2b8e"
   },
   "source": [
    "*Ответ:* Среднее значение некорректно характеризует данные, когда некоторые значения сильно выделяются среди большинства.Медиана — это такое число в выборке, что ровно половина элементов больше него, а другая половина — меньше, соответственно медина будет более точным значением заполнением пропусков и более устойчива к выбросам."
   ]
  },
  {
   "cell_type": "markdown",
   "id": "adabce5a",
   "metadata": {
    "deletable": false,
    "editable": false,
    "id": "6db5255a"
   },
   "source": [
    "### Шаг 4: Общий вывод."
   ]
  },
  {
   "cell_type": "markdown",
   "id": "5572c6af",
   "metadata": {
    "deletable": false,
    "id": "bad65432"
   },
   "source": [
    "Гипотезы и их результы:\n",
    "\n",
    "1. Люди имеющие двоих детей больше просрочивают по кредиту, так же наблюдается не полная картина у кого от 3 до 5 детей;\n",
    "\n",
    "2. Заёмщики, которые не в браке или в гражданском браке чаще всего возвращают кредит не в назначенный срок;\n",
    "\n",
    "3. Группа В,С  являются самыми критичными должниками, для остальных групп мало данных для анализа;\n",
    "\n",
    "4. Чаще просрочка у тех кому нужен кредит на авто и образование. Кредиты на свадьбу просрачивают реже - примерно как и в случае недвижимости.\n",
    "\n",
    "Общие результаты таковы, что на не вовремя выплаченный кредит влиет почти каждый фактор, начиная от количества детей, заканчивая целью кредита, мы проанализировали и дали ответ на основные вопросы (находится выше), так к примеру если и заёмщика доход около 70 тыс, это не значит, что он не сможет выплатить вовремя взятый кредит, так что не стоит опираться лишь на один из факторов, а подходить комплексно, изучая больше аспектов и важных факторов клиента."
   ]
  }
 ],
 "metadata": {
  "ExecuteTimeLog": [
   {
    "duration": 483,
    "start_time": "2022-10-15T10:18:49.394Z"
   },
   {
    "duration": 3,
    "start_time": "2022-10-15T10:41:41.334Z"
   },
   {
    "duration": 9,
    "start_time": "2022-10-15T10:43:10.373Z"
   },
   {
    "duration": 30,
    "start_time": "2022-10-15T10:43:50.296Z"
   },
   {
    "duration": 11,
    "start_time": "2022-10-15T10:45:46.348Z"
   },
   {
    "duration": 11,
    "start_time": "2022-10-15T10:47:11.174Z"
   },
   {
    "duration": 5,
    "start_time": "2022-10-15T10:51:01.419Z"
   },
   {
    "duration": 17,
    "start_time": "2022-10-15T10:51:39.861Z"
   },
   {
    "duration": 12,
    "start_time": "2022-10-15T11:31:57.734Z"
   },
   {
    "duration": 15,
    "start_time": "2022-10-15T11:34:04.735Z"
   },
   {
    "duration": 25,
    "start_time": "2022-10-15T11:36:35.585Z"
   },
   {
    "duration": 78,
    "start_time": "2022-10-15T12:16:13.158Z"
   },
   {
    "duration": 20,
    "start_time": "2022-10-15T12:16:34.520Z"
   },
   {
    "duration": 25,
    "start_time": "2022-10-15T12:17:17.598Z"
   },
   {
    "duration": 15,
    "start_time": "2022-10-15T12:22:34.678Z"
   },
   {
    "duration": 15,
    "start_time": "2022-10-15T12:23:59.946Z"
   },
   {
    "duration": 17,
    "start_time": "2022-10-15T12:24:27.307Z"
   },
   {
    "duration": 12,
    "start_time": "2022-10-15T12:28:24.973Z"
   },
   {
    "duration": 19,
    "start_time": "2022-10-15T12:29:46.855Z"
   },
   {
    "duration": 8,
    "start_time": "2022-10-15T12:32:37.910Z"
   },
   {
    "duration": 4,
    "start_time": "2022-10-15T12:33:14.208Z"
   },
   {
    "duration": 31,
    "start_time": "2022-10-15T12:33:27.812Z"
   },
   {
    "duration": 12,
    "start_time": "2022-10-15T12:35:08.185Z"
   },
   {
    "duration": 23,
    "start_time": "2022-10-15T12:37:01.912Z"
   },
   {
    "duration": 27,
    "start_time": "2022-10-15T12:40:20.694Z"
   },
   {
    "duration": 45,
    "start_time": "2022-10-17T06:23:59.047Z"
   },
   {
    "duration": 97,
    "start_time": "2022-10-17T06:25:43.716Z"
   },
   {
    "duration": 7,
    "start_time": "2022-10-17T06:25:57.321Z"
   },
   {
    "duration": 6,
    "start_time": "2022-10-17T06:25:59.386Z"
   },
   {
    "duration": 6,
    "start_time": "2022-10-17T06:38:29.989Z"
   },
   {
    "duration": 7,
    "start_time": "2022-10-17T06:38:30.967Z"
   },
   {
    "duration": 6,
    "start_time": "2022-10-17T06:38:31.384Z"
   },
   {
    "duration": 6,
    "start_time": "2022-10-17T06:38:31.705Z"
   },
   {
    "duration": 6,
    "start_time": "2022-10-17T06:38:31.988Z"
   },
   {
    "duration": 7,
    "start_time": "2022-10-17T06:38:59.092Z"
   },
   {
    "duration": 6,
    "start_time": "2022-10-17T06:38:59.922Z"
   },
   {
    "duration": 6,
    "start_time": "2022-10-17T06:39:00.329Z"
   },
   {
    "duration": 7,
    "start_time": "2022-10-17T06:39:00.749Z"
   },
   {
    "duration": 7,
    "start_time": "2022-10-17T06:39:07.516Z"
   },
   {
    "duration": 6,
    "start_time": "2022-10-17T06:39:09.167Z"
   },
   {
    "duration": 7,
    "start_time": "2022-10-17T06:39:09.765Z"
   },
   {
    "duration": 7,
    "start_time": "2022-10-17T06:39:10.183Z"
   },
   {
    "duration": 7,
    "start_time": "2022-10-17T06:39:10.548Z"
   },
   {
    "duration": 6,
    "start_time": "2022-10-17T06:39:10.775Z"
   },
   {
    "duration": 7,
    "start_time": "2022-10-17T06:39:11.033Z"
   },
   {
    "duration": 6,
    "start_time": "2022-10-17T06:39:47.891Z"
   },
   {
    "duration": 5,
    "start_time": "2022-10-17T06:39:48.328Z"
   },
   {
    "duration": 6,
    "start_time": "2022-10-17T06:39:48.645Z"
   },
   {
    "duration": 7,
    "start_time": "2022-10-17T06:39:48.871Z"
   },
   {
    "duration": 7,
    "start_time": "2022-10-17T06:39:49.085Z"
   },
   {
    "duration": 6,
    "start_time": "2022-10-17T06:39:49.397Z"
   },
   {
    "duration": 6,
    "start_time": "2022-10-17T06:39:49.786Z"
   },
   {
    "duration": 6,
    "start_time": "2022-10-17T06:39:50.163Z"
   },
   {
    "duration": 6,
    "start_time": "2022-10-17T06:39:50.579Z"
   },
   {
    "duration": 6,
    "start_time": "2022-10-17T06:39:50.986Z"
   },
   {
    "duration": 7,
    "start_time": "2022-10-17T06:39:51.434Z"
   },
   {
    "duration": 8,
    "start_time": "2022-10-17T06:39:52.649Z"
   },
   {
    "duration": 8,
    "start_time": "2022-10-17T06:39:53.146Z"
   },
   {
    "duration": 10,
    "start_time": "2022-10-17T06:42:34.998Z"
   },
   {
    "duration": 706,
    "start_time": "2022-10-17T06:43:35.814Z"
   },
   {
    "duration": 32,
    "start_time": "2022-10-17T06:43:43.039Z"
   },
   {
    "duration": 15,
    "start_time": "2022-10-17T06:43:49.406Z"
   },
   {
    "duration": 9,
    "start_time": "2022-10-17T06:43:54.935Z"
   },
   {
    "duration": 41,
    "start_time": "2022-10-17T06:44:00.963Z"
   },
   {
    "duration": 3,
    "start_time": "2022-10-17T06:44:05.754Z"
   },
   {
    "duration": 11,
    "start_time": "2022-10-17T06:44:08.776Z"
   },
   {
    "duration": 5,
    "start_time": "2022-10-17T06:44:15.652Z"
   },
   {
    "duration": 7,
    "start_time": "2022-10-17T06:44:19.469Z"
   },
   {
    "duration": 10,
    "start_time": "2022-10-17T06:44:22.495Z"
   },
   {
    "duration": 35,
    "start_time": "2022-10-17T06:44:27.445Z"
   },
   {
    "duration": 9,
    "start_time": "2022-10-17T06:44:31.742Z"
   },
   {
    "duration": 3,
    "start_time": "2022-10-17T06:44:37.745Z"
   },
   {
    "duration": 11,
    "start_time": "2022-10-17T06:44:42.347Z"
   },
   {
    "duration": 18,
    "start_time": "2022-10-17T06:44:45.743Z"
   },
   {
    "duration": 17,
    "start_time": "2022-10-17T06:44:50.335Z"
   },
   {
    "duration": 3,
    "start_time": "2022-10-17T06:44:54.347Z"
   },
   {
    "duration": 9,
    "start_time": "2022-10-17T06:44:58.649Z"
   },
   {
    "duration": 5,
    "start_time": "2022-10-17T06:45:01.959Z"
   },
   {
    "duration": 4,
    "start_time": "2022-10-17T06:45:08.507Z"
   },
   {
    "duration": 10,
    "start_time": "2022-10-17T06:45:11.759Z"
   },
   {
    "duration": 25,
    "start_time": "2022-10-17T06:45:19.889Z"
   },
   {
    "duration": 16,
    "start_time": "2022-10-17T06:45:25.065Z"
   },
   {
    "duration": 18,
    "start_time": "2022-10-17T06:45:32.134Z"
   },
   {
    "duration": 3,
    "start_time": "2022-10-17T07:07:07.858Z"
   },
   {
    "duration": 30,
    "start_time": "2022-10-17T07:08:43.438Z"
   },
   {
    "duration": 19,
    "start_time": "2022-10-17T07:09:35.194Z"
   },
   {
    "duration": 18,
    "start_time": "2022-10-17T07:10:18.109Z"
   },
   {
    "duration": 42,
    "start_time": "2022-10-17T07:17:18.659Z"
   },
   {
    "duration": 21,
    "start_time": "2022-10-17T07:19:16.861Z"
   },
   {
    "duration": 26,
    "start_time": "2022-10-17T07:26:46.520Z"
   },
   {
    "duration": 19,
    "start_time": "2022-10-17T07:26:54.832Z"
   },
   {
    "duration": 28,
    "start_time": "2022-10-17T07:27:32.064Z"
   },
   {
    "duration": 30,
    "start_time": "2022-10-17T07:28:52.974Z"
   },
   {
    "duration": 20,
    "start_time": "2022-10-17T07:35:45.483Z"
   },
   {
    "duration": 27,
    "start_time": "2022-10-17T07:39:00.030Z"
   },
   {
    "duration": 26,
    "start_time": "2022-10-17T07:39:39.916Z"
   },
   {
    "duration": 20,
    "start_time": "2022-10-17T07:39:59.689Z"
   },
   {
    "duration": 28,
    "start_time": "2022-10-17T07:43:35.027Z"
   },
   {
    "duration": 15,
    "start_time": "2022-10-17T08:02:27.745Z"
   },
   {
    "duration": 12,
    "start_time": "2022-10-17T09:36:20.019Z"
   },
   {
    "duration": 17,
    "start_time": "2022-10-17T09:36:45.978Z"
   },
   {
    "duration": 13,
    "start_time": "2022-10-17T09:38:22.160Z"
   },
   {
    "duration": 18,
    "start_time": "2022-10-17T09:46:33.342Z"
   },
   {
    "duration": 18,
    "start_time": "2022-10-17T09:52:55.733Z"
   },
   {
    "duration": 19,
    "start_time": "2022-10-17T09:53:19.932Z"
   },
   {
    "duration": 17,
    "start_time": "2022-10-17T09:56:12.987Z"
   },
   {
    "duration": 13,
    "start_time": "2022-10-17T09:58:42.432Z"
   },
   {
    "duration": 13,
    "start_time": "2022-10-17T09:58:47.675Z"
   },
   {
    "duration": 300,
    "start_time": "2022-10-17T10:00:13.655Z"
   },
   {
    "duration": 363,
    "start_time": "2022-10-17T10:00:14.845Z"
   },
   {
    "duration": 20,
    "start_time": "2022-10-17T10:01:13.496Z"
   },
   {
    "duration": 24,
    "start_time": "2022-10-17T10:02:39.649Z"
   },
   {
    "duration": 1166,
    "start_time": "2022-10-17T10:03:05.358Z"
   },
   {
    "duration": 1307,
    "start_time": "2022-10-17T10:03:07.451Z"
   },
   {
    "duration": 20,
    "start_time": "2022-10-17T10:03:27.022Z"
   },
   {
    "duration": 16,
    "start_time": "2022-10-17T10:20:42.480Z"
   },
   {
    "duration": 16,
    "start_time": "2022-10-17T10:21:04.008Z"
   },
   {
    "duration": 23,
    "start_time": "2022-10-17T10:32:34.048Z"
   },
   {
    "duration": 30,
    "start_time": "2022-10-17T10:33:03.664Z"
   },
   {
    "duration": 33,
    "start_time": "2022-10-17T10:38:22.921Z"
   },
   {
    "duration": 24,
    "start_time": "2022-10-17T10:40:18.818Z"
   },
   {
    "duration": 22,
    "start_time": "2022-10-17T10:40:19.661Z"
   },
   {
    "duration": 34,
    "start_time": "2022-10-17T10:41:35.457Z"
   },
   {
    "duration": 26,
    "start_time": "2022-10-17T10:43:50.138Z"
   },
   {
    "duration": 16,
    "start_time": "2022-10-17T10:46:16.042Z"
   },
   {
    "duration": 14,
    "start_time": "2022-10-17T10:48:38.323Z"
   },
   {
    "duration": 14,
    "start_time": "2022-10-17T10:48:58.065Z"
   },
   {
    "duration": 14,
    "start_time": "2022-10-17T10:49:19.180Z"
   },
   {
    "duration": 34,
    "start_time": "2022-10-17T10:50:19.444Z"
   },
   {
    "duration": 15,
    "start_time": "2022-10-17T10:50:44.385Z"
   },
   {
    "duration": 14,
    "start_time": "2022-10-17T10:50:47.375Z"
   },
   {
    "duration": 34,
    "start_time": "2022-10-17T10:50:58.946Z"
   },
   {
    "duration": 33,
    "start_time": "2022-10-17T10:52:55.363Z"
   },
   {
    "duration": 30,
    "start_time": "2022-10-17T10:54:17.962Z"
   },
   {
    "duration": 23,
    "start_time": "2022-10-17T10:56:01.462Z"
   },
   {
    "duration": 23,
    "start_time": "2022-10-17T10:56:30.298Z"
   },
   {
    "duration": 15,
    "start_time": "2022-10-17T11:04:17.727Z"
   },
   {
    "duration": 13,
    "start_time": "2022-10-17T11:09:36.268Z"
   },
   {
    "duration": 17,
    "start_time": "2022-10-17T11:10:29.636Z"
   },
   {
    "duration": 32,
    "start_time": "2022-10-17T11:12:41.984Z"
   },
   {
    "duration": 17,
    "start_time": "2022-10-17T11:13:48.279Z"
   },
   {
    "duration": 66,
    "start_time": "2022-10-17T12:06:42.998Z"
   },
   {
    "duration": 813,
    "start_time": "2022-10-17T12:06:49.498Z"
   },
   {
    "duration": 27,
    "start_time": "2022-10-17T12:06:50.313Z"
   },
   {
    "duration": 18,
    "start_time": "2022-10-17T12:06:50.341Z"
   },
   {
    "duration": 12,
    "start_time": "2022-10-17T12:06:50.361Z"
   },
   {
    "duration": 53,
    "start_time": "2022-10-17T12:06:50.375Z"
   },
   {
    "duration": 4,
    "start_time": "2022-10-17T12:06:50.430Z"
   },
   {
    "duration": 13,
    "start_time": "2022-10-17T12:06:50.436Z"
   },
   {
    "duration": 5,
    "start_time": "2022-10-17T12:06:50.451Z"
   },
   {
    "duration": 40,
    "start_time": "2022-10-17T12:06:50.457Z"
   },
   {
    "duration": 8,
    "start_time": "2022-10-17T12:06:50.499Z"
   },
   {
    "duration": 42,
    "start_time": "2022-10-17T12:06:50.509Z"
   },
   {
    "duration": 12,
    "start_time": "2022-10-17T12:06:50.553Z"
   },
   {
    "duration": 23,
    "start_time": "2022-10-17T12:06:50.567Z"
   },
   {
    "duration": 13,
    "start_time": "2022-10-17T12:06:50.594Z"
   },
   {
    "duration": 24,
    "start_time": "2022-10-17T12:06:50.609Z"
   },
   {
    "duration": 20,
    "start_time": "2022-10-17T12:06:50.636Z"
   },
   {
    "duration": 36,
    "start_time": "2022-10-17T12:06:50.658Z"
   },
   {
    "duration": 43,
    "start_time": "2022-10-17T12:06:50.697Z"
   },
   {
    "duration": 7,
    "start_time": "2022-10-17T12:06:50.743Z"
   },
   {
    "duration": 6,
    "start_time": "2022-10-17T12:06:50.752Z"
   },
   {
    "duration": 37,
    "start_time": "2022-10-17T12:06:50.760Z"
   },
   {
    "duration": 64,
    "start_time": "2022-10-17T12:06:50.800Z"
   },
   {
    "duration": 0,
    "start_time": "2022-10-17T12:06:50.865Z"
   },
   {
    "duration": 0,
    "start_time": "2022-10-17T12:06:50.867Z"
   },
   {
    "duration": 0,
    "start_time": "2022-10-17T12:06:50.868Z"
   },
   {
    "duration": 0,
    "start_time": "2022-10-17T12:06:50.870Z"
   },
   {
    "duration": 14,
    "start_time": "2022-10-17T12:07:15.336Z"
   },
   {
    "duration": 25,
    "start_time": "2022-10-17T12:09:01.426Z"
   },
   {
    "duration": 14,
    "start_time": "2022-10-17T12:09:59.518Z"
   },
   {
    "duration": 17,
    "start_time": "2022-10-17T12:10:26.229Z"
   },
   {
    "duration": 18,
    "start_time": "2022-10-17T12:23:50.018Z"
   },
   {
    "duration": 24,
    "start_time": "2022-10-17T12:33:09.398Z"
   },
   {
    "duration": 22,
    "start_time": "2022-10-17T12:47:14.041Z"
   },
   {
    "duration": 21,
    "start_time": "2022-10-17T12:53:11.498Z"
   },
   {
    "duration": 11,
    "start_time": "2022-10-17T15:00:53.084Z"
   },
   {
    "duration": 17,
    "start_time": "2022-10-17T15:08:11.470Z"
   },
   {
    "duration": 91,
    "start_time": "2022-10-18T10:24:28.321Z"
   },
   {
    "duration": 71,
    "start_time": "2022-10-18T10:28:40.997Z"
   },
   {
    "duration": 63,
    "start_time": "2022-10-18T10:29:18.460Z"
   },
   {
    "duration": 106,
    "start_time": "2022-10-18T10:29:31.953Z"
   },
   {
    "duration": 49,
    "start_time": "2022-10-18T10:29:45.982Z"
   },
   {
    "duration": 6,
    "start_time": "2022-10-18T10:30:21.210Z"
   },
   {
    "duration": 8,
    "start_time": "2022-10-18T10:31:18.948Z"
   },
   {
    "duration": 6,
    "start_time": "2022-10-18T10:32:02.968Z"
   },
   {
    "duration": 6,
    "start_time": "2022-10-18T10:32:04.060Z"
   },
   {
    "duration": 6,
    "start_time": "2022-10-18T10:32:13.730Z"
   },
   {
    "duration": 691,
    "start_time": "2022-10-18T10:32:26.904Z"
   },
   {
    "duration": 22,
    "start_time": "2022-10-18T10:32:30.585Z"
   },
   {
    "duration": 14,
    "start_time": "2022-10-18T10:32:36.344Z"
   },
   {
    "duration": 10,
    "start_time": "2022-10-18T10:32:39.941Z"
   },
   {
    "duration": 30,
    "start_time": "2022-10-18T10:32:43.437Z"
   },
   {
    "duration": 4,
    "start_time": "2022-10-18T10:32:47.906Z"
   },
   {
    "duration": 7,
    "start_time": "2022-10-18T10:32:50.791Z"
   },
   {
    "duration": 4,
    "start_time": "2022-10-18T10:32:54.856Z"
   },
   {
    "duration": 6,
    "start_time": "2022-10-18T10:32:58.975Z"
   },
   {
    "duration": 4,
    "start_time": "2022-10-18T10:33:02.165Z"
   },
   {
    "duration": 29,
    "start_time": "2022-10-18T10:33:06.723Z"
   },
   {
    "duration": 8,
    "start_time": "2022-10-18T10:33:10.140Z"
   },
   {
    "duration": 4,
    "start_time": "2022-10-18T10:33:13.982Z"
   },
   {
    "duration": 10,
    "start_time": "2022-10-18T10:33:17.269Z"
   },
   {
    "duration": 19,
    "start_time": "2022-10-18T10:33:20.296Z"
   },
   {
    "duration": 17,
    "start_time": "2022-10-18T10:33:23.233Z"
   },
   {
    "duration": 3,
    "start_time": "2022-10-18T10:33:28.008Z"
   },
   {
    "duration": 25,
    "start_time": "2022-10-18T10:33:31.871Z"
   },
   {
    "duration": 6,
    "start_time": "2022-10-18T10:33:36.107Z"
   },
   {
    "duration": 4,
    "start_time": "2022-10-18T10:33:40.904Z"
   },
   {
    "duration": 8,
    "start_time": "2022-10-18T10:33:44.211Z"
   },
   {
    "duration": 6,
    "start_time": "2022-10-18T10:33:50.107Z"
   },
   {
    "duration": 10,
    "start_time": "2022-10-18T10:34:11.738Z"
   },
   {
    "duration": 2700,
    "start_time": "2022-10-18T10:35:00.932Z"
   },
   {
    "duration": 7,
    "start_time": "2022-10-18T10:36:19.126Z"
   },
   {
    "duration": 9,
    "start_time": "2022-10-18T10:36:43.182Z"
   },
   {
    "duration": 9,
    "start_time": "2022-10-18T10:37:28.152Z"
   },
   {
    "duration": 1586,
    "start_time": "2022-10-18T10:37:45.345Z"
   },
   {
    "duration": 1146,
    "start_time": "2022-10-18T10:38:05.022Z"
   },
   {
    "duration": 936,
    "start_time": "2022-10-18T10:38:45.622Z"
   },
   {
    "duration": 8,
    "start_time": "2022-10-18T10:39:37.679Z"
   },
   {
    "duration": 11,
    "start_time": "2022-10-18T10:41:04.709Z"
   },
   {
    "duration": 6,
    "start_time": "2022-10-18T10:41:21.646Z"
   },
   {
    "duration": 7,
    "start_time": "2022-10-18T10:41:28.502Z"
   },
   {
    "duration": 11,
    "start_time": "2022-10-18T10:41:37.108Z"
   },
   {
    "duration": 10,
    "start_time": "2022-10-18T10:46:52.489Z"
   },
   {
    "duration": 22,
    "start_time": "2022-10-18T10:53:08.361Z"
   },
   {
    "duration": 14,
    "start_time": "2022-10-18T10:54:38.492Z"
   },
   {
    "duration": 17,
    "start_time": "2022-10-18T10:56:27.857Z"
   },
   {
    "duration": 10,
    "start_time": "2022-10-18T10:57:25.065Z"
   },
   {
    "duration": 15,
    "start_time": "2022-10-18T10:57:40.546Z"
   },
   {
    "duration": 15,
    "start_time": "2022-10-18T11:12:24.023Z"
   },
   {
    "duration": 12,
    "start_time": "2022-10-18T11:12:31.259Z"
   },
   {
    "duration": 15,
    "start_time": "2022-10-18T11:12:36.999Z"
   }
  ],
  "colab": {
   "name": "dpp_template_part2.ipynb",
   "provenance": []
  },
  "kernelspec": {
   "display_name": "Python 3 (ipykernel)",
   "language": "python",
   "name": "python3"
  },
  "language_info": {
   "codemirror_mode": {
    "name": "ipython",
    "version": 3
   },
   "file_extension": ".py",
   "mimetype": "text/x-python",
   "name": "python",
   "nbconvert_exporter": "python",
   "pygments_lexer": "ipython3",
   "version": "3.9.5"
  },
  "toc": {
   "base_numbering": 1,
   "nav_menu": {},
   "number_sections": true,
   "sideBar": true,
   "skip_h1_title": true,
   "title_cell": "Table of Contents",
   "title_sidebar": "Contents",
   "toc_cell": false,
   "toc_position": {},
   "toc_section_display": true,
   "toc_window_display": false
  }
 },
 "nbformat": 4,
 "nbformat_minor": 5
}
